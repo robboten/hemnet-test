{
 "cells": [
  {
   "cell_type": "code",
   "execution_count": 160,
   "id": "361e38e9",
   "metadata": {},
   "outputs": [],
   "source": [
    "import pandas as pd\n",
    "from lxml import etree\n",
    "import requests"
   ]
  },
  {
   "cell_type": "markdown",
   "id": "6a6c18e7",
   "metadata": {},
   "source": [
    "---- using HTML response ----"
   ]
  },
  {
   "cell_type": "code",
   "execution_count": 161,
   "id": "0f7d7e2b",
   "metadata": {
    "scrolled": false
   },
   "outputs": [
    {
     "data": {
      "text/plain": [
       "'https://www.hemnet.se/bostader?housing_form_groups=apartments&location_ids=473498&item_types=bostadsratt'"
      ]
     },
     "execution_count": 161,
     "metadata": {},
     "output_type": "execute_result"
    }
   ],
   "source": [
    "url = \"https://www.hemnet.se/bostader\"\n",
    "params= {\n",
    "    'housing_form_groups':'apartments',\n",
    "    'location_ids':'473498',\n",
    "    'item_types':'bostadsratt'\n",
    "}\n",
    "payload={}\n",
    "\n",
    "headers = {\n",
    "    'User-Agent': 'Mozilla/5.0 (Windows NT 6.1; WOW64) AppleWebKit/537.36 (KHTML, like Gecko) Chrome/56.0.2924.76 Safari/537.36'\n",
    "}\n",
    "\n",
    "response = requests.request(\"GET\", url, headers=headers, data=payload, params=params)\n",
    "response.url"
   ]
  },
  {
   "cell_type": "markdown",
   "id": "e751c449",
   "metadata": {},
   "source": [
    "--------- w beautiful soup ------------"
   ]
  },
  {
   "cell_type": "code",
   "execution_count": 162,
   "id": "f4cf58b1",
   "metadata": {},
   "outputs": [],
   "source": [
    "from bs4 import BeautifulSoup"
   ]
  },
  {
   "cell_type": "code",
   "execution_count": 163,
   "id": "724489a8",
   "metadata": {},
   "outputs": [],
   "source": [
    "soup = BeautifulSoup(response.content, \"html.parser\")"
   ]
  },
  {
   "cell_type": "markdown",
   "id": "f5b4e843",
   "metadata": {},
   "source": [
    "---- search thru all the cards in the ul list ---"
   ]
  },
  {
   "cell_type": "code",
   "execution_count": 167,
   "id": "803f270d",
   "metadata": {},
   "outputs": [],
   "source": [
    "cards=soup.select('#result > ul > li > a')\n",
    "#cards"
   ]
  },
  {
   "cell_type": "code",
   "execution_count": 168,
   "id": "c7ee509c",
   "metadata": {},
   "outputs": [
    {
     "data": {
      "text/plain": [
       "'{\"id\":\"19124215\",\"name\":\"Armégatan 3,  Högt upp i huset!\",\"active_toplisting\":true,\"toplisting\":{\"id\":113084,\"active\":true},\"type\":\"raketen,premium\",\"has_highlighted_showings\":true,\"product_category\":\"premium/raketen\"}'"
      ]
     },
     "execution_count": 168,
     "metadata": {},
     "output_type": "execute_result"
    }
   ],
   "source": [
    "#example output\n",
    "li_results=soup.select('#result > ul > li')\n",
    "li_results[0].attrs['data-gtm-item-info']"
   ]
  },
  {
   "cell_type": "markdown",
   "id": "42dbe21f",
   "metadata": {},
   "source": [
    "---- following the item link and then get the json and id from one of the script tags ---"
   ]
  },
  {
   "cell_type": "code",
   "execution_count": 169,
   "id": "c56a47a8",
   "metadata": {},
   "outputs": [
    {
     "data": {
      "text/plain": [
       "'https://www.hemnet.se/bostad/lagenhet-3rum-solna-kommun-armegatan-11b-19197055'"
      ]
     },
     "execution_count": 169,
     "metadata": {},
     "output_type": "execute_result"
    }
   ],
   "source": [
    "#first link to request - could be a loop for all items\n",
    "item_url=cards[1].attrs['href']\n",
    "\n",
    "item_response=requests.request(\"GET\", item_url, headers=headers)\n",
    "item_soup=BeautifulSoup(item_response.content, \"html.parser\")\n",
    "\n",
    "item_response.url"
   ]
  },
  {
   "cell_type": "code",
   "execution_count": 170,
   "id": "81027538",
   "metadata": {},
   "outputs": [
    {
     "name": "stdout",
     "output_type": "stream",
     "text": [
      "19197055\n"
     ]
    }
   ],
   "source": [
    "import json\n",
    "\n",
    "#but... since the site uses dynamic loading of the pictures we can't get much data from the html here. Using script tags with jsons works however\n",
    "\n",
    "#not working for example\n",
    "#ilist=item_soup.find_all(attrs={\"data-testid\": \"gallery-right-buttons\"})\n",
    "\n",
    "ilist=item_soup.find_all(\"script\",type=\"application/ld+json\")\n",
    "\n",
    "#since nr of item changes we need to search all of them thru to find the right one, skip the first since that is badly formatted\n",
    "for item in ilist[1:]:\n",
    "    #print (item.text)\n",
    "    jt=json.loads(item.text)\n",
    "    if jt['@type']=='Product':\n",
    "        #finally our product id\n",
    "        print(jt['mpn'])"
   ]
  },
  {
   "cell_type": "markdown",
   "id": "4dc5215c",
   "metadata": {},
   "source": [
    "now we can either call the link to get stuff from that or call the graphql with the id"
   ]
  }
 ],
 "metadata": {
  "kernelspec": {
   "display_name": "Python 3.10.0 64-bit",
   "language": "python",
   "name": "python3"
  },
  "language_info": {
   "codemirror_mode": {
    "name": "ipython",
    "version": 3
   },
   "file_extension": ".py",
   "mimetype": "text/x-python",
   "name": "python",
   "nbconvert_exporter": "python",
   "pygments_lexer": "ipython3",
   "version": "3.10.0"
  },
  "vscode": {
   "interpreter": {
    "hash": "0a7ccb16110ce14ed3efea9a494288ae5ce82bd2448893b7f736893aef85df94"
   }
  }
 },
 "nbformat": 4,
 "nbformat_minor": 5
}
