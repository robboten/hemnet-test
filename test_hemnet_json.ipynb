{
 "cells": [
  {
   "cell_type": "code",
   "execution_count": 17,
   "id": "361e38e9",
   "metadata": {},
   "outputs": [],
   "source": [
    "import pandas as pd\n",
    "from lxml import etree\n",
    "import requests"
   ]
  },
  {
   "cell_type": "code",
   "execution_count": 26,
   "id": "db3392ad",
   "metadata": {},
   "outputs": [],
   "source": [
    "url = \"https://www.hemnet.se/bostader/bbox\"\n",
    "\n",
    "params={\n",
    "    'bbox':'59.247127100450335,17.76513093234948:59.35859632184681,18.403711254615104',\n",
    "    'search_key':'57938136258b743b4bfb313c013169b07ef4cffd'\n",
    "}\n",
    "\n",
    "headers = {\n",
    "    'User-Agent': 'Mozilla/5.0 (Windows NT 6.1; WOW64) AppleWebKit/537.36 (KHTML, like Gecko) Chrome/56.0.2924.76 Safari/537.36'\n",
    "}\n",
    "\n",
    "payload = {}"
   ]
  },
  {
   "cell_type": "code",
   "execution_count": 27,
   "id": "f9c695bd",
   "metadata": {},
   "outputs": [],
   "source": [
    "response = requests.request(\"GET\", url, headers=headers, data=payload, params=params)\n",
    "\n",
    "j=response.json()['properties']"
   ]
  },
  {
   "cell_type": "code",
   "execution_count": 20,
   "id": "ea2b1839",
   "metadata": {
    "scrolled": false
   },
   "outputs": [
    {
     "data": {
      "text/html": [
       "<div>\n",
       "<style scoped>\n",
       "    .dataframe tbody tr th:only-of-type {\n",
       "        vertical-align: middle;\n",
       "    }\n",
       "\n",
       "    .dataframe tbody tr th {\n",
       "        vertical-align: top;\n",
       "    }\n",
       "\n",
       "    .dataframe thead th {\n",
       "        text-align: right;\n",
       "    }\n",
       "</style>\n",
       "<table border=\"1\" class=\"dataframe\">\n",
       "  <thead>\n",
       "    <tr style=\"text-align: right;\">\n",
       "      <th></th>\n",
       "      <th>id</th>\n",
       "      <th>coordinate</th>\n",
       "      <th>address</th>\n",
       "      <th>location_name</th>\n",
       "      <th>typeSummary</th>\n",
       "      <th>iconName</th>\n",
       "      <th>project</th>\n",
       "      <th>new_construction</th>\n",
       "      <th>ongoing_bidding</th>\n",
       "      <th>foreclosure</th>\n",
       "      <th>...</th>\n",
       "      <th>broker_agency_name</th>\n",
       "      <th>locations_string</th>\n",
       "      <th>should_display_showings</th>\n",
       "      <th>should_highlight_showings</th>\n",
       "      <th>living_space.table</th>\n",
       "      <th>trackingData.listingId</th>\n",
       "      <th>trackingData.listingType</th>\n",
       "      <th>trackingData.listingPackageType</th>\n",
       "      <th>trackingData.listingState</th>\n",
       "      <th>trackingData.listingStatus</th>\n",
       "    </tr>\n",
       "  </thead>\n",
       "  <tbody>\n",
       "    <tr>\n",
       "      <th>0</th>\n",
       "      <td>19226516</td>\n",
       "      <td>[59.3188273746, 18.0518373102]</td>\n",
       "      <td>Ringvägen 9 F</td>\n",
       "      <td>Stockholms kommun</td>\n",
       "      <td>Bostadsrättslägenhet</td>\n",
       "      <td>bostadsratt</td>\n",
       "      <td>False</td>\n",
       "      <td>False</td>\n",
       "      <td>False</td>\n",
       "      <td>False</td>\n",
       "      <td>...</td>\n",
       "      <td>Fastighetsbyrån Stockholm - Södermalm</td>\n",
       "      <td>Högalid, Stockholms kommun</td>\n",
       "      <td>False</td>\n",
       "      <td>False</td>\n",
       "      <td>{'living_area': '74 m²', 'supplemental_area': ...</td>\n",
       "      <td>19226516</td>\n",
       "      <td>common_listing</td>\n",
       "      <td>basic</td>\n",
       "      <td>active</td>\n",
       "      <td>for_sale</td>\n",
       "    </tr>\n",
       "    <tr>\n",
       "      <th>1</th>\n",
       "      <td>19226416</td>\n",
       "      <td>[59.3085175, 18.0801334]</td>\n",
       "      <td>Ringvägen 135</td>\n",
       "      <td>Stockholms kommun</td>\n",
       "      <td>Bostadsrättslägenhet</td>\n",
       "      <td>bostadsratt</td>\n",
       "      <td>False</td>\n",
       "      <td>False</td>\n",
       "      <td>False</td>\n",
       "      <td>False</td>\n",
       "      <td>...</td>\n",
       "      <td>HusmanHagberg Södermalm/Gamla Stan</td>\n",
       "      <td>Södermalm - SoFo, Stockholms kommun</td>\n",
       "      <td>False</td>\n",
       "      <td>True</td>\n",
       "      <td>{'living_area': '42 m²', 'supplemental_area': ...</td>\n",
       "      <td>19226416</td>\n",
       "      <td>common_listing</td>\n",
       "      <td>premium</td>\n",
       "      <td>active</td>\n",
       "      <td>for_sale</td>\n",
       "    </tr>\n",
       "    <tr>\n",
       "      <th>2</th>\n",
       "      <td>19226122</td>\n",
       "      <td>[59.3094732, 18.083821]</td>\n",
       "      <td>Ringvägen 153, 2 tr</td>\n",
       "      <td>Stockholms kommun</td>\n",
       "      <td>Bostadsrättslägenhet</td>\n",
       "      <td>bostadsratt</td>\n",
       "      <td>False</td>\n",
       "      <td>False</td>\n",
       "      <td>False</td>\n",
       "      <td>False</td>\n",
       "      <td>...</td>\n",
       "      <td>Mäklarhuset Stockholm Innerstan</td>\n",
       "      <td>Stockholm - Södermalm, Stockholms kommun</td>\n",
       "      <td>False</td>\n",
       "      <td>False</td>\n",
       "      <td>{'living_area': '42 m²', 'supplemental_area': ...</td>\n",
       "      <td>19226122</td>\n",
       "      <td>common_listing</td>\n",
       "      <td>basic</td>\n",
       "      <td>active</td>\n",
       "      <td>for_sale</td>\n",
       "    </tr>\n",
       "  </tbody>\n",
       "</table>\n",
       "<p>3 rows × 38 columns</p>\n",
       "</div>"
      ],
      "text/plain": [
       "         id                      coordinate              address  \\\n",
       "0  19226516  [59.3188273746, 18.0518373102]        Ringvägen 9 F   \n",
       "1  19226416        [59.3085175, 18.0801334]        Ringvägen 135   \n",
       "2  19226122         [59.3094732, 18.083821]  Ringvägen 153, 2 tr   \n",
       "\n",
       "       location_name           typeSummary     iconName  project  \\\n",
       "0  Stockholms kommun  Bostadsrättslägenhet  bostadsratt    False   \n",
       "1  Stockholms kommun  Bostadsrättslägenhet  bostadsratt    False   \n",
       "2  Stockholms kommun  Bostadsrättslägenhet  bostadsratt    False   \n",
       "\n",
       "   new_construction  ongoing_bidding  foreclosure  ...  \\\n",
       "0             False            False        False  ...   \n",
       "1             False            False        False  ...   \n",
       "2             False            False        False  ...   \n",
       "\n",
       "                      broker_agency_name  \\\n",
       "0  Fastighetsbyrån Stockholm - Södermalm   \n",
       "1     HusmanHagberg Södermalm/Gamla Stan   \n",
       "2        Mäklarhuset Stockholm Innerstan   \n",
       "\n",
       "                           locations_string should_display_showings  \\\n",
       "0                Högalid, Stockholms kommun                   False   \n",
       "1       Södermalm - SoFo, Stockholms kommun                   False   \n",
       "2  Stockholm - Södermalm, Stockholms kommun                   False   \n",
       "\n",
       "   should_highlight_showings  \\\n",
       "0                      False   \n",
       "1                       True   \n",
       "2                      False   \n",
       "\n",
       "                                  living_space.table trackingData.listingId  \\\n",
       "0  {'living_area': '74 m²', 'supplemental_area': ...               19226516   \n",
       "1  {'living_area': '42 m²', 'supplemental_area': ...               19226416   \n",
       "2  {'living_area': '42 m²', 'supplemental_area': ...               19226122   \n",
       "\n",
       "  trackingData.listingType  trackingData.listingPackageType  \\\n",
       "0           common_listing                            basic   \n",
       "1           common_listing                          premium   \n",
       "2           common_listing                            basic   \n",
       "\n",
       "   trackingData.listingState trackingData.listingStatus  \n",
       "0                     active                   for_sale  \n",
       "1                     active                   for_sale  \n",
       "2                     active                   for_sale  \n",
       "\n",
       "[3 rows x 38 columns]"
      ]
     },
     "execution_count": 20,
     "metadata": {},
     "output_type": "execute_result"
    }
   ],
   "source": [
    "df=pd.json_normalize(j, max_level=1)\n",
    "#df.keys\n",
    "df.head(3)"
   ]
  },
  {
   "cell_type": "code",
   "execution_count": 21,
   "id": "89bf2446",
   "metadata": {},
   "outputs": [
    {
     "data": {
      "text/plain": [
       "19226416"
      ]
     },
     "execution_count": 21,
     "metadata": {},
     "output_type": "execute_result"
    }
   ],
   "source": [
    "#call graphql directly from listing with ids - example with one id only but can set into a loop\n",
    "ql_id=df.iloc[1]['id']\n",
    "ql_id"
   ]
  },
  {
   "cell_type": "code",
   "execution_count": 22,
   "id": "e7ea8a52",
   "metadata": {},
   "outputs": [],
   "source": [
    "url_ql = \"https://www.hemnet.se/graphql\"\n",
    "\n",
    "#would love to have payload_ql string formatted better but not really sure how without breaking it\n",
    "payload_ql=\"{\\\"query\\\":\\\"query imagesForListing($id: ID!) {\\\\r\\\\n    listing(id: $id) \\\\r\\\\n    {  id  __typename  streetAddress  isSaved  brokerAgency \\\\r\\\\n    {    name    id    brokerCustomization \\\\r\\\\n    {      compactLogoUrl      largeLogoUrl: logoUrl(format: BROKER_CUSTOMIZATION_LARGE)      __typename    \\\\r\\\\n    }    __typename  }  ... on ActivePropertyListing \\\\r\\\\n    {    liveStreams(scope: ENDED) \\\\r\\\\n    {      embedUrl      __typename    \\\\r\\\\n    }    videoAttachment: attachment(type: VIDEO) \\\\r\\\\n    {      id      attachmentType      ... on VideoAttachment {     videoHemnetUrl        __typename     }\\\\r\\\\n          __typename    \\\\r\\\\n    }    threeDAttachment: attachment(type: THREE_D) {\\\\r\\\\n              id      ... on ThreeDAttachment {\\\\r\\\\n                          url        __typename      \\\\r\\\\n                          }      __typename    }\\\\r\\\\n                              isForeclosure    listingBrokerGalleryUrl    images(limit: 500) {\\\\r\\\\n                                        images {\\\\r\\\\n                                                    url(format: ITEMGALLERY_CUT)        portraitUrl: url(format: ITEMGALLERY_PORTRAIT_CUT)        fullscreenUrl: url(format: WIDTH1024)        originalHeight        originalWidth        labels        __typename      }      __typename    }    __typename  }  ... on ProjectUnit {    liveStreams(scope: ENDED) {      embedUrl      __typename    }    videoAttachment: attachment(type: VIDEO) {      id      attachmentType      ... on VideoAttachment {        videoHemnetUrl        __typename      }      __typename    }    threeDAttachment: attachment(type: THREE_D) {      id      ... on ThreeDAttachment {        url        __typename      }      __typename    }    isForeclosure    listingBrokerGalleryUrl    images(limit: 500) {      images {        url(format: ITEMGALLERY_CUT)        portraitUrl: url(format: ITEMGALLERY_PORTRAIT_CUT)        fullscreenUrl: url(format: WIDTH1024)        originalHeight        originalWidth        labels        __typename      }      __typename    }    __typename  }\\\\r\\\\n    }\\\\r\\\\n    }\\\",\\\"variables\\\":{\\\"id\\\":\"+str(ql_id)+\"}}\"\n",
    "\n",
    "headers_ql = {\n",
    "  'Content-Type': 'application/json',\n",
    "  'User-Agent': 'Mozilla/5.0 (Windows NT 6.1; WOW64) AppleWebKit/537.36 (KHTML, like Gecko) Chrome/56.0.2924.76 Safari/537.36'\n",
    "}\n",
    "\n",
    "response_ql = requests.request(\"POST\", url_ql, headers=headers_ql, data=payload_ql)\n",
    "\n",
    "#print(response_ql.text)\n",
    "ql_path=response_ql.json()['data']['listing']['images']['images']\n",
    "\n",
    "ql_df=pd.json_normalize(ql_path)\n",
    "#ql_df"
   ]
  },
  {
   "cell_type": "code",
   "execution_count": 23,
   "id": "6e5b44ae",
   "metadata": {},
   "outputs": [
    {
     "data": {
      "text/html": [
       "<img src=\"https://bilder.hemnet.se/images/itemgallery_cut/69/29/6929282cf79c6761c7f7b251dd3c815c.jpg\"/>"
      ],
      "text/plain": [
       "<IPython.core.display.Image object>"
      ]
     },
     "metadata": {},
     "output_type": "display_data"
    },
    {
     "data": {
      "text/html": [
       "<img src=\"https://bilder.hemnet.se/images/itemgallery_cut/71/e4/71e47ee40c4be337010df6a67c0cf8d6.jpg\"/>"
      ],
      "text/plain": [
       "<IPython.core.display.Image object>"
      ]
     },
     "metadata": {},
     "output_type": "display_data"
    },
    {
     "data": {
      "text/html": [
       "<img src=\"https://bilder.hemnet.se/images/itemgallery_cut/47/1c/471c3156d63b6a0ea8d7b176df98d4bd.jpg\"/>"
      ],
      "text/plain": [
       "<IPython.core.display.Image object>"
      ]
     },
     "metadata": {},
     "output_type": "display_data"
    },
    {
     "data": {
      "text/html": [
       "<img src=\"https://bilder.hemnet.se/images/itemgallery_cut/28/a1/28a13f1a1ca7dd7bafc7ace82f68ee97.jpg\"/>"
      ],
      "text/plain": [
       "<IPython.core.display.Image object>"
      ]
     },
     "metadata": {},
     "output_type": "display_data"
    },
    {
     "data": {
      "text/html": [
       "<img src=\"https://bilder.hemnet.se/images/itemgallery_cut/a4/d5/a4d5b3db74c64d5838776dc9e5b97a4a.jpg\"/>"
      ],
      "text/plain": [
       "<IPython.core.display.Image object>"
      ]
     },
     "metadata": {},
     "output_type": "display_data"
    },
    {
     "data": {
      "text/html": [
       "<img src=\"https://bilder.hemnet.se/images/itemgallery_cut/4a/88/4a880acfeeb7caa8220057194e357f46.jpg\"/>"
      ],
      "text/plain": [
       "<IPython.core.display.Image object>"
      ]
     },
     "metadata": {},
     "output_type": "display_data"
    },
    {
     "data": {
      "text/html": [
       "<img src=\"https://bilder.hemnet.se/images/itemgallery_cut/9b/c2/9bc228bbe4859e0aa3407a930eca9f03.jpg\"/>"
      ],
      "text/plain": [
       "<IPython.core.display.Image object>"
      ]
     },
     "metadata": {},
     "output_type": "display_data"
    },
    {
     "data": {
      "text/html": [
       "<img src=\"https://bilder.hemnet.se/images/itemgallery_cut/55/7c/557c57aa8fb3cd8ef72817fbbfb67320.jpg\"/>"
      ],
      "text/plain": [
       "<IPython.core.display.Image object>"
      ]
     },
     "metadata": {},
     "output_type": "display_data"
    },
    {
     "data": {
      "text/html": [
       "<img src=\"https://bilder.hemnet.se/images/itemgallery_cut/62/c8/62c8333e310bef70dd29ab095fee4331.jpg\"/>"
      ],
      "text/plain": [
       "<IPython.core.display.Image object>"
      ]
     },
     "metadata": {},
     "output_type": "display_data"
    },
    {
     "data": {
      "text/html": [
       "<img src=\"https://bilder.hemnet.se/images/itemgallery_cut/77/40/7740e58166f53031a46870bf456c13a1.jpg\"/>"
      ],
      "text/plain": [
       "<IPython.core.display.Image object>"
      ]
     },
     "metadata": {},
     "output_type": "display_data"
    },
    {
     "data": {
      "text/html": [
       "<img src=\"https://bilder.hemnet.se/images/itemgallery_cut/d4/e1/d4e1c1c346c0d59708d5ae5d795ce2e7.jpg\"/>"
      ],
      "text/plain": [
       "<IPython.core.display.Image object>"
      ]
     },
     "metadata": {},
     "output_type": "display_data"
    },
    {
     "data": {
      "text/html": [
       "<img src=\"https://bilder.hemnet.se/images/itemgallery_cut/ec/4d/ec4d6d0224afab1a2b2b70f08a424aab.jpg\"/>"
      ],
      "text/plain": [
       "<IPython.core.display.Image object>"
      ]
     },
     "metadata": {},
     "output_type": "display_data"
    },
    {
     "data": {
      "text/html": [
       "<img src=\"https://bilder.hemnet.se/images/itemgallery_cut/08/b2/08b2f4ee9677c5c1c55aae544a80673b.jpg\"/>"
      ],
      "text/plain": [
       "<IPython.core.display.Image object>"
      ]
     },
     "metadata": {},
     "output_type": "display_data"
    },
    {
     "data": {
      "text/html": [
       "<img src=\"https://bilder.hemnet.se/images/itemgallery_cut/59/bf/59bfbe9cae6dc6d5e70cb9ba080298a9.jpg\"/>"
      ],
      "text/plain": [
       "<IPython.core.display.Image object>"
      ]
     },
     "metadata": {},
     "output_type": "display_data"
    },
    {
     "data": {
      "text/html": [
       "<img src=\"https://bilder.hemnet.se/images/itemgallery_cut/d3/93/d39390793b0ef9a4d542279e30d66749.jpg\"/>"
      ],
      "text/plain": [
       "<IPython.core.display.Image object>"
      ]
     },
     "metadata": {},
     "output_type": "display_data"
    },
    {
     "data": {
      "text/html": [
       "<img src=\"https://bilder.hemnet.se/images/itemgallery_cut/2b/1f/2b1f638b34a8f0f110ab48852e2418dd.jpg\"/>"
      ],
      "text/plain": [
       "<IPython.core.display.Image object>"
      ]
     },
     "metadata": {},
     "output_type": "display_data"
    },
    {
     "data": {
      "text/html": [
       "<img src=\"https://bilder.hemnet.se/images/itemgallery_cut/54/ea/54ead574ec733a86d6f972be9faf42e9.jpg\"/>"
      ],
      "text/plain": [
       "<IPython.core.display.Image object>"
      ]
     },
     "metadata": {},
     "output_type": "display_data"
    },
    {
     "data": {
      "text/html": [
       "<img src=\"https://bilder.hemnet.se/images/itemgallery_cut/04/44/04442656ee403b877510a2f3a9973915.jpg\"/>"
      ],
      "text/plain": [
       "<IPython.core.display.Image object>"
      ]
     },
     "metadata": {},
     "output_type": "display_data"
    },
    {
     "data": {
      "text/html": [
       "<img src=\"https://bilder.hemnet.se/images/itemgallery_cut/79/8e/798e9126c786381cc2650371a0620c62.jpg\"/>"
      ],
      "text/plain": [
       "<IPython.core.display.Image object>"
      ]
     },
     "metadata": {},
     "output_type": "display_data"
    },
    {
     "data": {
      "text/html": [
       "<img src=\"https://bilder.hemnet.se/images/itemgallery_cut/8f/14/8f14f66a0913c6388c636687278feb0a.jpg\"/>"
      ],
      "text/plain": [
       "<IPython.core.display.Image object>"
      ]
     },
     "metadata": {},
     "output_type": "display_data"
    },
    {
     "data": {
      "text/html": [
       "<img src=\"https://bilder.hemnet.se/images/itemgallery_cut/02/32/0232657ca98c0d6b86d365765e3f95d6.jpg\"/>"
      ],
      "text/plain": [
       "<IPython.core.display.Image object>"
      ]
     },
     "metadata": {},
     "output_type": "display_data"
    },
    {
     "data": {
      "text/html": [
       "<img src=\"https://bilder.hemnet.se/images/itemgallery_cut/78/c6/78c6f6b7b28df6e58163d763a5c6a4a2.jpg\"/>"
      ],
      "text/plain": [
       "<IPython.core.display.Image object>"
      ]
     },
     "metadata": {},
     "output_type": "display_data"
    },
    {
     "data": {
      "text/html": [
       "<img src=\"https://bilder.hemnet.se/images/itemgallery_cut/bd/e0/bde0a062985ee9ed33802ecd609e2060.jpg\"/>"
      ],
      "text/plain": [
       "<IPython.core.display.Image object>"
      ]
     },
     "metadata": {},
     "output_type": "display_data"
    },
    {
     "data": {
      "text/html": [
       "<img src=\"https://bilder.hemnet.se/images/itemgallery_cut/3a/84/3a84f69a89543743effe1e782dba1be2.jpg\"/>"
      ],
      "text/plain": [
       "<IPython.core.display.Image object>"
      ]
     },
     "metadata": {},
     "output_type": "display_data"
    },
    {
     "data": {
      "text/html": [
       "<img src=\"https://bilder.hemnet.se/images/itemgallery_cut/ad/4f/ad4fe38dbcf90e9f3021e8b40d42239e.jpg\"/>"
      ],
      "text/plain": [
       "<IPython.core.display.Image object>"
      ]
     },
     "metadata": {},
     "output_type": "display_data"
    },
    {
     "data": {
      "text/html": [
       "<img src=\"https://bilder.hemnet.se/images/itemgallery_cut/c0/e1/c0e1059cad1654c21f3f9f5dcd38e974.jpg\"/>"
      ],
      "text/plain": [
       "<IPython.core.display.Image object>"
      ]
     },
     "metadata": {},
     "output_type": "display_data"
    },
    {
     "data": {
      "text/html": [
       "<img src=\"https://bilder.hemnet.se/images/itemgallery_cut/52/9c/529cbd7079fd7a91037eb7f5bac5ca5c.jpg\"/>"
      ],
      "text/plain": [
       "<IPython.core.display.Image object>"
      ]
     },
     "metadata": {},
     "output_type": "display_data"
    },
    {
     "data": {
      "text/html": [
       "<img src=\"https://bilder.hemnet.se/images/itemgallery_cut/02/0c/020c57c2b4fad7ff19ecf362375df4c3.jpg\"/>"
      ],
      "text/plain": [
       "<IPython.core.display.Image object>"
      ]
     },
     "metadata": {},
     "output_type": "display_data"
    },
    {
     "data": {
      "text/html": [
       "<img src=\"https://bilder.hemnet.se/images/itemgallery_cut/6e/09/6e09d86eadf0ab11173c00138ce1b875.jpg\"/>"
      ],
      "text/plain": [
       "<IPython.core.display.Image object>"
      ]
     },
     "metadata": {},
     "output_type": "display_data"
    },
    {
     "data": {
      "text/html": [
       "<img src=\"https://bilder.hemnet.se/images/itemgallery_cut/c5/00/c50020e7964d6402371e8480dcdbd9b3.jpg\"/>"
      ],
      "text/plain": [
       "<IPython.core.display.Image object>"
      ]
     },
     "metadata": {},
     "output_type": "display_data"
    },
    {
     "data": {
      "text/html": [
       "<img src=\"https://bilder.hemnet.se/images/itemgallery_cut/19/9a/199a6c01c292611cc873aa5ab6bf03c6.jpg\"/>"
      ],
      "text/plain": [
       "<IPython.core.display.Image object>"
      ]
     },
     "metadata": {},
     "output_type": "display_data"
    },
    {
     "data": {
      "text/html": [
       "<img src=\"https://bilder.hemnet.se/images/itemgallery_cut/e0/9c/e09cd463ff792ecdec857b92463b9d12.jpg\"/>"
      ],
      "text/plain": [
       "<IPython.core.display.Image object>"
      ]
     },
     "metadata": {},
     "output_type": "display_data"
    },
    {
     "data": {
      "text/html": [
       "<img src=\"https://bilder.hemnet.se/images/itemgallery_cut/c0/e1/c0e1059cad1654c21f3f9f5dcd38e974.jpg\"/>"
      ],
      "text/plain": [
       "<IPython.core.display.Image object>"
      ]
     },
     "metadata": {},
     "output_type": "display_data"
    },
    {
     "data": {
      "text/html": [
       "<img src=\"https://bilder.hemnet.se/images/itemgallery_cut/04/66/046641a6f0730af1d0dfe9045eef550c.jpg\"/>"
      ],
      "text/plain": [
       "<IPython.core.display.Image object>"
      ]
     },
     "metadata": {},
     "output_type": "display_data"
    },
    {
     "data": {
      "text/html": [
       "<img src=\"https://bilder.hemnet.se/images/itemgallery_cut/39/e2/39e23f13d24a57203e1bdc334f2b0a84.jpg\"/>"
      ],
      "text/plain": [
       "<IPython.core.display.Image object>"
      ]
     },
     "metadata": {},
     "output_type": "display_data"
    },
    {
     "data": {
      "text/html": [
       "<img src=\"https://bilder.hemnet.se/images/itemgallery_cut/27/64/2764af5fd9b565ab2fda679f37df8b35.jpg\"/>"
      ],
      "text/plain": [
       "<IPython.core.display.Image object>"
      ]
     },
     "metadata": {},
     "output_type": "display_data"
    }
   ],
   "source": [
    "#print all images from listing item\n",
    "from IPython.display import Image\n",
    "for index,row in ql_df.iterrows():\n",
    "   display(Image(url=row['url']))"
   ]
  }
 ],
 "metadata": {
  "kernelspec": {
   "display_name": "Python 3.10.0 64-bit",
   "language": "python",
   "name": "python3"
  },
  "language_info": {
   "codemirror_mode": {
    "name": "ipython",
    "version": 3
   },
   "file_extension": ".py",
   "mimetype": "text/x-python",
   "name": "python",
   "nbconvert_exporter": "python",
   "pygments_lexer": "ipython3",
   "version": "3.10.0"
  },
  "vscode": {
   "interpreter": {
    "hash": "0a7ccb16110ce14ed3efea9a494288ae5ce82bd2448893b7f736893aef85df94"
   }
  }
 },
 "nbformat": 4,
 "nbformat_minor": 5
}
