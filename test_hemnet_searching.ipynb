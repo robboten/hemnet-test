{
 "cells": [
  {
   "cell_type": "code",
   "execution_count": 91,
   "id": "361e38e9",
   "metadata": {},
   "outputs": [],
   "source": [
    "import pandas as pd\n",
    "from lxml import etree\n",
    "import requests\n",
    "import json"
   ]
  },
  {
   "cell_type": "markdown",
   "id": "6a6c18e7",
   "metadata": {},
   "source": [
    "---- we can search for a place and then return first hit for a search id ----"
   ]
  },
  {
   "cell_type": "code",
   "execution_count": 92,
   "id": "84431b99",
   "metadata": {},
   "outputs": [],
   "source": [
    "#use dict to search for listings\n",
    "url = \"https://www.hemnet.se/locations/show\"\n",
    "params= {\n",
    "    'q':'Ringvägen, stockholm'\n",
    "}\n",
    "payload={}\n",
    "\n",
    "headers = {\n",
    "    'User-Agent': 'Mozilla/5.0 (Windows NT 6.1; WOW64) AppleWebKit/537.36 (KHTML, like Gecko) Chrome/56.0.2924.76 Safari/537.36'\n",
    "}\n",
    "\n",
    "response = requests.request(\"GET\", url, headers=headers, data=payload, params=params)\n",
    "\n"
   ]
  },
  {
   "cell_type": "code",
   "execution_count": 93,
   "id": "4ab32b96",
   "metadata": {},
   "outputs": [],
   "source": [
    "json_data=json.loads(response.text)\n",
    "search_id=json_data[0]['id']"
   ]
  },
  {
   "cell_type": "code",
   "execution_count": 94,
   "id": "ef75ecd8",
   "metadata": {},
   "outputs": [],
   "source": [
    "#or make dict with places to search for\n",
    "\n",
    "#location_ids={'Ringvägen':475989,'Huvudsta':473498}\n",
    "#search_id=location_ids['Ringvägen']"
   ]
  },
  {
   "cell_type": "code",
   "execution_count": null,
   "id": "60210df1",
   "metadata": {},
   "outputs": [],
   "source": []
  },
  {
   "cell_type": "code",
   "execution_count": 95,
   "id": "0f7d7e2b",
   "metadata": {
    "scrolled": false
   },
   "outputs": [
    {
     "data": {
      "text/plain": [
       "'https://www.hemnet.se/bostader?housing_form_groups=apartments&location_ids=475989&item_types=bostadsratt'"
      ]
     },
     "execution_count": 95,
     "metadata": {},
     "output_type": "execute_result"
    }
   ],
   "source": [
    "#use dict to search for listings\n",
    "url = \"https://www.hemnet.se/bostader\"\n",
    "params= {\n",
    "    'housing_form_groups':'apartments',\n",
    "    'location_ids':search_id,\n",
    "    'item_types':'bostadsratt'\n",
    "}\n",
    "payload={}\n",
    "\n",
    "headers = {\n",
    "    'User-Agent': 'Mozilla/5.0 (Windows NT 6.1; WOW64) AppleWebKit/537.36 (KHTML, like Gecko) Chrome/56.0.2924.76 Safari/537.36'\n",
    "}\n",
    "\n",
    "response = requests.request(\"GET\", url, headers=headers, data=payload, params=params)\n",
    "response.url"
   ]
  },
  {
   "cell_type": "markdown",
   "id": "e751c449",
   "metadata": {},
   "source": [
    "--------- w beautiful soup ------------"
   ]
  },
  {
   "cell_type": "code",
   "execution_count": 96,
   "id": "f4cf58b1",
   "metadata": {},
   "outputs": [],
   "source": [
    "from bs4 import BeautifulSoup"
   ]
  },
  {
   "cell_type": "code",
   "execution_count": 97,
   "id": "724489a8",
   "metadata": {},
   "outputs": [],
   "source": [
    "soup = BeautifulSoup(response.content, \"html.parser\")"
   ]
  },
  {
   "cell_type": "code",
   "execution_count": 98,
   "id": "bb291f48",
   "metadata": {},
   "outputs": [],
   "source": [
    "#find div with good data to use\n",
    "map_results=soup.find(id='results-map')\n",
    "initial_data=map_results.attrs['data-initial-data']"
   ]
  },
  {
   "cell_type": "code",
   "execution_count": 99,
   "id": "c2266b4b",
   "metadata": {},
   "outputs": [
    {
     "data": {
      "text/plain": [
       "'f400520c69c8fa57d345617c15f9994c8c957baf'"
      ]
     },
     "execution_count": 99,
     "metadata": {},
     "output_type": "execute_result"
    }
   ],
   "source": [
    "#find our search key to use\n",
    "json_data=json.loads(initial_data)\n",
    "json_data['search_key']\n"
   ]
  },
  {
   "cell_type": "code",
   "execution_count": 100,
   "id": "595dd150",
   "metadata": {},
   "outputs": [],
   "source": [
    "url = \"https://www.hemnet.se/bostader/search/\"+json_data['search_key']\n",
    "\n",
    "params= {}\n",
    "\n",
    "payload={}\n",
    "\n",
    "headers = {\n",
    "    'User-Agent': 'Mozilla/5.0 (Windows NT 6.1; WOW64) AppleWebKit/537.36 (KHTML, like Gecko) Chrome/56.0.2924.76 Safari/537.36'\n",
    "}\n",
    "\n",
    "response = requests.request(\"GET\", url, headers=headers, data=payload, params=params)\n",
    "\n",
    "#print(response.text)"
   ]
  },
  {
   "cell_type": "code",
   "execution_count": 101,
   "id": "65fcf23f",
   "metadata": {},
   "outputs": [],
   "source": [
    "r_json = response.json()\n",
    "r_prop = r_json['properties']\n",
    "#r_prop"
   ]
  },
  {
   "cell_type": "code",
   "execution_count": 102,
   "id": "e0ff4702",
   "metadata": {},
   "outputs": [
    {
     "data": {
      "text/html": [
       "<div>\n",
       "<style scoped>\n",
       "    .dataframe tbody tr th:only-of-type {\n",
       "        vertical-align: middle;\n",
       "    }\n",
       "\n",
       "    .dataframe tbody tr th {\n",
       "        vertical-align: top;\n",
       "    }\n",
       "\n",
       "    .dataframe thead th {\n",
       "        text-align: right;\n",
       "    }\n",
       "</style>\n",
       "<table border=\"1\" class=\"dataframe\">\n",
       "  <thead>\n",
       "    <tr style=\"text-align: right;\">\n",
       "      <th></th>\n",
       "      <th>id</th>\n",
       "      <th>coordinate</th>\n",
       "      <th>address</th>\n",
       "      <th>location_name</th>\n",
       "      <th>typeSummary</th>\n",
       "      <th>iconName</th>\n",
       "      <th>project</th>\n",
       "      <th>new_construction</th>\n",
       "      <th>ongoing_bidding</th>\n",
       "      <th>foreclosure</th>\n",
       "      <th>...</th>\n",
       "      <th>labels</th>\n",
       "      <th>state_labels</th>\n",
       "      <th>user_saved</th>\n",
       "      <th>save_button_label</th>\n",
       "      <th>broker_logo_url</th>\n",
       "      <th>broker_agency_name</th>\n",
       "      <th>locations_string</th>\n",
       "      <th>should_display_showings</th>\n",
       "      <th>should_highlight_showings</th>\n",
       "      <th>trackingData</th>\n",
       "    </tr>\n",
       "  </thead>\n",
       "  <tbody>\n",
       "    <tr>\n",
       "      <th>0</th>\n",
       "      <td>19226516</td>\n",
       "      <td>[59.3188273746, 18.0518373102]</td>\n",
       "      <td>Ringvägen 9 F</td>\n",
       "      <td>Stockholms kommun</td>\n",
       "      <td>Bostadsrättslägenhet</td>\n",
       "      <td>bostadsratt</td>\n",
       "      <td>False</td>\n",
       "      <td>False</td>\n",
       "      <td>False</td>\n",
       "      <td>False</td>\n",
       "      <td>...</td>\n",
       "      <td>[{'category': 'feature', 'identifier': 'elevat...</td>\n",
       "      <td>[]</td>\n",
       "      <td>False</td>\n",
       "      <td>Spara</td>\n",
       "      <td>https://bilder.hemnet.se/images/broker_logo_2/...</td>\n",
       "      <td>Fastighetsbyrån Stockholm - Södermalm</td>\n",
       "      <td>Högalid, Stockholms kommun</td>\n",
       "      <td>False</td>\n",
       "      <td>False</td>\n",
       "      <td>{'listingId': '19226516', 'listingType': 'comm...</td>\n",
       "    </tr>\n",
       "    <tr>\n",
       "      <th>1</th>\n",
       "      <td>19226416</td>\n",
       "      <td>[59.3085175, 18.0801334]</td>\n",
       "      <td>Ringvägen 135</td>\n",
       "      <td>Stockholms kommun</td>\n",
       "      <td>Bostadsrättslägenhet</td>\n",
       "      <td>bostadsratt</td>\n",
       "      <td>False</td>\n",
       "      <td>False</td>\n",
       "      <td>False</td>\n",
       "      <td>False</td>\n",
       "      <td>...</td>\n",
       "      <td>[{'category': 'product', 'identifier': 'premiu...</td>\n",
       "      <td>[{'category': 'state', 'identifier': 'highligh...</td>\n",
       "      <td>False</td>\n",
       "      <td>Spara</td>\n",
       "      <td>https://bilder.hemnet.se/images/broker_logo_2/...</td>\n",
       "      <td>HusmanHagberg Södermalm/Gamla Stan</td>\n",
       "      <td>Södermalm - SoFo, Stockholms kommun</td>\n",
       "      <td>False</td>\n",
       "      <td>True</td>\n",
       "      <td>{'listingId': '19226416', 'listingType': 'comm...</td>\n",
       "    </tr>\n",
       "    <tr>\n",
       "      <th>2</th>\n",
       "      <td>19226122</td>\n",
       "      <td>[59.3094732, 18.083821]</td>\n",
       "      <td>Ringvägen 153, 2 tr</td>\n",
       "      <td>Stockholms kommun</td>\n",
       "      <td>Bostadsrättslägenhet</td>\n",
       "      <td>bostadsratt</td>\n",
       "      <td>False</td>\n",
       "      <td>False</td>\n",
       "      <td>False</td>\n",
       "      <td>False</td>\n",
       "      <td>...</td>\n",
       "      <td>[{'category': 'feature', 'identifier': 'elevat...</td>\n",
       "      <td>[]</td>\n",
       "      <td>False</td>\n",
       "      <td>Spara</td>\n",
       "      <td>https://bilder.hemnet.se/images/broker_logo_2/...</td>\n",
       "      <td>Mäklarhuset Stockholm Innerstan</td>\n",
       "      <td>Stockholm - Södermalm, Stockholms kommun</td>\n",
       "      <td>False</td>\n",
       "      <td>False</td>\n",
       "      <td>{'listingId': '19226122', 'listingType': 'comm...</td>\n",
       "    </tr>\n",
       "  </tbody>\n",
       "</table>\n",
       "<p>3 rows × 34 columns</p>\n",
       "</div>"
      ],
      "text/plain": [
       "         id                      coordinate              address  \\\n",
       "0  19226516  [59.3188273746, 18.0518373102]        Ringvägen 9 F   \n",
       "1  19226416        [59.3085175, 18.0801334]        Ringvägen 135   \n",
       "2  19226122         [59.3094732, 18.083821]  Ringvägen 153, 2 tr   \n",
       "\n",
       "       location_name           typeSummary     iconName  project  \\\n",
       "0  Stockholms kommun  Bostadsrättslägenhet  bostadsratt    False   \n",
       "1  Stockholms kommun  Bostadsrättslägenhet  bostadsratt    False   \n",
       "2  Stockholms kommun  Bostadsrättslägenhet  bostadsratt    False   \n",
       "\n",
       "   new_construction  ongoing_bidding  foreclosure  ...  \\\n",
       "0             False            False        False  ...   \n",
       "1             False            False        False  ...   \n",
       "2             False            False        False  ...   \n",
       "\n",
       "                                              labels  \\\n",
       "0  [{'category': 'feature', 'identifier': 'elevat...   \n",
       "1  [{'category': 'product', 'identifier': 'premiu...   \n",
       "2  [{'category': 'feature', 'identifier': 'elevat...   \n",
       "\n",
       "                                        state_labels user_saved  \\\n",
       "0                                                 []      False   \n",
       "1  [{'category': 'state', 'identifier': 'highligh...      False   \n",
       "2                                                 []      False   \n",
       "\n",
       "   save_button_label                                    broker_logo_url  \\\n",
       "0              Spara  https://bilder.hemnet.se/images/broker_logo_2/...   \n",
       "1              Spara  https://bilder.hemnet.se/images/broker_logo_2/...   \n",
       "2              Spara  https://bilder.hemnet.se/images/broker_logo_2/...   \n",
       "\n",
       "                      broker_agency_name  \\\n",
       "0  Fastighetsbyrån Stockholm - Södermalm   \n",
       "1     HusmanHagberg Södermalm/Gamla Stan   \n",
       "2        Mäklarhuset Stockholm Innerstan   \n",
       "\n",
       "                           locations_string  should_display_showings  \\\n",
       "0                Högalid, Stockholms kommun                    False   \n",
       "1       Södermalm - SoFo, Stockholms kommun                    False   \n",
       "2  Stockholm - Södermalm, Stockholms kommun                    False   \n",
       "\n",
       "   should_highlight_showings  \\\n",
       "0                      False   \n",
       "1                       True   \n",
       "2                      False   \n",
       "\n",
       "                                        trackingData  \n",
       "0  {'listingId': '19226516', 'listingType': 'comm...  \n",
       "1  {'listingId': '19226416', 'listingType': 'comm...  \n",
       "2  {'listingId': '19226122', 'listingType': 'comm...  \n",
       "\n",
       "[3 rows x 34 columns]"
      ]
     },
     "execution_count": 102,
     "metadata": {},
     "output_type": "execute_result"
    }
   ],
   "source": [
    "df=pd.json_normalize(r_prop, max_level=0)\n",
    "df.head(3)"
   ]
  },
  {
   "cell_type": "code",
   "execution_count": 106,
   "id": "be4410a5",
   "metadata": {},
   "outputs": [
    {
     "data": {
      "text/plain": [
       "19226516"
      ]
     },
     "execution_count": 106,
     "metadata": {},
     "output_type": "execute_result"
    }
   ],
   "source": [
    "#call graphql directly from listing with ids - example with one id only but can set into a loop\n",
    "ql_id=df.iloc[0]['id']\n",
    "ql_id"
   ]
  },
  {
   "cell_type": "code",
   "execution_count": 107,
   "id": "7f2b718e",
   "metadata": {},
   "outputs": [],
   "source": [
    "url_ql = \"https://www.hemnet.se/graphql\"\n",
    "\n",
    "#would love to have payload_ql string formatted better but not really sure how without breaking it\n",
    "payload_ql=\"{\\\"query\\\":\\\"query imagesForListing($id: ID!) {\\\\r\\\\n    listing(id: $id) \\\\r\\\\n    {  id  __typename  streetAddress  isSaved  brokerAgency \\\\r\\\\n    {    name    id    brokerCustomization \\\\r\\\\n    {      compactLogoUrl      largeLogoUrl: logoUrl(format: BROKER_CUSTOMIZATION_LARGE)      __typename    \\\\r\\\\n    }    __typename  }  ... on ActivePropertyListing \\\\r\\\\n    {    liveStreams(scope: ENDED) \\\\r\\\\n    {      embedUrl      __typename    \\\\r\\\\n    }    videoAttachment: attachment(type: VIDEO) \\\\r\\\\n    {      id      attachmentType      ... on VideoAttachment {     videoHemnetUrl        __typename     }\\\\r\\\\n          __typename    \\\\r\\\\n    }    threeDAttachment: attachment(type: THREE_D) {\\\\r\\\\n              id      ... on ThreeDAttachment {\\\\r\\\\n                          url        __typename      \\\\r\\\\n                          }      __typename    }\\\\r\\\\n                              isForeclosure    listingBrokerGalleryUrl    images(limit: 500) {\\\\r\\\\n                                        images {\\\\r\\\\n                                                    url(format: ITEMGALLERY_CUT)        portraitUrl: url(format: ITEMGALLERY_PORTRAIT_CUT)        fullscreenUrl: url(format: WIDTH1024)        originalHeight        originalWidth        labels        __typename      }      __typename    }    __typename  }  ... on ProjectUnit {    liveStreams(scope: ENDED) {      embedUrl      __typename    }    videoAttachment: attachment(type: VIDEO) {      id      attachmentType      ... on VideoAttachment {        videoHemnetUrl        __typename      }      __typename    }    threeDAttachment: attachment(type: THREE_D) {      id      ... on ThreeDAttachment {        url        __typename      }      __typename    }    isForeclosure    listingBrokerGalleryUrl    images(limit: 500) {      images {        url(format: ITEMGALLERY_CUT)        portraitUrl: url(format: ITEMGALLERY_PORTRAIT_CUT)        fullscreenUrl: url(format: WIDTH1024)        originalHeight        originalWidth        labels        __typename      }      __typename    }    __typename  }\\\\r\\\\n    }\\\\r\\\\n    }\\\",\\\"variables\\\":{\\\"id\\\":\"+str(ql_id)+\"}}\"\n",
    "\n",
    "headers_ql = {\n",
    "  'Content-Type': 'application/json',\n",
    "  'User-Agent': 'Mozilla/5.0 (Windows NT 6.1; WOW64) AppleWebKit/537.36 (KHTML, like Gecko) Chrome/56.0.2924.76 Safari/537.36'\n",
    "}\n",
    "\n",
    "response_ql = requests.request(\"POST\", url_ql, headers=headers_ql, data=payload_ql)\n",
    "\n",
    "#print(response_ql.text)\n",
    "ql_path=response_ql.json()['data']['listing']['images']['images']\n",
    "\n",
    "ql_df=pd.json_normalize(ql_path)\n",
    "#ql_df"
   ]
  },
  {
   "cell_type": "code",
   "execution_count": 112,
   "id": "bfb026f6",
   "metadata": {},
   "outputs": [
    {
     "data": {
      "text/html": [
       "<img src=\"https://bilder.hemnet.se/images/itemgallery_cut/9a/af/9aaf9c6cb47c48518ba47429768eb6bf.jpg\" width=\"300\"/>"
      ],
      "text/plain": [
       "<IPython.core.display.Image object>"
      ]
     },
     "metadata": {},
     "output_type": "display_data"
    },
    {
     "data": {
      "text/html": [
       "<img src=\"https://bilder.hemnet.se/images/itemgallery_cut/f5/c8/f5c8cf119c224da78f38a77660ef58f0.jpg\" width=\"300\"/>"
      ],
      "text/plain": [
       "<IPython.core.display.Image object>"
      ]
     },
     "metadata": {},
     "output_type": "display_data"
    },
    {
     "data": {
      "text/html": [
       "<img src=\"https://bilder.hemnet.se/images/itemgallery_cut/61/b4/61b4129ddf5774575fd574be78db1352.jpg\" width=\"300\"/>"
      ],
      "text/plain": [
       "<IPython.core.display.Image object>"
      ]
     },
     "metadata": {},
     "output_type": "display_data"
    },
    {
     "data": {
      "text/html": [
       "<img src=\"https://bilder.hemnet.se/images/itemgallery_cut/ac/3c/ac3cee6811b09542f1ca29b956fda1c7.jpg\" width=\"300\"/>"
      ],
      "text/plain": [
       "<IPython.core.display.Image object>"
      ]
     },
     "metadata": {},
     "output_type": "display_data"
    },
    {
     "data": {
      "text/html": [
       "<img src=\"https://bilder.hemnet.se/images/itemgallery_cut/80/22/80229df81aca6317ec89caedcd6d6e22.jpg\" width=\"300\"/>"
      ],
      "text/plain": [
       "<IPython.core.display.Image object>"
      ]
     },
     "metadata": {},
     "output_type": "display_data"
    },
    {
     "data": {
      "text/html": [
       "<img src=\"https://bilder.hemnet.se/images/itemgallery_cut/7d/f9/7df9d569f0137742ccc4468b3605b13b.jpg\" width=\"300\"/>"
      ],
      "text/plain": [
       "<IPython.core.display.Image object>"
      ]
     },
     "metadata": {},
     "output_type": "display_data"
    },
    {
     "data": {
      "text/html": [
       "<img src=\"https://bilder.hemnet.se/images/itemgallery_cut/aa/0b/aa0b82594519e4facb81b42a155e5769.jpg\" width=\"300\"/>"
      ],
      "text/plain": [
       "<IPython.core.display.Image object>"
      ]
     },
     "metadata": {},
     "output_type": "display_data"
    },
    {
     "data": {
      "text/html": [
       "<img src=\"https://bilder.hemnet.se/images/itemgallery_cut/cb/78/cb78d88e189428c8558a6610131b01aa.jpg\" width=\"300\"/>"
      ],
      "text/plain": [
       "<IPython.core.display.Image object>"
      ]
     },
     "metadata": {},
     "output_type": "display_data"
    },
    {
     "data": {
      "text/html": [
       "<img src=\"https://bilder.hemnet.se/images/itemgallery_cut/92/2d/922dc94181e925ac04997fdc530d19e8.jpg\" width=\"300\"/>"
      ],
      "text/plain": [
       "<IPython.core.display.Image object>"
      ]
     },
     "metadata": {},
     "output_type": "display_data"
    },
    {
     "data": {
      "text/html": [
       "<img src=\"https://bilder.hemnet.se/images/itemgallery_cut/a1/8e/a18e1c373ba65da7ab0ecbb4b26694e9.jpg\" width=\"300\"/>"
      ],
      "text/plain": [
       "<IPython.core.display.Image object>"
      ]
     },
     "metadata": {},
     "output_type": "display_data"
    },
    {
     "data": {
      "text/html": [
       "<img src=\"https://bilder.hemnet.se/images/itemgallery_cut/4e/bb/4ebba009b9c7ce945aec8d7a4a84564b.jpg\" width=\"300\"/>"
      ],
      "text/plain": [
       "<IPython.core.display.Image object>"
      ]
     },
     "metadata": {},
     "output_type": "display_data"
    },
    {
     "data": {
      "text/html": [
       "<img src=\"https://bilder.hemnet.se/images/itemgallery_cut/16/6d/166d4c3b8559a12e10b11246975dfe8a.jpg\" width=\"300\"/>"
      ],
      "text/plain": [
       "<IPython.core.display.Image object>"
      ]
     },
     "metadata": {},
     "output_type": "display_data"
    },
    {
     "data": {
      "text/html": [
       "<img src=\"https://bilder.hemnet.se/images/itemgallery_cut/0d/a1/0da1edb92f6f00aeb637cc90abf79325.jpg\" width=\"300\"/>"
      ],
      "text/plain": [
       "<IPython.core.display.Image object>"
      ]
     },
     "metadata": {},
     "output_type": "display_data"
    },
    {
     "data": {
      "text/html": [
       "<img src=\"https://bilder.hemnet.se/images/itemgallery_cut/a7/7b/a77b39ef36c459affb34c0effa9f85d9.jpg\" width=\"300\"/>"
      ],
      "text/plain": [
       "<IPython.core.display.Image object>"
      ]
     },
     "metadata": {},
     "output_type": "display_data"
    },
    {
     "data": {
      "text/html": [
       "<img src=\"https://bilder.hemnet.se/images/itemgallery_cut/e1/67/e16735a805d67acadda41ceb8a403767.jpg\" width=\"300\"/>"
      ],
      "text/plain": [
       "<IPython.core.display.Image object>"
      ]
     },
     "metadata": {},
     "output_type": "display_data"
    },
    {
     "data": {
      "text/html": [
       "<img src=\"https://bilder.hemnet.se/images/itemgallery_cut/53/33/53339da13828ee95d260c060127bfea8.jpg\" width=\"300\"/>"
      ],
      "text/plain": [
       "<IPython.core.display.Image object>"
      ]
     },
     "metadata": {},
     "output_type": "display_data"
    },
    {
     "data": {
      "text/html": [
       "<img src=\"https://bilder.hemnet.se/images/itemgallery_cut/6b/09/6b090ce0b4c6289d11d9f1fd194adc63.jpg\" width=\"300\"/>"
      ],
      "text/plain": [
       "<IPython.core.display.Image object>"
      ]
     },
     "metadata": {},
     "output_type": "display_data"
    },
    {
     "data": {
      "text/html": [
       "<img src=\"https://bilder.hemnet.se/images/itemgallery_cut/60/5a/605a0422215dd418ec93b0e57623515c.jpg\" width=\"300\"/>"
      ],
      "text/plain": [
       "<IPython.core.display.Image object>"
      ]
     },
     "metadata": {},
     "output_type": "display_data"
    },
    {
     "data": {
      "text/html": [
       "<img src=\"https://bilder.hemnet.se/images/itemgallery_cut/c9/00/c9008a1f6e0404b9076d8578571934fa.jpg\" width=\"300\"/>"
      ],
      "text/plain": [
       "<IPython.core.display.Image object>"
      ]
     },
     "metadata": {},
     "output_type": "display_data"
    },
    {
     "data": {
      "text/html": [
       "<img src=\"https://bilder.hemnet.se/images/itemgallery_cut/13/50/13500525a2b77adb7d1bb164007468c8.jpg\" width=\"300\"/>"
      ],
      "text/plain": [
       "<IPython.core.display.Image object>"
      ]
     },
     "metadata": {},
     "output_type": "display_data"
    },
    {
     "data": {
      "text/html": [
       "<img src=\"https://bilder.hemnet.se/images/itemgallery_cut/8b/25/8b257b7001d89474350050e910100199.jpg\" width=\"300\"/>"
      ],
      "text/plain": [
       "<IPython.core.display.Image object>"
      ]
     },
     "metadata": {},
     "output_type": "display_data"
    },
    {
     "data": {
      "text/html": [
       "<img src=\"https://bilder.hemnet.se/images/itemgallery_cut/d6/35/d635e04ee7602fd42199ebc9c1e2fa95.jpg\" width=\"300\"/>"
      ],
      "text/plain": [
       "<IPython.core.display.Image object>"
      ]
     },
     "metadata": {},
     "output_type": "display_data"
    },
    {
     "data": {
      "text/html": [
       "<img src=\"https://bilder.hemnet.se/images/itemgallery_cut/33/97/339760cc7bc50383319d4dbfcec5297a.jpg\" width=\"300\"/>"
      ],
      "text/plain": [
       "<IPython.core.display.Image object>"
      ]
     },
     "metadata": {},
     "output_type": "display_data"
    }
   ],
   "source": [
    "#print all images from listing item\n",
    "from IPython.display import Image\n",
    "for index,row in ql_df.iterrows():\n",
    "   display(Image(url=row['url'], width=300))"
   ]
  }
 ],
 "metadata": {
  "kernelspec": {
   "display_name": "Python 3.10.0 64-bit",
   "language": "python",
   "name": "python3"
  },
  "language_info": {
   "codemirror_mode": {
    "name": "ipython",
    "version": 3
   },
   "file_extension": ".py",
   "mimetype": "text/x-python",
   "name": "python",
   "nbconvert_exporter": "python",
   "pygments_lexer": "ipython3",
   "version": "3.10.0"
  },
  "vscode": {
   "interpreter": {
    "hash": "0a7ccb16110ce14ed3efea9a494288ae5ce82bd2448893b7f736893aef85df94"
   }
  }
 },
 "nbformat": 4,
 "nbformat_minor": 5
}
