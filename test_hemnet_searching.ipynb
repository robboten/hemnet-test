{
 "cells": [
  {
   "cell_type": "code",
   "execution_count": 76,
   "id": "361e38e9",
   "metadata": {},
   "outputs": [],
   "source": [
    "import pandas as pd\n",
    "from lxml import etree\n",
    "import requests\n",
    "import json"
   ]
  },
  {
   "cell_type": "markdown",
   "id": "6a6c18e7",
   "metadata": {},
   "source": [
    "---- we can search for a place and then return first hit for a search id ----"
   ]
  },
  {
   "cell_type": "code",
   "execution_count": 77,
   "id": "84431b99",
   "metadata": {},
   "outputs": [],
   "source": [
    "#use dict to search for listings\n",
    "url = \"https://www.hemnet.se/locations/show\"\n",
    "params= {\n",
    "    'q':'östermalm, stockholm'\n",
    "}\n",
    "payload={}\n",
    "\n",
    "headers = {\n",
    "    'User-Agent': 'Mozilla/5.0 (Windows NT 6.1; WOW64) AppleWebKit/537.36 (KHTML, like Gecko) Chrome/56.0.2924.76 Safari/537.36'\n",
    "}\n",
    "\n",
    "response = requests.request(\"GET\", url, headers=headers, data=payload, params=params)\n",
    "\n"
   ]
  },
  {
   "cell_type": "code",
   "execution_count": 78,
   "id": "4ab32b96",
   "metadata": {},
   "outputs": [],
   "source": [
    "json_data=json.loads(response.text)\n",
    "search_id=json_data[0]['id']"
   ]
  },
  {
   "cell_type": "code",
   "execution_count": 79,
   "id": "ef75ecd8",
   "metadata": {},
   "outputs": [],
   "source": [
    "#or make dict with places to search for\n",
    "\n",
    "#location_ids={'Ringvägen':475989,'Huvudsta':473498}\n",
    "#search_id=location_ids['Ringvägen']"
   ]
  },
  {
   "cell_type": "code",
   "execution_count": null,
   "id": "60210df1",
   "metadata": {},
   "outputs": [],
   "source": []
  },
  {
   "cell_type": "code",
   "execution_count": 80,
   "id": "0f7d7e2b",
   "metadata": {
    "scrolled": false
   },
   "outputs": [
    {
     "data": {
      "text/plain": [
       "'https://www.hemnet.se/bostader?housing_form_groups=apartments&location_ids=473448&item_types=bostadsratt'"
      ]
     },
     "execution_count": 80,
     "metadata": {},
     "output_type": "execute_result"
    }
   ],
   "source": [
    "#use dict to search for listings\n",
    "url = \"https://www.hemnet.se/bostader\"\n",
    "params= {\n",
    "    'housing_form_groups':'apartments',\n",
    "    'location_ids':search_id,\n",
    "    'item_types':'bostadsratt'\n",
    "}\n",
    "payload={}\n",
    "\n",
    "headers = {\n",
    "    'User-Agent': 'Mozilla/5.0 (Windows NT 6.1; WOW64) AppleWebKit/537.36 (KHTML, like Gecko) Chrome/56.0.2924.76 Safari/537.36'\n",
    "}\n",
    "\n",
    "response = requests.request(\"GET\", url, headers=headers, data=payload, params=params)\n",
    "response.url"
   ]
  },
  {
   "cell_type": "markdown",
   "id": "e751c449",
   "metadata": {},
   "source": [
    "--------- w beautiful soup ------------"
   ]
  },
  {
   "cell_type": "code",
   "execution_count": 81,
   "id": "f4cf58b1",
   "metadata": {},
   "outputs": [],
   "source": [
    "from bs4 import BeautifulSoup"
   ]
  },
  {
   "cell_type": "code",
   "execution_count": 82,
   "id": "724489a8",
   "metadata": {},
   "outputs": [],
   "source": [
    "soup = BeautifulSoup(response.content, \"html.parser\")"
   ]
  },
  {
   "cell_type": "code",
   "execution_count": 83,
   "id": "bb291f48",
   "metadata": {},
   "outputs": [],
   "source": [
    "#find div with good data to use\n",
    "map_results=soup.find(id='results-map')\n",
    "initial_data=map_results.attrs['data-initial-data']"
   ]
  },
  {
   "cell_type": "code",
   "execution_count": 84,
   "id": "c2266b4b",
   "metadata": {},
   "outputs": [
    {
     "data": {
      "text/plain": [
       "'7d93d049ab026b63e49ef7fa52e772d753e241e8'"
      ]
     },
     "execution_count": 84,
     "metadata": {},
     "output_type": "execute_result"
    }
   ],
   "source": [
    "#find our search key to use\n",
    "json_data=json.loads(initial_data)\n",
    "json_data['search_key']\n"
   ]
  },
  {
   "cell_type": "code",
   "execution_count": 85,
   "id": "595dd150",
   "metadata": {},
   "outputs": [],
   "source": [
    "url = \"https://www.hemnet.se/bostader/search/\"+json_data['search_key']\n",
    "\n",
    "params= {}\n",
    "\n",
    "payload={}\n",
    "\n",
    "headers = {\n",
    "    'User-Agent': 'Mozilla/5.0 (Windows NT 6.1; WOW64) AppleWebKit/537.36 (KHTML, like Gecko) Chrome/56.0.2924.76 Safari/537.36'\n",
    "}\n",
    "\n",
    "response = requests.request(\"GET\", url, headers=headers, data=payload, params=params)\n",
    "\n",
    "#print(response.text)"
   ]
  },
  {
   "cell_type": "code",
   "execution_count": 86,
   "id": "65fcf23f",
   "metadata": {},
   "outputs": [],
   "source": [
    "r_json = response.json()\n",
    "r_prop = r_json['properties']\n",
    "#r_prop"
   ]
  },
  {
   "cell_type": "code",
   "execution_count": 87,
   "id": "e0ff4702",
   "metadata": {},
   "outputs": [
    {
     "data": {
      "text/html": [
       "<div>\n",
       "<style scoped>\n",
       "    .dataframe tbody tr th:only-of-type {\n",
       "        vertical-align: middle;\n",
       "    }\n",
       "\n",
       "    .dataframe tbody tr th {\n",
       "        vertical-align: top;\n",
       "    }\n",
       "\n",
       "    .dataframe thead th {\n",
       "        text-align: right;\n",
       "    }\n",
       "</style>\n",
       "<table border=\"1\" class=\"dataframe\">\n",
       "  <thead>\n",
       "    <tr style=\"text-align: right;\">\n",
       "      <th></th>\n",
       "      <th>id</th>\n",
       "      <th>coordinate</th>\n",
       "      <th>address</th>\n",
       "      <th>location_name</th>\n",
       "      <th>typeSummary</th>\n",
       "      <th>iconName</th>\n",
       "      <th>project</th>\n",
       "      <th>new_construction</th>\n",
       "      <th>ongoing_bidding</th>\n",
       "      <th>foreclosure</th>\n",
       "      <th>...</th>\n",
       "      <th>broker_logo_url</th>\n",
       "      <th>broker_agency_name</th>\n",
       "      <th>locations_string</th>\n",
       "      <th>should_display_showings</th>\n",
       "      <th>should_highlight_showings</th>\n",
       "      <th>trackingData</th>\n",
       "      <th>broker_name</th>\n",
       "      <th>broker_phone</th>\n",
       "      <th>broker_email</th>\n",
       "      <th>price_change</th>\n",
       "    </tr>\n",
       "  </thead>\n",
       "  <tbody>\n",
       "    <tr>\n",
       "      <th>0</th>\n",
       "      <td>19226998</td>\n",
       "      <td>[59.337013065191975, 18.0787619183812]</td>\n",
       "      <td>Nybrogatan 45A</td>\n",
       "      <td>Stockholms kommun</td>\n",
       "      <td>Bostadsrättslägenhet</td>\n",
       "      <td>bostadsratt</td>\n",
       "      <td>False</td>\n",
       "      <td>False</td>\n",
       "      <td>False</td>\n",
       "      <td>False</td>\n",
       "      <td>...</td>\n",
       "      <td>https://bilder.hemnet.se/images/broker_logo_2/...</td>\n",
       "      <td>Eklund Stockholm New York</td>\n",
       "      <td>Östermalm, Stockholms kommun</td>\n",
       "      <td>False</td>\n",
       "      <td>False</td>\n",
       "      <td>{'listingId': '19226998', 'listingType': 'comm...</td>\n",
       "      <td>NaN</td>\n",
       "      <td>NaN</td>\n",
       "      <td>NaN</td>\n",
       "      <td>NaN</td>\n",
       "    </tr>\n",
       "    <tr>\n",
       "      <th>1</th>\n",
       "      <td>19227035</td>\n",
       "      <td>[59.3341255, 18.0876961]</td>\n",
       "      <td>Storgatan 32</td>\n",
       "      <td>Stockholms kommun</td>\n",
       "      <td>Bostadsrättslägenhet</td>\n",
       "      <td>bostadsratt</td>\n",
       "      <td>False</td>\n",
       "      <td>False</td>\n",
       "      <td>False</td>\n",
       "      <td>False</td>\n",
       "      <td>...</td>\n",
       "      <td>https://bilder.hemnet.se/images/broker_logo_2/...</td>\n",
       "      <td>Unik Fastighetsförmedling AB</td>\n",
       "      <td>Östermalm, Stockholms kommun</td>\n",
       "      <td>False</td>\n",
       "      <td>False</td>\n",
       "      <td>{'listingId': '19227035', 'listingType': 'comm...</td>\n",
       "      <td>NaN</td>\n",
       "      <td>NaN</td>\n",
       "      <td>NaN</td>\n",
       "      <td>NaN</td>\n",
       "    </tr>\n",
       "    <tr>\n",
       "      <th>2</th>\n",
       "      <td>19226042</td>\n",
       "      <td>[59.33749, 18.08601]</td>\n",
       "      <td>Kommendörsgatan 33A</td>\n",
       "      <td>Stockholms kommun</td>\n",
       "      <td>Bostadsrättslägenhet</td>\n",
       "      <td>bostadsratt</td>\n",
       "      <td>False</td>\n",
       "      <td>False</td>\n",
       "      <td>False</td>\n",
       "      <td>False</td>\n",
       "      <td>...</td>\n",
       "      <td>https://bilder.hemnet.se/images/broker_logo_2/...</td>\n",
       "      <td>Svensk Fastighetsförmedling Sthlm Östermalm/Gä...</td>\n",
       "      <td>Östermalm, Stockholms kommun</td>\n",
       "      <td>False</td>\n",
       "      <td>False</td>\n",
       "      <td>{'listingId': '19226042', 'listingType': 'comm...</td>\n",
       "      <td>NaN</td>\n",
       "      <td>NaN</td>\n",
       "      <td>NaN</td>\n",
       "      <td>NaN</td>\n",
       "    </tr>\n",
       "  </tbody>\n",
       "</table>\n",
       "<p>3 rows × 38 columns</p>\n",
       "</div>"
      ],
      "text/plain": [
       "         id                              coordinate              address  \\\n",
       "0  19226998  [59.337013065191975, 18.0787619183812]       Nybrogatan 45A   \n",
       "1  19227035                [59.3341255, 18.0876961]         Storgatan 32   \n",
       "2  19226042                    [59.33749, 18.08601]  Kommendörsgatan 33A   \n",
       "\n",
       "       location_name           typeSummary     iconName  project  \\\n",
       "0  Stockholms kommun  Bostadsrättslägenhet  bostadsratt    False   \n",
       "1  Stockholms kommun  Bostadsrättslägenhet  bostadsratt    False   \n",
       "2  Stockholms kommun  Bostadsrättslägenhet  bostadsratt    False   \n",
       "\n",
       "   new_construction  ongoing_bidding  foreclosure  ...  \\\n",
       "0             False            False        False  ...   \n",
       "1             False            False        False  ...   \n",
       "2             False            False        False  ...   \n",
       "\n",
       "                                     broker_logo_url  \\\n",
       "0  https://bilder.hemnet.se/images/broker_logo_2/...   \n",
       "1  https://bilder.hemnet.se/images/broker_logo_2/...   \n",
       "2  https://bilder.hemnet.se/images/broker_logo_2/...   \n",
       "\n",
       "                                  broker_agency_name  \\\n",
       "0                          Eklund Stockholm New York   \n",
       "1                       Unik Fastighetsförmedling AB   \n",
       "2  Svensk Fastighetsförmedling Sthlm Östermalm/Gä...   \n",
       "\n",
       "               locations_string  should_display_showings  \\\n",
       "0  Östermalm, Stockholms kommun                    False   \n",
       "1  Östermalm, Stockholms kommun                    False   \n",
       "2  Östermalm, Stockholms kommun                    False   \n",
       "\n",
       "  should_highlight_showings  \\\n",
       "0                     False   \n",
       "1                     False   \n",
       "2                     False   \n",
       "\n",
       "                                        trackingData broker_name  \\\n",
       "0  {'listingId': '19226998', 'listingType': 'comm...         NaN   \n",
       "1  {'listingId': '19227035', 'listingType': 'comm...         NaN   \n",
       "2  {'listingId': '19226042', 'listingType': 'comm...         NaN   \n",
       "\n",
       "   broker_phone  broker_email price_change  \n",
       "0           NaN           NaN          NaN  \n",
       "1           NaN           NaN          NaN  \n",
       "2           NaN           NaN          NaN  \n",
       "\n",
       "[3 rows x 38 columns]"
      ]
     },
     "execution_count": 87,
     "metadata": {},
     "output_type": "execute_result"
    }
   ],
   "source": [
    "df=pd.json_normalize(r_prop, max_level=0)\n",
    "df.head(3)"
   ]
  }
 ],
 "metadata": {
  "kernelspec": {
   "display_name": "Python 3.10.0 64-bit",
   "language": "python",
   "name": "python3"
  },
  "language_info": {
   "codemirror_mode": {
    "name": "ipython",
    "version": 3
   },
   "file_extension": ".py",
   "mimetype": "text/x-python",
   "name": "python",
   "nbconvert_exporter": "python",
   "pygments_lexer": "ipython3",
   "version": "3.10.0"
  },
  "vscode": {
   "interpreter": {
    "hash": "0a7ccb16110ce14ed3efea9a494288ae5ce82bd2448893b7f736893aef85df94"
   }
  }
 },
 "nbformat": 4,
 "nbformat_minor": 5
}
