{
 "cells": [
  {
   "cell_type": "code",
   "execution_count": null,
   "id": "361e38e9",
   "metadata": {},
   "outputs": [],
   "source": [
    "import pandas as pd\n",
    "#from lxml import etree\n",
    "import requests\n",
    "from bs4 import BeautifulSoup"
   ]
  },
  {
   "cell_type": "code",
   "execution_count": null,
   "id": "379bbc89",
   "metadata": {},
   "outputs": [],
   "source": [
    "import json\n",
    "import unicodedata\n",
    "from datetime import datetime"
   ]
  },
  {
   "cell_type": "markdown",
   "id": "6a6c18e7",
   "metadata": {},
   "source": [
    "---- using HTML response ----"
   ]
  },
  {
   "cell_type": "code",
   "execution_count": null,
   "id": "689f8201",
   "metadata": {},
   "outputs": [],
   "source": [
    "import locale\n",
    "locale.getdefaultlocale()"
   ]
  },
  {
   "cell_type": "code",
   "execution_count": null,
   "id": "6b490673",
   "metadata": {},
   "outputs": [],
   "source": [
    "#locale.setlocale(locale.LC_TIME, \"sv_SE.UTF-8\")\n",
    "#locale.setlocale(locale.LC_ALL, 'sv_SE')\n",
    "locale.setlocale(locale.LC_TIME, \"sv_SE\")\n",
    "#locale.setlocale(locale.LC_ALL, '')"
   ]
  },
  {
   "cell_type": "code",
   "execution_count": null,
   "id": "0f7d7e2b",
   "metadata": {
    "scrolled": false
   },
   "outputs": [],
   "source": [
    "url = \"https://www.hemnet.se/salda/bostader\"\n",
    "params= {\n",
    "    #'housing_form_groups':'apartments',\n",
    "    'location_ids':'898472', #17853\n",
    "    #'item_types':'bostadsratt',\n",
    "    'by':'sale_date', #sort by sold date\n",
    "    'order':'asc',\n",
    "    'preferred_sorting':'true',\n",
    "    'sold_age':'3m', #1d,4d,1w,1m and so on...\n",
    "    'page':1\n",
    "}\n",
    "payload={}\n",
    "\n",
    "headers = {\n",
    "    'User-Agent': 'Mozilla/5.0'\n",
    "}\n",
    "\n",
    "response = requests.request(\"GET\", url, headers=headers, data=payload, params=params)\n",
    "soup = BeautifulSoup(response.content, \"html.parser\")\n",
    "response.url"
   ]
  },
  {
   "cell_type": "code",
   "execution_count": null,
   "id": "d1e869a5",
   "metadata": {},
   "outputs": [],
   "source": [
    "#list to add our objects to\n",
    "item_list=[]\n",
    "\n",
    "def read_pagedata(soupref):\n",
    "    #find the ul with the results list\n",
    "    result_ul=soupref.find('ul','sold-results')\n",
    "\n",
    "    #get the list items with our data (filter out the ads)\n",
    "    result_li=result_ul('li', 'sold-results__normal-hit')\n",
    "\n",
    "    #print(result_li)\n",
    "\n",
    "    #start loop...\n",
    "    for item in result_li:\n",
    "        #a dict to collect all key/values in\n",
    "        item_dict={}\n",
    "\n",
    "        #get tracking data json for ids...\n",
    "        tracking_data=item.attrs['data-tracking-data']\n",
    "        tracking_data_json=json.loads(tracking_data)\n",
    "\n",
    "        #add ids\n",
    "        item_dict['listingId']=tracking_data_json['listingId']\n",
    "        item_dict['saleId']=tracking_data_json['saleId']\n",
    "        \n",
    "        #get the anchor href for the url\n",
    "        result_li_a=item.find('a','sold-property-link')\n",
    "        item_dict['url']=result_li_a['href']\n",
    "\n",
    "        #get our sale listing info\n",
    "        result_price_info=result_li_a.find('div','sold-property-listing__location')\n",
    "\n",
    "        #address\n",
    "        address=result_li_a.find('h2','sold-property-listing__heading').string.strip()\n",
    "        #address=address.replace(' / ','/') #unicode getting in the way again?\n",
    "        item_dict['address']=address\n",
    "\n",
    "        #fee\n",
    "        fee_el=result_li_a.find('div','sold-property-listing__fee')\n",
    "        if fee_el:\n",
    "            fee=fee_el.string.strip()\n",
    "            fee=int(\"\".join(unicodedata.normalize(\"NFKD\",fee).strip('kr/mån').split()))\n",
    "            item_dict['fee']=fee\n",
    "\n",
    "        #living area\n",
    "        #area=result_li_a.find('div','sold-property-listing__area').string.strip()\n",
    "        #area=int(\"\".join(unicodedata.normalize(\"NFKD\",fee).strip('kr/mån').split()))\n",
    "        #item_dict['area']=area\n",
    "        area_el=result_li_a.find('div','sold-property-listing__area')\n",
    "        if area_el:\n",
    "            area=area_el.text.strip()\n",
    "            item_dict[\"unprocessed\"]=area\n",
    "            area_arr=\"\".join(area.split('m²')).split()\n",
    "            \n",
    "            # print(area_arr)\n",
    "\n",
    "            span_el = result_li_a.find('span', 'listing-card__attribute--normal-weight')\n",
    "            if span_el: \n",
    "                total_area=\\\n",
    "                    float(area_arr[0].replace(\",\", \".\")) + \\\n",
    "                    float(area_arr[2].replace(\",\", \".\"))\n",
    "                item_dict['living_area']=total_area\n",
    "                if len(area_arr) > 4:\n",
    "                    item_dict['rooms']=area_arr[3]\n",
    "            else:\n",
    "                item_dict['living_area']=area_arr[0]\n",
    "                if len(area_arr) > 1:\n",
    "                    item_dict['rooms']=area_arr[1] \n",
    "        \n",
    "        #get our sale price info\n",
    "        result_price_info=result_li_a.find('div','sold-property-listing__price-info')\n",
    "\n",
    "        #ending date\n",
    "        end_date_el=result_price_info.find('div',class_=\"sold-property-listing__sold-date\")\n",
    "        if end_date_el:\n",
    "            end_date_str=end_date_el.string.strip()\n",
    "            end_date_str=end_date_str.replace('Såld ','')\n",
    "            end_date=datetime.strptime(end_date_str, '%d %B %Y')\n",
    "            item_dict['end_date']=end_date\n",
    "\n",
    "        #end price\n",
    "        end_price_el=result_price_info.find('div',class_=\"sold-property-listing__subheading\")\n",
    "        if end_price_el:\n",
    "            end_price_str=end_price_el.string.strip()\n",
    "            end_price=int(\"\".join(end_price_str.strip(' kr').replace('Slutpris ','').split()))\n",
    "            item_dict['end_price']=end_price\n",
    "\n",
    "        #end price/m2\n",
    "        end_price_area_el=result_price_info.find('div',class_=\"sold-property-listing__price-per-m2\")\n",
    "        if end_price_area_el:\n",
    "            end_price_area_str=end_price_area_el.string.strip()\n",
    "            end_price_area=int(\"\".join(unicodedata.normalize(\"NFKD\",end_price_area_str).strip('kr/m2').split()))\n",
    "            item_dict['end_price_area']=end_price_area\n",
    "        \n",
    "        #price change\n",
    "        end_price_change_el=result_price_info.find('div',class_=\"sold-property-listing__price-change\")\n",
    "        if end_price_change_el:\n",
    "            end_price_change_str=end_price_change_el.string.strip()\n",
    "            end_price_change_str=\"\".join(end_price_change_str.strip(' %').split())\n",
    "            end_price_change=int(end_price_change_str[1:])\n",
    "            end_price_change_sign=end_price_change_str[0]\n",
    "\n",
    "            #calculate rate (percentage in float)\n",
    "            if end_price_change !=0:\n",
    "                item_dict['end_price_change_rate']=eval(f'100{end_price_change_sign}{end_price_change}')/100\n",
    "            elif end_price_change==0:\n",
    "                item_dict['end_price_change_rate']=100/100\n",
    "\n",
    "            item_dict['end_price_change']=end_price_change\n",
    "            item_dict['end_price_change_sign']=end_price_change_sign\n",
    "\n",
    "        item_list.append(item_dict)\n",
    "\n",
    "#print(item_list)"
   ]
  },
  {
   "cell_type": "code",
   "execution_count": null,
   "id": "0d8232dd",
   "metadata": {},
   "outputs": [],
   "source": [
    "read_pagedata(soup)\n",
    "next_link=soup.find('a','next_page')\n",
    "while next_link:\n",
    "    print(next_link['href'])\n",
    "    next_response = requests.request(\"GET\", \"https://www.hemnet.se\"+next_link['href'], headers=headers)\n",
    "    next_soup = BeautifulSoup(next_response.content, \"html.parser\")\n",
    "    read_pagedata(next_soup)\n",
    "    next_link=next_soup.find('a','next_page')"
   ]
  },
  {
   "cell_type": "code",
   "execution_count": null,
   "id": "6e5e5da2",
   "metadata": {},
   "outputs": [],
   "source": [
    "df=pd.json_normalize(item_list)\n",
    "df.info()"
   ]
  },
  {
   "cell_type": "code",
   "execution_count": null,
   "id": "4d95d657",
   "metadata": {},
   "outputs": [],
   "source": [
    "df"
   ]
  },
  {
   "cell_type": "code",
   "execution_count": null,
   "id": "86dff3ff",
   "metadata": {},
   "outputs": [],
   "source": [
    "df[df[\"fee\"].isna()]"
   ]
  },
  {
   "cell_type": "markdown",
   "id": "08ce9240",
   "metadata": {},
   "source": [
    "import json\n",
    "import unicodedata\n",
    "from datetime import datetime\n",
    "\n",
    "\n",
    "#find the ul with the results list\n",
    "result_ul=soup.find('ul','sold-results')\n",
    "\n",
    "#get the list items with our data (filter out the ads)\n",
    "result_li=result_ul('li', 'sold-results__normal-hit')\n",
    "\n",
    "print(len(result_li))\n",
    "\n",
    "#start loop...\n",
    "for item in result_li:\n",
    "    \n",
    "    #get the anchor href for the url\n",
    "    result_li_a=item.find('a','sold-property-link')\n",
    "\n",
    "    #living area\n",
    "    area=result_li_a.find('div','sold-property-listing__area').string.strip()\n",
    "    area_arr=\"\".join(area.split('m²')).split()\n",
    "    rooms=area_arr[1]\n",
    "    living_area=area_arr[0]\n",
    "    #area=int(\"\".join(unicodedata.normalize(\"NFKD\",area).strip('kr/mån').split()))\n",
    "    #address\n",
    "    #address_str=result_price_info.find('div',class_='sold-property-listing__location').string.strip()\n",
    "    #print(address_str)"
   ]
  }
 ],
 "metadata": {
  "kernelspec": {
   "display_name": "Python 3 (ipykernel)",
   "language": "python",
   "name": "python3"
  },
  "language_info": {
   "codemirror_mode": {
    "name": "ipython",
    "version": 3
   },
   "file_extension": ".py",
   "mimetype": "text/x-python",
   "name": "python",
   "nbconvert_exporter": "python",
   "pygments_lexer": "ipython3",
   "version": "3.10.2"
  },
  "vscode": {
   "interpreter": {
    "hash": "99338470076d44dd1cbafe87ef225b4c2fdcb3df4073f8a286e224c632a31409"
   }
  }
 },
 "nbformat": 4,
 "nbformat_minor": 5
}
