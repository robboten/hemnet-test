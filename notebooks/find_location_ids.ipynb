{
 "cells": [
  {
   "cell_type": "code",
   "execution_count": 37,
   "id": "444eb6cc",
   "metadata": {},
   "outputs": [],
   "source": [
    "import json\n",
    "import os\n",
    "import re\n",
    "import warnings\n",
    "\n",
    "from bs4 import BeautifulSoup\n",
    "from datetime import datetime\n",
    "import pandas as pd\n",
    "from pathlib import Path\n",
    "import requests\n",
    "import yaml"
   ]
  },
  {
   "cell_type": "code",
   "execution_count": 3,
   "id": "4965b0b7",
   "metadata": {},
   "outputs": [],
   "source": [
    "warnings.filterwarnings(\"ignore\")\n",
    "pd.set_option(\"display.max_columns\", None)\n",
    "pd.set_option('display.max_rows', 250)"
   ]
  },
  {
   "attachments": {},
   "cell_type": "markdown",
   "id": "e294c54e",
   "metadata": {},
   "source": [
    "### Norrtälje kommun"
   ]
  },
  {
   "cell_type": "code",
   "execution_count": null,
   "id": "96e48cf5",
   "metadata": {},
   "outputs": [],
   "source": [
    "# 902597\n",
    "# 902601\n",
    "# 902604\n",
    "# 902827\n",
    "# 902833\n",
    "# 902842\n",
    "# 902845\n",
    "# 902855\n",
    "# 902856\n",
    "# 902860\n",
    "# 902862\n",
    "# 902868\n",
    "# 902869\n",
    "# 902873\n",
    "# 902947\n",
    "# 903662\n",
    "# 903663\n",
    "# 903665\n",
    "# 903673\n",
    "# 903687\n",
    "# 903690\n",
    "# 903691\n",
    "# 903723\n",
    "# 903731\n",
    "# 909981\n",
    "# 909987\n",
    "# 909994\n",
    "# 910051\n",
    "# 910127\n",
    "# 923691\n",
    "# 923695\n",
    "# 924056\n",
    "# 924065\n",
    "# 939448\n",
    "# 939947\n",
    "# 940299\n",
    "# 940329\n",
    "# 940340"
   ]
  },
  {
   "cell_type": "code",
   "execution_count": 8,
   "id": "0e68f7b7",
   "metadata": {},
   "outputs": [],
   "source": [
    "norrtalje_visible_location_ids = [\n",
    "    902597,\n",
    "    902601,\n",
    "    902604,\n",
    "    902827,\n",
    "    902833,\n",
    "    902842,\n",
    "    902845,\n",
    "    902855,\n",
    "    902856,\n",
    "    902860,\n",
    "    902862,\n",
    "    902868,\n",
    "    902869,\n",
    "    902873,\n",
    "    902947,\n",
    "    903662,\n",
    "    903663,\n",
    "    903665,\n",
    "    903673,\n",
    "    903687,\n",
    "    903690,\n",
    "    903691,\n",
    "    903723,\n",
    "    903731,\n",
    "    909981,\n",
    "    909987,\n",
    "    909994,\n",
    "    910051,\n",
    "    910127,\n",
    "    923691,\n",
    "    923695,\n",
    "    924056,\n",
    "    924065,\n",
    "    939448,\n",
    "    939947,\n",
    "    940299,\n",
    "    940329,\n",
    "    940340,\n",
    "]"
   ]
  },
  {
   "cell_type": "code",
   "execution_count": 9,
   "id": "20204c72",
   "metadata": {},
   "outputs": [
    {
     "data": {
      "text/plain": [
       "38"
      ]
     },
     "execution_count": 9,
     "metadata": {},
     "output_type": "execute_result"
    }
   ],
   "source": [
    "len(norrtalje_visible_location_ids)"
   ]
  },
  {
   "cell_type": "code",
   "execution_count": null,
   "id": "a41dfe61",
   "metadata": {},
   "outputs": [],
   "source": [
    "902597 : 0\n",
    "902601 : 2\n",
    "902000 : NaN"
   ]
  },
  {
   "cell_type": "code",
   "execution_count": 71,
   "id": "d60d0073",
   "metadata": {},
   "outputs": [
    {
     "data": {
      "text/plain": [
       "16186"
      ]
     },
     "execution_count": 71,
     "metadata": {},
     "output_type": "execute_result"
    }
   ],
   "source": [
    "start = 933815\n",
    "end = 950000\n",
    "\n",
    "numbers_list = [num for num in range(start, end + 1)]\n",
    "len(numbers_list)"
   ]
  },
  {
   "cell_type": "code",
   "execution_count": 72,
   "id": "d131f4f0",
   "metadata": {},
   "outputs": [],
   "source": [
    "id_dict = {}\n",
    "for id in numbers_list:\n",
    "    url = \"https://www.hemnet.se/bostader\"\n",
    "    params= {\n",
    "        \"location_ids\":id,\n",
    "    }\n",
    "    payload={}\n",
    "    headers = {\"User-Agent\": \"Mozilla/5.0\"\n",
    "    }\n",
    "\n",
    "    response = requests.request(\n",
    "        \"GET\",\n",
    "        url,\n",
    "        headers=headers,\n",
    "        data=payload,\n",
    "        params=params\n",
    "    )\n",
    "\n",
    "    soup = BeautifulSoup(response.content, \"html.parser\")\n",
    "    h1_element = soup.find_all('h1', class_='hcl-heading hcl-heading--size3')\n",
    "    h1_element_str = str(h1_element)\n",
    "    match = re.search(r'-\\s+(.*)</h1>', h1_element_str)\n",
    "    if match:\n",
    "        extracted_text = match.group(1)\n",
    "        id_dict[id] = extracted_text"
   ]
  },
  {
   "cell_type": "code",
   "execution_count": 66,
   "id": "7c48f848",
   "metadata": {},
   "outputs": [
    {
     "data": {
      "text/html": [
       "<div>\n",
       "<style scoped>\n",
       "    .dataframe tbody tr th:only-of-type {\n",
       "        vertical-align: middle;\n",
       "    }\n",
       "\n",
       "    .dataframe tbody tr th {\n",
       "        vertical-align: top;\n",
       "    }\n",
       "\n",
       "    .dataframe thead th {\n",
       "        text-align: right;\n",
       "    }\n",
       "</style>\n",
       "<table border=\"1\" class=\"dataframe\">\n",
       "  <thead>\n",
       "    <tr style=\"text-align: right;\">\n",
       "      <th></th>\n",
       "      <th>hemnet_location_id</th>\n",
       "      <th>area</th>\n",
       "    </tr>\n",
       "  </thead>\n",
       "  <tbody>\n",
       "    <tr>\n",
       "      <th>0</th>\n",
       "      <td>900000</td>\n",
       "      <td>Gunnarskog tätort, Arvika kommun</td>\n",
       "    </tr>\n",
       "    <tr>\n",
       "      <th>1</th>\n",
       "      <td>900001</td>\n",
       "      <td>Lilla Stenby tätort, Ekerö kommun</td>\n",
       "    </tr>\n",
       "    <tr>\n",
       "      <th>2</th>\n",
       "      <td>900002</td>\n",
       "      <td>Starrkärr och Näs tätort, Stenungsunds kommun</td>\n",
       "    </tr>\n",
       "    <tr>\n",
       "      <th>3</th>\n",
       "      <td>900003</td>\n",
       "      <td>Månkarbo tätort, Tierps kommun</td>\n",
       "    </tr>\n",
       "    <tr>\n",
       "      <th>4</th>\n",
       "      <td>900004</td>\n",
       "      <td>Raksta tätort, Tyresö kommun</td>\n",
       "    </tr>\n",
       "    <tr>\n",
       "      <th>...</th>\n",
       "      <td>...</td>\n",
       "      <td>...</td>\n",
       "    </tr>\n",
       "    <tr>\n",
       "      <th>33811</th>\n",
       "      <td>933811</td>\n",
       "      <td>Bjärka-Säby Storängen, Linköpings kommun</td>\n",
       "    </tr>\n",
       "    <tr>\n",
       "      <th>33812</th>\n",
       "      <td>933812</td>\n",
       "      <td>Björkbacksvägen, Linköpings kommun</td>\n",
       "    </tr>\n",
       "    <tr>\n",
       "      <th>33813</th>\n",
       "      <td>933813</td>\n",
       "      <td>Björklida Björkmo, Linköpings kommun</td>\n",
       "    </tr>\n",
       "    <tr>\n",
       "      <th>33814</th>\n",
       "      <td>933814</td>\n",
       "      <td>Björklida Svensbo, Linköpings kommun</td>\n",
       "    </tr>\n",
       "    <tr>\n",
       "      <th>33815</th>\n",
       "      <td>933815</td>\n",
       "      <td>Bonäsvägen, Linköpings kommun</td>\n",
       "    </tr>\n",
       "  </tbody>\n",
       "</table>\n",
       "<p>33816 rows × 2 columns</p>\n",
       "</div>"
      ],
      "text/plain": [
       "       hemnet_location_id                                           area\n",
       "0                  900000               Gunnarskog tätort, Arvika kommun\n",
       "1                  900001              Lilla Stenby tätort, Ekerö kommun\n",
       "2                  900002  Starrkärr och Näs tätort, Stenungsunds kommun\n",
       "3                  900003                 Månkarbo tätort, Tierps kommun\n",
       "4                  900004                   Raksta tätort, Tyresö kommun\n",
       "...                   ...                                            ...\n",
       "33811              933811       Bjärka-Säby Storängen, Linköpings kommun\n",
       "33812              933812             Björkbacksvägen, Linköpings kommun\n",
       "33813              933813           Björklida Björkmo, Linköpings kommun\n",
       "33814              933814           Björklida Svensbo, Linköpings kommun\n",
       "33815              933815                  Bonäsvägen, Linköpings kommun\n",
       "\n",
       "[33816 rows x 2 columns]"
      ]
     },
     "execution_count": 66,
     "metadata": {},
     "output_type": "execute_result"
    }
   ],
   "source": [
    "location_id_df = pd.DataFrame.from_dict(id_dict, orient=\"index\", columns=[\"area\"]).reset_index().rename(columns={\"index\":\"hemnet_location_id\"})\n",
    "location_id_df"
   ]
  },
  {
   "cell_type": "code",
   "execution_count": 69,
   "id": "07fe9117",
   "metadata": {},
   "outputs": [
    {
     "data": {
      "text/plain": [
       "33815"
      ]
     },
     "execution_count": 69,
     "metadata": {},
     "output_type": "execute_result"
    }
   ],
   "source": [
    "933815 - 900000"
   ]
  },
  {
   "cell_type": "code",
   "execution_count": 67,
   "id": "aca4379e",
   "metadata": {},
   "outputs": [],
   "source": [
    "location_id_df.to_parquet(\"../data/hemnet_location_ids_933815_950000.parquet.gzip\")"
   ]
  },
  {
   "cell_type": "code",
   "execution_count": 68,
   "id": "0d2441df",
   "metadata": {},
   "outputs": [
    {
     "data": {
      "text/html": [
       "<div>\n",
       "<style scoped>\n",
       "    .dataframe tbody tr th:only-of-type {\n",
       "        vertical-align: middle;\n",
       "    }\n",
       "\n",
       "    .dataframe tbody tr th {\n",
       "        vertical-align: top;\n",
       "    }\n",
       "\n",
       "    .dataframe thead th {\n",
       "        text-align: right;\n",
       "    }\n",
       "</style>\n",
       "<table border=\"1\" class=\"dataframe\">\n",
       "  <thead>\n",
       "    <tr style=\"text-align: right;\">\n",
       "      <th></th>\n",
       "      <th>hemnet_location_id</th>\n",
       "      <th>area</th>\n",
       "    </tr>\n",
       "  </thead>\n",
       "  <tbody>\n",
       "    <tr>\n",
       "      <th>268</th>\n",
       "      <td>900268</td>\n",
       "      <td>Sverige</td>\n",
       "    </tr>\n",
       "    <tr>\n",
       "      <th>269</th>\n",
       "      <td>900269</td>\n",
       "      <td>Sverige</td>\n",
       "    </tr>\n",
       "    <tr>\n",
       "      <th>270</th>\n",
       "      <td>900270</td>\n",
       "      <td>Sverige</td>\n",
       "    </tr>\n",
       "    <tr>\n",
       "      <th>271</th>\n",
       "      <td>900271</td>\n",
       "      <td>Sverige</td>\n",
       "    </tr>\n",
       "    <tr>\n",
       "      <th>272</th>\n",
       "      <td>900272</td>\n",
       "      <td>Sverige</td>\n",
       "    </tr>\n",
       "    <tr>\n",
       "      <th>...</th>\n",
       "      <td>...</td>\n",
       "      <td>...</td>\n",
       "    </tr>\n",
       "    <tr>\n",
       "      <th>24046</th>\n",
       "      <td>924046</td>\n",
       "      <td>Sverige</td>\n",
       "    </tr>\n",
       "    <tr>\n",
       "      <th>24047</th>\n",
       "      <td>924047</td>\n",
       "      <td>Sverige</td>\n",
       "    </tr>\n",
       "    <tr>\n",
       "      <th>24048</th>\n",
       "      <td>924048</td>\n",
       "      <td>Sverige</td>\n",
       "    </tr>\n",
       "    <tr>\n",
       "      <th>24082</th>\n",
       "      <td>924082</td>\n",
       "      <td>Sverige</td>\n",
       "    </tr>\n",
       "    <tr>\n",
       "      <th>29968</th>\n",
       "      <td>929968</td>\n",
       "      <td>Sverige</td>\n",
       "    </tr>\n",
       "  </tbody>\n",
       "</table>\n",
       "<p>6197 rows × 2 columns</p>\n",
       "</div>"
      ],
      "text/plain": [
       "       hemnet_location_id     area\n",
       "268                900268  Sverige\n",
       "269                900269  Sverige\n",
       "270                900270  Sverige\n",
       "271                900271  Sverige\n",
       "272                900272  Sverige\n",
       "...                   ...      ...\n",
       "24046              924046  Sverige\n",
       "24047              924047  Sverige\n",
       "24048              924048  Sverige\n",
       "24082              924082  Sverige\n",
       "29968              929968  Sverige\n",
       "\n",
       "[6197 rows x 2 columns]"
      ]
     },
     "execution_count": 68,
     "metadata": {},
     "output_type": "execute_result"
    }
   ],
   "source": [
    "location_id_df.query(\"area == 'Sverige'\")"
   ]
  },
  {
   "cell_type": "code",
   "execution_count": null,
   "id": "8a3d093a",
   "metadata": {},
   "outputs": [],
   "source": []
  }
 ],
 "metadata": {
  "kernelspec": {
   "display_name": "Python 3 (ipykernel)",
   "language": "python",
   "name": "python3"
  },
  "language_info": {
   "codemirror_mode": {
    "name": "ipython",
    "version": 3
   },
   "file_extension": ".py",
   "mimetype": "text/x-python",
   "name": "python",
   "nbconvert_exporter": "python",
   "pygments_lexer": "ipython3",
   "version": "3.10.2"
  }
 },
 "nbformat": 4,
 "nbformat_minor": 5
}
