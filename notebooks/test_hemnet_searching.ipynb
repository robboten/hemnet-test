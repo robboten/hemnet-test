{
 "cells": [
  {
   "cell_type": "code",
   "execution_count": 1,
   "id": "361e38e9",
   "metadata": {},
   "outputs": [],
   "source": [
    "import pandas as pd\n",
    "import requests\n",
    "import json"
   ]
  },
  {
   "cell_type": "markdown",
   "id": "6a6c18e7",
   "metadata": {},
   "source": [
    "---- we can search for a place and then return first hit for a search id ----"
   ]
  },
  {
   "cell_type": "code",
   "execution_count": 2,
   "id": "84431b99",
   "metadata": {},
   "outputs": [
    {
     "data": {
      "text/plain": [
       "'[{\"id\":898472,\"name\":\"Södermalm\",\"location_type\":\"district\",\"slug\":\"sodermalm\",\"parent_location\":{\"id\":18031,\"name\":\"Stockholms kommun\",\"location_type\":\"municipality\",\"slug\":\"stockholms-kommun\"}},{\"id\":476044,\"name\":\"Södermalmstorg\",\"location_type\":\"street\",\"slug\":\"sodermalmstorg\",\"parent_location\":{\"id\":18057,\"name\":\"Stockholm\",\"location_type\":\"postal_city\",\"slug\":\"stockholm\"}},{\"id\":476225,\"name\":\"Södermalmsallén\",\"location_type\":\"street\",\"slug\":\"sodermalmsallen\",\"parent_location\":{\"id\":18057,\"name\":\"Stockholm\",\"location_type\":\"postal_city\",\"slug\":\"stockholm\"}}]'"
      ]
     },
     "execution_count": 2,
     "metadata": {},
     "output_type": "execute_result"
    }
   ],
   "source": [
    "#use dict to search for listings\n",
    "url = \"https://www.hemnet.se/locations/show\"\n",
    "params= {\n",
    "    'q':'Södermalm, Stockholm'\n",
    "}\n",
    "payload={}\n",
    "\n",
    "headers = {\n",
    "    'User-Agent': 'Mozilla/5.0 (Windows NT 6.1; WOW64) AppleWebKit/537.36 (KHTML, like Gecko) Chrome/56.0.2924.76 Safari/537.36'\n",
    "}\n",
    "\n",
    "response = requests.request(\"GET\", url, headers=headers, data=payload, params=params)\n",
    "response.text\n",
    "\n"
   ]
  },
  {
   "cell_type": "code",
   "execution_count": 3,
   "id": "4ab32b96",
   "metadata": {},
   "outputs": [],
   "source": [
    "json_data=json.loads(response.text)\n",
    "search_id=json_data[0]['id']"
   ]
  },
  {
   "cell_type": "code",
   "execution_count": 4,
   "id": "ef75ecd8",
   "metadata": {},
   "outputs": [],
   "source": [
    "#or make dict with places to search for\n",
    "\n",
    "#location_ids={'Ringvägen':475989,'Huvudsta':473498}\n",
    "#search_id=location_ids['Ringvägen']"
   ]
  },
  {
   "cell_type": "code",
   "execution_count": 5,
   "id": "0f7d7e2b",
   "metadata": {
    "scrolled": false
   },
   "outputs": [
    {
     "data": {
      "text/plain": [
       "'https://www.hemnet.se/bostader?housing_form_groups=apartments&location_ids=898472&item_types=bostadsratt&rooms_min=2&living_area_min=35&new_construction=exclude'"
      ]
     },
     "execution_count": 5,
     "metadata": {},
     "output_type": "execute_result"
    }
   ],
   "source": [
    "#use dict to search for listings\n",
    "url = \"https://www.hemnet.se/bostader\"\n",
    "params= {\n",
    "    'housing_form_groups':'apartments',\n",
    "    'location_ids':search_id,\n",
    "    'item_types':'bostadsratt',\n",
    "    'rooms_min':2,\n",
    "    'living_area_min':35,\n",
    "    'new_construction':'exclude'\n",
    "}\n",
    "payload={}\n",
    "\n",
    "headers = {\n",
    "    'User-Agent': 'Mozilla/5.0 (Windows NT 6.1; WOW64) AppleWebKit/537.36 (KHTML, like Gecko) Chrome/56.0.2924.76 Safari/537.36'\n",
    "}\n",
    "\n",
    "response = requests.request(\"GET\", url, headers=headers, data=payload, params=params)\n",
    "response.url"
   ]
  },
  {
   "cell_type": "markdown",
   "id": "e751c449",
   "metadata": {},
   "source": [
    "--------- w beautiful soup ------------"
   ]
  },
  {
   "cell_type": "code",
   "execution_count": 6,
   "id": "f4cf58b1",
   "metadata": {},
   "outputs": [],
   "source": [
    "from bs4 import BeautifulSoup"
   ]
  },
  {
   "cell_type": "code",
   "execution_count": 7,
   "id": "724489a8",
   "metadata": {},
   "outputs": [],
   "source": [
    "soup = BeautifulSoup(response.content, \"html.parser\")"
   ]
  },
  {
   "cell_type": "code",
   "execution_count": 8,
   "id": "bb291f48",
   "metadata": {},
   "outputs": [],
   "source": [
    "#find div with good data to use\n",
    "map_results=soup.find(id='results-map')\n",
    "initial_data=map_results.attrs['data-initial-data']"
   ]
  },
  {
   "cell_type": "code",
   "execution_count": 9,
   "id": "c2266b4b",
   "metadata": {},
   "outputs": [
    {
     "data": {
      "text/plain": [
       "'0179ffb235820946a5e7c087d8f9366c6f8f283d'"
      ]
     },
     "execution_count": 9,
     "metadata": {},
     "output_type": "execute_result"
    }
   ],
   "source": [
    "#find our search key to use\n",
    "json_data=json.loads(initial_data)\n",
    "json_data['search_key']\n"
   ]
  },
  {
   "cell_type": "code",
   "execution_count": 10,
   "id": "595dd150",
   "metadata": {},
   "outputs": [],
   "source": [
    "url = \"https://www.hemnet.se/bostader/search/\"+json_data['search_key']\n",
    "\n",
    "params= {}\n",
    "\n",
    "payload={}\n",
    "\n",
    "headers = {\n",
    "    'User-Agent': 'Mozilla/5.0 (Windows NT 6.1; WOW64) AppleWebKit/537.36 (KHTML, like Gecko) Chrome/56.0.2924.76 Safari/537.36'\n",
    "}\n",
    "\n",
    "response = requests.request(\"GET\", url, headers=headers, data=payload, params=params)\n",
    "\n",
    "#print(response.text)"
   ]
  },
  {
   "cell_type": "code",
   "execution_count": 11,
   "id": "65fcf23f",
   "metadata": {},
   "outputs": [],
   "source": [
    "r_json = response.json()\n",
    "r_prop = r_json['properties']\n",
    "#r_prop"
   ]
  },
  {
   "cell_type": "code",
   "execution_count": 12,
   "id": "e0ff4702",
   "metadata": {},
   "outputs": [
    {
     "data": {
      "text/html": [
       "<div>\n",
       "<style scoped>\n",
       "    .dataframe tbody tr th:only-of-type {\n",
       "        vertical-align: middle;\n",
       "    }\n",
       "\n",
       "    .dataframe tbody tr th {\n",
       "        vertical-align: top;\n",
       "    }\n",
       "\n",
       "    .dataframe thead th {\n",
       "        text-align: right;\n",
       "    }\n",
       "</style>\n",
       "<table border=\"1\" class=\"dataframe\">\n",
       "  <thead>\n",
       "    <tr style=\"text-align: right;\">\n",
       "      <th></th>\n",
       "      <th>id</th>\n",
       "      <th>coordinate</th>\n",
       "      <th>address</th>\n",
       "      <th>location_name</th>\n",
       "      <th>typeSummary</th>\n",
       "      <th>iconName</th>\n",
       "      <th>project</th>\n",
       "      <th>new_construction</th>\n",
       "      <th>ongoing_bidding</th>\n",
       "      <th>foreclosure</th>\n",
       "      <th>...</th>\n",
       "      <th>living_space.table</th>\n",
       "      <th>trackingData.listingId</th>\n",
       "      <th>trackingData.listingType</th>\n",
       "      <th>trackingData.listingPackageType</th>\n",
       "      <th>trackingData.listingState</th>\n",
       "      <th>trackingData.listingStatus</th>\n",
       "      <th>broker_name</th>\n",
       "      <th>broker_phone</th>\n",
       "      <th>broker_email</th>\n",
       "      <th>price_change</th>\n",
       "    </tr>\n",
       "  </thead>\n",
       "  <tbody>\n",
       "    <tr>\n",
       "      <th>0</th>\n",
       "      <td>18994486</td>\n",
       "      <td>[59.3146776, 18.0527157]</td>\n",
       "      <td>Maria Skolgata 93</td>\n",
       "      <td>Stockholms kommun</td>\n",
       "      <td>Bostadsrättslägenhet</td>\n",
       "      <td>bostadsratt</td>\n",
       "      <td>False</td>\n",
       "      <td>False</td>\n",
       "      <td>False</td>\n",
       "      <td>False</td>\n",
       "      <td>...</td>\n",
       "      <td>{'living_area': '55 m²', 'supplemental_area': ...</td>\n",
       "      <td>18994486</td>\n",
       "      <td>common_listing</td>\n",
       "      <td>plus</td>\n",
       "      <td>active</td>\n",
       "      <td>for_sale</td>\n",
       "      <td>NaN</td>\n",
       "      <td>NaN</td>\n",
       "      <td>NaN</td>\n",
       "      <td>NaN</td>\n",
       "    </tr>\n",
       "    <tr>\n",
       "      <th>1</th>\n",
       "      <td>18992215</td>\n",
       "      <td>[59.31034, 18.0762939]</td>\n",
       "      <td>Blekingegatan 40B</td>\n",
       "      <td>Stockholms kommun</td>\n",
       "      <td>Bostadsrättslägenhet</td>\n",
       "      <td>bostadsratt</td>\n",
       "      <td>False</td>\n",
       "      <td>False</td>\n",
       "      <td>False</td>\n",
       "      <td>False</td>\n",
       "      <td>...</td>\n",
       "      <td>{'living_area': '71 m²', 'supplemental_area': ...</td>\n",
       "      <td>18992215</td>\n",
       "      <td>common_listing</td>\n",
       "      <td>plus</td>\n",
       "      <td>active</td>\n",
       "      <td>for_sale</td>\n",
       "      <td>NaN</td>\n",
       "      <td>NaN</td>\n",
       "      <td>NaN</td>\n",
       "      <td>NaN</td>\n",
       "    </tr>\n",
       "    <tr>\n",
       "      <th>2</th>\n",
       "      <td>19226744</td>\n",
       "      <td>[59.31886780000001, 18.0440369]</td>\n",
       "      <td>Lundagatan 44C</td>\n",
       "      <td>Stockholms kommun</td>\n",
       "      <td>Bostadsrättslägenhet</td>\n",
       "      <td>bostadsratt</td>\n",
       "      <td>False</td>\n",
       "      <td>False</td>\n",
       "      <td>False</td>\n",
       "      <td>False</td>\n",
       "      <td>...</td>\n",
       "      <td>{'living_area': '53 m²', 'supplemental_area': ...</td>\n",
       "      <td>19226744</td>\n",
       "      <td>common_listing</td>\n",
       "      <td>basic</td>\n",
       "      <td>active</td>\n",
       "      <td>for_sale</td>\n",
       "      <td>NaN</td>\n",
       "      <td>NaN</td>\n",
       "      <td>NaN</td>\n",
       "      <td>NaN</td>\n",
       "    </tr>\n",
       "  </tbody>\n",
       "</table>\n",
       "<p>3 rows × 42 columns</p>\n",
       "</div>"
      ],
      "text/plain": [
       "         id                       coordinate            address  \\\n",
       "0  18994486         [59.3146776, 18.0527157]  Maria Skolgata 93   \n",
       "1  18992215           [59.31034, 18.0762939]  Blekingegatan 40B   \n",
       "2  19226744  [59.31886780000001, 18.0440369]     Lundagatan 44C   \n",
       "\n",
       "       location_name           typeSummary     iconName  project  \\\n",
       "0  Stockholms kommun  Bostadsrättslägenhet  bostadsratt    False   \n",
       "1  Stockholms kommun  Bostadsrättslägenhet  bostadsratt    False   \n",
       "2  Stockholms kommun  Bostadsrättslägenhet  bostadsratt    False   \n",
       "\n",
       "   new_construction  ongoing_bidding  foreclosure  ...  \\\n",
       "0             False            False        False  ...   \n",
       "1             False            False        False  ...   \n",
       "2             False            False        False  ...   \n",
       "\n",
       "                                  living_space.table trackingData.listingId  \\\n",
       "0  {'living_area': '55 m²', 'supplemental_area': ...               18994486   \n",
       "1  {'living_area': '71 m²', 'supplemental_area': ...               18992215   \n",
       "2  {'living_area': '53 m²', 'supplemental_area': ...               19226744   \n",
       "\n",
       "  trackingData.listingType  trackingData.listingPackageType  \\\n",
       "0           common_listing                             plus   \n",
       "1           common_listing                             plus   \n",
       "2           common_listing                            basic   \n",
       "\n",
       "  trackingData.listingState trackingData.listingStatus broker_name  \\\n",
       "0                    active                   for_sale         NaN   \n",
       "1                    active                   for_sale         NaN   \n",
       "2                    active                   for_sale         NaN   \n",
       "\n",
       "   broker_phone  broker_email price_change  \n",
       "0           NaN           NaN          NaN  \n",
       "1           NaN           NaN          NaN  \n",
       "2           NaN           NaN          NaN  \n",
       "\n",
       "[3 rows x 42 columns]"
      ]
     },
     "execution_count": 12,
     "metadata": {},
     "output_type": "execute_result"
    }
   ],
   "source": [
    "#this output should prob be filtered some to drop crappy columns\n",
    "df=pd.json_normalize(r_prop, max_level=1)\n",
    "df.head(3)"
   ]
  },
  {
   "cell_type": "code",
   "execution_count": 13,
   "id": "be4410a5",
   "metadata": {},
   "outputs": [
    {
     "data": {
      "text/plain": [
       "18994486"
      ]
     },
     "execution_count": 13,
     "metadata": {},
     "output_type": "execute_result"
    }
   ],
   "source": [
    "#call graphql directly from listing with ids - example with one id only but can set into a loop\n",
    "ql_id=df.iloc[0]['id']\n",
    "ql_id"
   ]
  },
  {
   "cell_type": "code",
   "execution_count": 14,
   "id": "7f2b718e",
   "metadata": {},
   "outputs": [],
   "source": [
    "url_ql = \"https://www.hemnet.se/graphql\"\n",
    "\n",
    "#would love to have payload_ql string formatted better but not really sure how without breaking it\n",
    "payload_ql=\"{\\\"query\\\":\\\"query imagesForListing($id: ID!) {\\\\r\\\\n    listing(id: $id) \\\\r\\\\n    {  id  __typename  streetAddress  isSaved  brokerAgency \\\\r\\\\n    {    name    id    brokerCustomization \\\\r\\\\n    {      compactLogoUrl      largeLogoUrl: logoUrl(format: BROKER_CUSTOMIZATION_LARGE)      __typename    \\\\r\\\\n    }    __typename  }  ... on ActivePropertyListing \\\\r\\\\n    {    liveStreams(scope: ENDED) \\\\r\\\\n    {      embedUrl      __typename    \\\\r\\\\n    }    videoAttachment: attachment(type: VIDEO) \\\\r\\\\n    {      id      attachmentType      ... on VideoAttachment {     videoHemnetUrl        __typename     }\\\\r\\\\n          __typename    \\\\r\\\\n    }    threeDAttachment: attachment(type: THREE_D) {\\\\r\\\\n              id      ... on ThreeDAttachment {\\\\r\\\\n                          url        __typename      \\\\r\\\\n                          }      __typename    }\\\\r\\\\n                              isForeclosure    listingBrokerGalleryUrl    images(limit: 500) {\\\\r\\\\n                                        images {\\\\r\\\\n                                                    url(format: ITEMGALLERY_CUT)        portraitUrl: url(format: ITEMGALLERY_PORTRAIT_CUT)        fullscreenUrl: url(format: WIDTH1024)        originalHeight        originalWidth        labels        __typename      }      __typename    }    __typename  }  ... on ProjectUnit {    liveStreams(scope: ENDED) {      embedUrl      __typename    }    videoAttachment: attachment(type: VIDEO) {      id      attachmentType      ... on VideoAttachment {        videoHemnetUrl        __typename      }      __typename    }    threeDAttachment: attachment(type: THREE_D) {      id      ... on ThreeDAttachment {        url        __typename      }      __typename    }    isForeclosure    listingBrokerGalleryUrl    images(limit: 500) {      images {        url(format: ITEMGALLERY_CUT)        portraitUrl: url(format: ITEMGALLERY_PORTRAIT_CUT)        fullscreenUrl: url(format: WIDTH1024)        originalHeight        originalWidth        labels        __typename      }      __typename    }    __typename  }\\\\r\\\\n    }\\\\r\\\\n    }\\\",\\\"variables\\\":{\\\"id\\\":\"+str(ql_id)+\"}}\"\n",
    "\n",
    "headers_ql = {\n",
    "  'Content-Type': 'application/json',\n",
    "  'User-Agent': 'Mozilla/5.0 (Windows NT 6.1; WOW64) AppleWebKit/537.36 (KHTML, like Gecko) Chrome/56.0.2924.76 Safari/537.36'\n",
    "}\n",
    "\n",
    "response_ql = requests.request(\"POST\", url_ql, headers=headers_ql, data=payload_ql)\n",
    "\n",
    "#print(response_ql.text)\n",
    "ql_path=response_ql.json()['data']['listing']['images']['images']\n",
    "\n",
    "ql_df=pd.json_normalize(ql_path)\n",
    "#ql_df"
   ]
  },
  {
   "cell_type": "code",
   "execution_count": 15,
   "id": "bfb026f6",
   "metadata": {},
   "outputs": [
    {
     "data": {
      "text/html": [
       "<img src=\"https://bilder.hemnet.se/images/itemgallery_cut/81/61/8161e24fd1f30fb6bc1b5b67b0a77aed.jpg\" width=\"300\"/>"
      ],
      "text/plain": [
       "<IPython.core.display.Image object>"
      ]
     },
     "metadata": {},
     "output_type": "display_data"
    },
    {
     "data": {
      "text/html": [
       "<img src=\"https://bilder.hemnet.se/images/itemgallery_cut/dd/a0/dda04c675a43ae4e5966dfd702ed85d2.jpg\" width=\"300\"/>"
      ],
      "text/plain": [
       "<IPython.core.display.Image object>"
      ]
     },
     "metadata": {},
     "output_type": "display_data"
    },
    {
     "data": {
      "text/html": [
       "<img src=\"https://bilder.hemnet.se/images/itemgallery_cut/1a/f9/1af9a29b21694df654e27c0aa6c74539.jpg\" width=\"300\"/>"
      ],
      "text/plain": [
       "<IPython.core.display.Image object>"
      ]
     },
     "metadata": {},
     "output_type": "display_data"
    },
    {
     "data": {
      "text/html": [
       "<img src=\"https://bilder.hemnet.se/images/itemgallery_cut/5b/e1/5be1045beeaed6ebd3bb0c2fc2b9f6fc.jpg\" width=\"300\"/>"
      ],
      "text/plain": [
       "<IPython.core.display.Image object>"
      ]
     },
     "metadata": {},
     "output_type": "display_data"
    },
    {
     "data": {
      "text/html": [
       "<img src=\"https://bilder.hemnet.se/images/itemgallery_cut/d2/0e/d20ebe7c2deb2e6f34ac2d8d252d7f08.jpg\" width=\"300\"/>"
      ],
      "text/plain": [
       "<IPython.core.display.Image object>"
      ]
     },
     "metadata": {},
     "output_type": "display_data"
    },
    {
     "data": {
      "text/html": [
       "<img src=\"https://bilder.hemnet.se/images/itemgallery_cut/59/5e/595e5d61081dbe07a0ba9edb39b1e821.jpg\" width=\"300\"/>"
      ],
      "text/plain": [
       "<IPython.core.display.Image object>"
      ]
     },
     "metadata": {},
     "output_type": "display_data"
    },
    {
     "data": {
      "text/html": [
       "<img src=\"https://bilder.hemnet.se/images/itemgallery_cut/2e/09/2e091c7a15a8e476caa38d8ade3ee0fb.jpg\" width=\"300\"/>"
      ],
      "text/plain": [
       "<IPython.core.display.Image object>"
      ]
     },
     "metadata": {},
     "output_type": "display_data"
    },
    {
     "data": {
      "text/html": [
       "<img src=\"https://bilder.hemnet.se/images/itemgallery_cut/6e/80/6e80507894eafcbacb12e29cba6dd24f.jpg\" width=\"300\"/>"
      ],
      "text/plain": [
       "<IPython.core.display.Image object>"
      ]
     },
     "metadata": {},
     "output_type": "display_data"
    },
    {
     "data": {
      "text/html": [
       "<img src=\"https://bilder.hemnet.se/images/itemgallery_cut/e5/44/e5444b80f491310f59065114fcfa1cb1.jpg\" width=\"300\"/>"
      ],
      "text/plain": [
       "<IPython.core.display.Image object>"
      ]
     },
     "metadata": {},
     "output_type": "display_data"
    },
    {
     "data": {
      "text/html": [
       "<img src=\"https://bilder.hemnet.se/images/itemgallery_cut/d5/ec/d5ece11e5da5ee93f2efb6b98f33cecb.jpg\" width=\"300\"/>"
      ],
      "text/plain": [
       "<IPython.core.display.Image object>"
      ]
     },
     "metadata": {},
     "output_type": "display_data"
    },
    {
     "data": {
      "text/html": [
       "<img src=\"https://bilder.hemnet.se/images/itemgallery_cut/96/f1/96f1ef22f5422f488d981d87f714bcae.jpg\" width=\"300\"/>"
      ],
      "text/plain": [
       "<IPython.core.display.Image object>"
      ]
     },
     "metadata": {},
     "output_type": "display_data"
    },
    {
     "data": {
      "text/html": [
       "<img src=\"https://bilder.hemnet.se/images/itemgallery_cut/0d/0c/0d0ce9239586963ace44c49247431128.jpg\" width=\"300\"/>"
      ],
      "text/plain": [
       "<IPython.core.display.Image object>"
      ]
     },
     "metadata": {},
     "output_type": "display_data"
    },
    {
     "data": {
      "text/html": [
       "<img src=\"https://bilder.hemnet.se/images/itemgallery_cut/56/6d/566d9424d2527096dbb7919d0c5e3f61.jpg\" width=\"300\"/>"
      ],
      "text/plain": [
       "<IPython.core.display.Image object>"
      ]
     },
     "metadata": {},
     "output_type": "display_data"
    },
    {
     "data": {
      "text/html": [
       "<img src=\"https://bilder.hemnet.se/images/itemgallery_cut/11/3c/113c78fa54a6d3348a040ce3e6440bdf.jpg\" width=\"300\"/>"
      ],
      "text/plain": [
       "<IPython.core.display.Image object>"
      ]
     },
     "metadata": {},
     "output_type": "display_data"
    },
    {
     "data": {
      "text/html": [
       "<img src=\"https://bilder.hemnet.se/images/itemgallery_cut/9a/3e/9a3e4fc117813f942900b7a2ee78eae7.jpg\" width=\"300\"/>"
      ],
      "text/plain": [
       "<IPython.core.display.Image object>"
      ]
     },
     "metadata": {},
     "output_type": "display_data"
    },
    {
     "data": {
      "text/html": [
       "<img src=\"https://bilder.hemnet.se/images/itemgallery_cut/f6/d8/f6d8520a0b50be744510f68ae1be2b34.jpg\" width=\"300\"/>"
      ],
      "text/plain": [
       "<IPython.core.display.Image object>"
      ]
     },
     "metadata": {},
     "output_type": "display_data"
    },
    {
     "data": {
      "text/html": [
       "<img src=\"https://bilder.hemnet.se/images/itemgallery_cut/cb/28/cb28d878d746762f7f34748b4165ad04.jpg\" width=\"300\"/>"
      ],
      "text/plain": [
       "<IPython.core.display.Image object>"
      ]
     },
     "metadata": {},
     "output_type": "display_data"
    },
    {
     "data": {
      "text/html": [
       "<img src=\"https://bilder.hemnet.se/images/itemgallery_cut/37/ce/37ce1f73b4b5c92a1ba9984c60575bbc.jpg\" width=\"300\"/>"
      ],
      "text/plain": [
       "<IPython.core.display.Image object>"
      ]
     },
     "metadata": {},
     "output_type": "display_data"
    },
    {
     "data": {
      "text/html": [
       "<img src=\"https://bilder.hemnet.se/images/itemgallery_cut/16/cd/16cdfa36ed4f7d1a8435798f47d9c2f3.jpg\" width=\"300\"/>"
      ],
      "text/plain": [
       "<IPython.core.display.Image object>"
      ]
     },
     "metadata": {},
     "output_type": "display_data"
    },
    {
     "data": {
      "text/html": [
       "<img src=\"https://bilder.hemnet.se/images/itemgallery_cut/e0/c9/e0c9336829b1927f107fba824a1ad950.jpg\" width=\"300\"/>"
      ],
      "text/plain": [
       "<IPython.core.display.Image object>"
      ]
     },
     "metadata": {},
     "output_type": "display_data"
    },
    {
     "data": {
      "text/html": [
       "<img src=\"https://bilder.hemnet.se/images/itemgallery_cut/bc/3b/bc3b5392555930081f3b2615871c8b79.jpg\" width=\"300\"/>"
      ],
      "text/plain": [
       "<IPython.core.display.Image object>"
      ]
     },
     "metadata": {},
     "output_type": "display_data"
    }
   ],
   "source": [
    "#print all images from listing item\n",
    "from IPython.display import Image\n",
    "for index,row in ql_df.iterrows():\n",
    "   display(Image(url=row['url'], width=300))"
   ]
  }
 ],
 "metadata": {
  "kernelspec": {
   "display_name": "Python 3.10.0 64-bit",
   "language": "python",
   "name": "python3"
  },
  "language_info": {
   "codemirror_mode": {
    "name": "ipython",
    "version": 3
   },
   "file_extension": ".py",
   "mimetype": "text/x-python",
   "name": "python",
   "nbconvert_exporter": "python",
   "pygments_lexer": "ipython3",
   "version": "3.10.0"
  },
  "vscode": {
   "interpreter": {
    "hash": "0a7ccb16110ce14ed3efea9a494288ae5ce82bd2448893b7f736893aef85df94"
   }
  }
 },
 "nbformat": 4,
 "nbformat_minor": 5
}
