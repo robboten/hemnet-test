{
 "cells": [
  {
   "cell_type": "code",
   "execution_count": 191,
   "id": "361e38e9",
   "metadata": {},
   "outputs": [],
   "source": [
    "import pandas as pd\n",
    "from lxml import etree\n",
    "import requests\n",
    "import json"
   ]
  },
  {
   "cell_type": "markdown",
   "id": "6a6c18e7",
   "metadata": {},
   "source": [
    "---- we can search for a place and then return first hit for a search id ----"
   ]
  },
  {
   "cell_type": "code",
   "execution_count": 192,
   "id": "84431b99",
   "metadata": {},
   "outputs": [
    {
     "data": {
      "text/plain": [
       "'[{\"id\":898472,\"name\":\"Södermalm\",\"location_type\":\"district\",\"slug\":\"sodermalm\",\"parent_location\":{\"id\":18031,\"name\":\"Stockholms kommun\",\"location_type\":\"municipality\",\"slug\":\"stockholms-kommun\"}},{\"id\":476044,\"name\":\"Södermalmstorg\",\"location_type\":\"street\",\"slug\":\"sodermalmstorg\",\"parent_location\":{\"id\":18057,\"name\":\"Stockholm\",\"location_type\":\"postal_city\",\"slug\":\"stockholm\"}},{\"id\":476225,\"name\":\"Södermalmsallén\",\"location_type\":\"street\",\"slug\":\"sodermalmsallen\",\"parent_location\":{\"id\":18057,\"name\":\"Stockholm\",\"location_type\":\"postal_city\",\"slug\":\"stockholm\"}}]'"
      ]
     },
     "execution_count": 192,
     "metadata": {},
     "output_type": "execute_result"
    }
   ],
   "source": [
    "#use dict to search for listings\n",
    "url = \"https://www.hemnet.se/locations/show\"\n",
    "params= {\n",
    "    'q':'Södermalm, Stockholm'\n",
    "}\n",
    "payload={}\n",
    "\n",
    "headers = {\n",
    "    'User-Agent': 'Mozilla/5.0 (Windows NT 6.1; WOW64) AppleWebKit/537.36 (KHTML, like Gecko) Chrome/56.0.2924.76 Safari/537.36'\n",
    "}\n",
    "\n",
    "response = requests.request(\"GET\", url, headers=headers, data=payload, params=params)\n",
    "response.text\n",
    "\n"
   ]
  },
  {
   "cell_type": "code",
   "execution_count": 193,
   "id": "4ab32b96",
   "metadata": {},
   "outputs": [],
   "source": [
    "json_data=json.loads(response.text)\n",
    "search_id=json_data[0]['id']"
   ]
  },
  {
   "cell_type": "code",
   "execution_count": 194,
   "id": "ef75ecd8",
   "metadata": {},
   "outputs": [],
   "source": [
    "#or make dict with places to search for\n",
    "\n",
    "#location_ids={'Ringvägen':475989,'Huvudsta':473498}\n",
    "#search_id=location_ids['Ringvägen']"
   ]
  },
  {
   "cell_type": "code",
   "execution_count": null,
   "id": "60210df1",
   "metadata": {},
   "outputs": [],
   "source": []
  },
  {
   "cell_type": "code",
   "execution_count": 195,
   "id": "0f7d7e2b",
   "metadata": {
    "scrolled": false
   },
   "outputs": [
    {
     "data": {
      "text/plain": [
       "'https://www.hemnet.se/bostader?housing_form_groups=apartments&location_ids=898472&item_types=bostadsratt&rooms_min=2&living_area_min=35&new_construction=exclude'"
      ]
     },
     "execution_count": 195,
     "metadata": {},
     "output_type": "execute_result"
    }
   ],
   "source": [
    "#use dict to search for listings\n",
    "url = \"https://www.hemnet.se/bostader\"\n",
    "params= {\n",
    "    'housing_form_groups':'apartments',\n",
    "    'location_ids':search_id,\n",
    "    'item_types':'bostadsratt',\n",
    "    'rooms_min':2,\n",
    "    'living_area_min':35,\n",
    "    'new_construction':'exclude'\n",
    "}\n",
    "payload={}\n",
    "\n",
    "headers = {\n",
    "    'User-Agent': 'Mozilla/5.0 (Windows NT 6.1; WOW64) AppleWebKit/537.36 (KHTML, like Gecko) Chrome/56.0.2924.76 Safari/537.36'\n",
    "}\n",
    "\n",
    "response = requests.request(\"GET\", url, headers=headers, data=payload, params=params)\n",
    "response.url"
   ]
  },
  {
   "cell_type": "markdown",
   "id": "e751c449",
   "metadata": {},
   "source": [
    "--------- w beautiful soup ------------"
   ]
  },
  {
   "cell_type": "code",
   "execution_count": 196,
   "id": "f4cf58b1",
   "metadata": {},
   "outputs": [],
   "source": [
    "from bs4 import BeautifulSoup"
   ]
  },
  {
   "cell_type": "code",
   "execution_count": 197,
   "id": "724489a8",
   "metadata": {},
   "outputs": [],
   "source": [
    "soup = BeautifulSoup(response.content, \"html.parser\")"
   ]
  },
  {
   "cell_type": "code",
   "execution_count": 198,
   "id": "bb291f48",
   "metadata": {},
   "outputs": [],
   "source": [
    "#find div with good data to use\n",
    "map_results=soup.find(id='results-map')\n",
    "initial_data=map_results.attrs['data-initial-data']"
   ]
  },
  {
   "cell_type": "code",
   "execution_count": 199,
   "id": "c2266b4b",
   "metadata": {},
   "outputs": [
    {
     "data": {
      "text/plain": [
       "'0179ffb235820946a5e7c087d8f9366c6f8f283d'"
      ]
     },
     "execution_count": 199,
     "metadata": {},
     "output_type": "execute_result"
    }
   ],
   "source": [
    "#find our search key to use\n",
    "json_data=json.loads(initial_data)\n",
    "json_data['search_key']\n"
   ]
  },
  {
   "cell_type": "code",
   "execution_count": 200,
   "id": "595dd150",
   "metadata": {},
   "outputs": [],
   "source": [
    "url = \"https://www.hemnet.se/bostader/search/\"+json_data['search_key']\n",
    "\n",
    "params= {}\n",
    "\n",
    "payload={}\n",
    "\n",
    "headers = {\n",
    "    'User-Agent': 'Mozilla/5.0 (Windows NT 6.1; WOW64) AppleWebKit/537.36 (KHTML, like Gecko) Chrome/56.0.2924.76 Safari/537.36'\n",
    "}\n",
    "\n",
    "response = requests.request(\"GET\", url, headers=headers, data=payload, params=params)\n",
    "\n",
    "#print(response.text)"
   ]
  },
  {
   "cell_type": "code",
   "execution_count": 201,
   "id": "65fcf23f",
   "metadata": {},
   "outputs": [],
   "source": [
    "r_json = response.json()\n",
    "r_prop = r_json['properties']\n",
    "#r_prop"
   ]
  },
  {
   "cell_type": "code",
   "execution_count": 206,
   "id": "e0ff4702",
   "metadata": {},
   "outputs": [
    {
     "data": {
      "text/html": [
       "<div>\n",
       "<style scoped>\n",
       "    .dataframe tbody tr th:only-of-type {\n",
       "        vertical-align: middle;\n",
       "    }\n",
       "\n",
       "    .dataframe tbody tr th {\n",
       "        vertical-align: top;\n",
       "    }\n",
       "\n",
       "    .dataframe thead th {\n",
       "        text-align: right;\n",
       "    }\n",
       "</style>\n",
       "<table border=\"1\" class=\"dataframe\">\n",
       "  <thead>\n",
       "    <tr style=\"text-align: right;\">\n",
       "      <th></th>\n",
       "      <th>id</th>\n",
       "      <th>coordinate</th>\n",
       "      <th>address</th>\n",
       "      <th>location_name</th>\n",
       "      <th>typeSummary</th>\n",
       "      <th>iconName</th>\n",
       "      <th>project</th>\n",
       "      <th>new_construction</th>\n",
       "      <th>ongoing_bidding</th>\n",
       "      <th>foreclosure</th>\n",
       "      <th>...</th>\n",
       "      <th>living_space.table</th>\n",
       "      <th>trackingData.listingId</th>\n",
       "      <th>trackingData.listingType</th>\n",
       "      <th>trackingData.listingPackageType</th>\n",
       "      <th>trackingData.listingState</th>\n",
       "      <th>trackingData.listingStatus</th>\n",
       "      <th>broker_name</th>\n",
       "      <th>broker_phone</th>\n",
       "      <th>broker_email</th>\n",
       "      <th>price_change</th>\n",
       "    </tr>\n",
       "  </thead>\n",
       "  <tbody>\n",
       "    <tr>\n",
       "      <th>0</th>\n",
       "      <td>19226978</td>\n",
       "      <td>[59.31636376245509, 18.064605327405715]</td>\n",
       "      <td>Maria Prästgårdsgata 14</td>\n",
       "      <td>Stockholms kommun</td>\n",
       "      <td>Bostadsrättslägenhet</td>\n",
       "      <td>bostadsratt</td>\n",
       "      <td>False</td>\n",
       "      <td>False</td>\n",
       "      <td>False</td>\n",
       "      <td>False</td>\n",
       "      <td>...</td>\n",
       "      <td>{'living_area': '62', 'supplemental_area': '21...</td>\n",
       "      <td>19226978</td>\n",
       "      <td>common_listing</td>\n",
       "      <td>basic</td>\n",
       "      <td>active</td>\n",
       "      <td>for_sale</td>\n",
       "      <td>NaN</td>\n",
       "      <td>NaN</td>\n",
       "      <td>NaN</td>\n",
       "      <td>NaN</td>\n",
       "    </tr>\n",
       "    <tr>\n",
       "      <th>1</th>\n",
       "      <td>19226820</td>\n",
       "      <td>[59.3128281, 18.09094]</td>\n",
       "      <td>Skånegatan 113</td>\n",
       "      <td>Stockholms kommun</td>\n",
       "      <td>Bostadsrättslägenhet</td>\n",
       "      <td>bostadsratt</td>\n",
       "      <td>False</td>\n",
       "      <td>False</td>\n",
       "      <td>False</td>\n",
       "      <td>False</td>\n",
       "      <td>...</td>\n",
       "      <td>{'living_area': '57 m²', 'supplemental_area': ...</td>\n",
       "      <td>19226820</td>\n",
       "      <td>common_listing</td>\n",
       "      <td>basic</td>\n",
       "      <td>active</td>\n",
       "      <td>for_sale</td>\n",
       "      <td>NaN</td>\n",
       "      <td>NaN</td>\n",
       "      <td>NaN</td>\n",
       "      <td>NaN</td>\n",
       "    </tr>\n",
       "    <tr>\n",
       "      <th>2</th>\n",
       "      <td>19226701</td>\n",
       "      <td>[59.32030685531627, 18.063923236266938]</td>\n",
       "      <td>Skolgränd 1</td>\n",
       "      <td>Stockholms kommun</td>\n",
       "      <td>Bostadsrättslägenhet</td>\n",
       "      <td>bostadsratt</td>\n",
       "      <td>False</td>\n",
       "      <td>False</td>\n",
       "      <td>False</td>\n",
       "      <td>False</td>\n",
       "      <td>...</td>\n",
       "      <td>{'living_area': '44 m²', 'supplemental_area': ...</td>\n",
       "      <td>19226701</td>\n",
       "      <td>common_listing</td>\n",
       "      <td>basic</td>\n",
       "      <td>active</td>\n",
       "      <td>for_sale</td>\n",
       "      <td>NaN</td>\n",
       "      <td>NaN</td>\n",
       "      <td>NaN</td>\n",
       "      <td>NaN</td>\n",
       "    </tr>\n",
       "  </tbody>\n",
       "</table>\n",
       "<p>3 rows × 42 columns</p>\n",
       "</div>"
      ],
      "text/plain": [
       "         id                               coordinate                  address  \\\n",
       "0  19226978  [59.31636376245509, 18.064605327405715]  Maria Prästgårdsgata 14   \n",
       "1  19226820                   [59.3128281, 18.09094]           Skånegatan 113   \n",
       "2  19226701  [59.32030685531627, 18.063923236266938]              Skolgränd 1   \n",
       "\n",
       "       location_name           typeSummary     iconName  project  \\\n",
       "0  Stockholms kommun  Bostadsrättslägenhet  bostadsratt    False   \n",
       "1  Stockholms kommun  Bostadsrättslägenhet  bostadsratt    False   \n",
       "2  Stockholms kommun  Bostadsrättslägenhet  bostadsratt    False   \n",
       "\n",
       "   new_construction  ongoing_bidding  foreclosure  ...  \\\n",
       "0             False            False        False  ...   \n",
       "1             False            False        False  ...   \n",
       "2             False            False        False  ...   \n",
       "\n",
       "                                  living_space.table trackingData.listingId  \\\n",
       "0  {'living_area': '62', 'supplemental_area': '21...               19226978   \n",
       "1  {'living_area': '57 m²', 'supplemental_area': ...               19226820   \n",
       "2  {'living_area': '44 m²', 'supplemental_area': ...               19226701   \n",
       "\n",
       "  trackingData.listingType  trackingData.listingPackageType  \\\n",
       "0           common_listing                            basic   \n",
       "1           common_listing                            basic   \n",
       "2           common_listing                            basic   \n",
       "\n",
       "  trackingData.listingState trackingData.listingStatus broker_name  \\\n",
       "0                    active                   for_sale         NaN   \n",
       "1                    active                   for_sale         NaN   \n",
       "2                    active                   for_sale         NaN   \n",
       "\n",
       "   broker_phone  broker_email price_change  \n",
       "0           NaN           NaN          NaN  \n",
       "1           NaN           NaN          NaN  \n",
       "2           NaN           NaN          NaN  \n",
       "\n",
       "[3 rows x 42 columns]"
      ]
     },
     "execution_count": 206,
     "metadata": {},
     "output_type": "execute_result"
    }
   ],
   "source": [
    "#this output should prob be filtered some to drop crappy columns\n",
    "df=pd.json_normalize(r_prop, max_level=1)\n",
    "df.head(3)"
   ]
  },
  {
   "cell_type": "code",
   "execution_count": 203,
   "id": "be4410a5",
   "metadata": {},
   "outputs": [
    {
     "data": {
      "text/plain": [
       "19226978"
      ]
     },
     "execution_count": 203,
     "metadata": {},
     "output_type": "execute_result"
    }
   ],
   "source": [
    "#call graphql directly from listing with ids - example with one id only but can set into a loop\n",
    "ql_id=df.iloc[0]['id']\n",
    "ql_id"
   ]
  },
  {
   "cell_type": "code",
   "execution_count": 204,
   "id": "7f2b718e",
   "metadata": {},
   "outputs": [],
   "source": [
    "url_ql = \"https://www.hemnet.se/graphql\"\n",
    "\n",
    "#would love to have payload_ql string formatted better but not really sure how without breaking it\n",
    "payload_ql=\"{\\\"query\\\":\\\"query imagesForListing($id: ID!) {\\\\r\\\\n    listing(id: $id) \\\\r\\\\n    {  id  __typename  streetAddress  isSaved  brokerAgency \\\\r\\\\n    {    name    id    brokerCustomization \\\\r\\\\n    {      compactLogoUrl      largeLogoUrl: logoUrl(format: BROKER_CUSTOMIZATION_LARGE)      __typename    \\\\r\\\\n    }    __typename  }  ... on ActivePropertyListing \\\\r\\\\n    {    liveStreams(scope: ENDED) \\\\r\\\\n    {      embedUrl      __typename    \\\\r\\\\n    }    videoAttachment: attachment(type: VIDEO) \\\\r\\\\n    {      id      attachmentType      ... on VideoAttachment {     videoHemnetUrl        __typename     }\\\\r\\\\n          __typename    \\\\r\\\\n    }    threeDAttachment: attachment(type: THREE_D) {\\\\r\\\\n              id      ... on ThreeDAttachment {\\\\r\\\\n                          url        __typename      \\\\r\\\\n                          }      __typename    }\\\\r\\\\n                              isForeclosure    listingBrokerGalleryUrl    images(limit: 500) {\\\\r\\\\n                                        images {\\\\r\\\\n                                                    url(format: ITEMGALLERY_CUT)        portraitUrl: url(format: ITEMGALLERY_PORTRAIT_CUT)        fullscreenUrl: url(format: WIDTH1024)        originalHeight        originalWidth        labels        __typename      }      __typename    }    __typename  }  ... on ProjectUnit {    liveStreams(scope: ENDED) {      embedUrl      __typename    }    videoAttachment: attachment(type: VIDEO) {      id      attachmentType      ... on VideoAttachment {        videoHemnetUrl        __typename      }      __typename    }    threeDAttachment: attachment(type: THREE_D) {      id      ... on ThreeDAttachment {        url        __typename      }      __typename    }    isForeclosure    listingBrokerGalleryUrl    images(limit: 500) {      images {        url(format: ITEMGALLERY_CUT)        portraitUrl: url(format: ITEMGALLERY_PORTRAIT_CUT)        fullscreenUrl: url(format: WIDTH1024)        originalHeight        originalWidth        labels        __typename      }      __typename    }    __typename  }\\\\r\\\\n    }\\\\r\\\\n    }\\\",\\\"variables\\\":{\\\"id\\\":\"+str(ql_id)+\"}}\"\n",
    "\n",
    "headers_ql = {\n",
    "  'Content-Type': 'application/json',\n",
    "  'User-Agent': 'Mozilla/5.0 (Windows NT 6.1; WOW64) AppleWebKit/537.36 (KHTML, like Gecko) Chrome/56.0.2924.76 Safari/537.36'\n",
    "}\n",
    "\n",
    "response_ql = requests.request(\"POST\", url_ql, headers=headers_ql, data=payload_ql)\n",
    "\n",
    "#print(response_ql.text)\n",
    "ql_path=response_ql.json()['data']['listing']['images']['images']\n",
    "\n",
    "ql_df=pd.json_normalize(ql_path)\n",
    "#ql_df"
   ]
  },
  {
   "cell_type": "code",
   "execution_count": 205,
   "id": "bfb026f6",
   "metadata": {},
   "outputs": [
    {
     "data": {
      "text/html": [
       "<img src=\"https://bilder.hemnet.se/images/itemgallery_cut/6b/35/6b35818e8425210424d2888017c16b3f.jpg\" width=\"300\"/>"
      ],
      "text/plain": [
       "<IPython.core.display.Image object>"
      ]
     },
     "metadata": {},
     "output_type": "display_data"
    },
    {
     "data": {
      "text/html": [
       "<img src=\"https://bilder.hemnet.se/images/itemgallery_cut/ab/3c/ab3c33ec59e3dd4fac3f56e296dc1e48.jpg\" width=\"300\"/>"
      ],
      "text/plain": [
       "<IPython.core.display.Image object>"
      ]
     },
     "metadata": {},
     "output_type": "display_data"
    },
    {
     "data": {
      "text/html": [
       "<img src=\"https://bilder.hemnet.se/images/itemgallery_cut/dc/76/dc76c2a3a5b75139b5120ffe5af518ba.jpg\" width=\"300\"/>"
      ],
      "text/plain": [
       "<IPython.core.display.Image object>"
      ]
     },
     "metadata": {},
     "output_type": "display_data"
    },
    {
     "data": {
      "text/html": [
       "<img src=\"https://bilder.hemnet.se/images/itemgallery_cut/15/86/15866ef14c9acd33d99669429e1c0031.jpg\" width=\"300\"/>"
      ],
      "text/plain": [
       "<IPython.core.display.Image object>"
      ]
     },
     "metadata": {},
     "output_type": "display_data"
    },
    {
     "data": {
      "text/html": [
       "<img src=\"https://bilder.hemnet.se/images/itemgallery_cut/ab/ca/abca0b32cbcb8a8220125399dc8b8c0e.jpg\" width=\"300\"/>"
      ],
      "text/plain": [
       "<IPython.core.display.Image object>"
      ]
     },
     "metadata": {},
     "output_type": "display_data"
    },
    {
     "data": {
      "text/html": [
       "<img src=\"https://bilder.hemnet.se/images/itemgallery_cut/e4/fb/e4fbc99f4df115d68dfbc428001639d4.jpg\" width=\"300\"/>"
      ],
      "text/plain": [
       "<IPython.core.display.Image object>"
      ]
     },
     "metadata": {},
     "output_type": "display_data"
    },
    {
     "data": {
      "text/html": [
       "<img src=\"https://bilder.hemnet.se/images/itemgallery_cut/cb/8b/cb8b465aee331d44000f70ce647e2c7f.jpg\" width=\"300\"/>"
      ],
      "text/plain": [
       "<IPython.core.display.Image object>"
      ]
     },
     "metadata": {},
     "output_type": "display_data"
    },
    {
     "data": {
      "text/html": [
       "<img src=\"https://bilder.hemnet.se/images/itemgallery_cut/61/ee/61eed420f77b8e231e229d9569ef37fd.jpg\" width=\"300\"/>"
      ],
      "text/plain": [
       "<IPython.core.display.Image object>"
      ]
     },
     "metadata": {},
     "output_type": "display_data"
    },
    {
     "data": {
      "text/html": [
       "<img src=\"https://bilder.hemnet.se/images/itemgallery_cut/79/b7/79b71d81398ae4945f9eda6d29bcd6d2.jpg\" width=\"300\"/>"
      ],
      "text/plain": [
       "<IPython.core.display.Image object>"
      ]
     },
     "metadata": {},
     "output_type": "display_data"
    },
    {
     "data": {
      "text/html": [
       "<img src=\"https://bilder.hemnet.se/images/itemgallery_cut/d6/42/d642bb9c0b11ab1c7c414a2b6958a754.jpg\" width=\"300\"/>"
      ],
      "text/plain": [
       "<IPython.core.display.Image object>"
      ]
     },
     "metadata": {},
     "output_type": "display_data"
    },
    {
     "data": {
      "text/html": [
       "<img src=\"https://bilder.hemnet.se/images/itemgallery_cut/5f/38/5f3823a92fddbde38948a438f754032c.jpg\" width=\"300\"/>"
      ],
      "text/plain": [
       "<IPython.core.display.Image object>"
      ]
     },
     "metadata": {},
     "output_type": "display_data"
    },
    {
     "data": {
      "text/html": [
       "<img src=\"https://bilder.hemnet.se/images/itemgallery_cut/f2/6c/f26cb4abf43ca254c6c2b60a07946ff0.jpg\" width=\"300\"/>"
      ],
      "text/plain": [
       "<IPython.core.display.Image object>"
      ]
     },
     "metadata": {},
     "output_type": "display_data"
    },
    {
     "data": {
      "text/html": [
       "<img src=\"https://bilder.hemnet.se/images/itemgallery_cut/12/d0/12d04e513cc0ae9035114748955fc6ac.jpg\" width=\"300\"/>"
      ],
      "text/plain": [
       "<IPython.core.display.Image object>"
      ]
     },
     "metadata": {},
     "output_type": "display_data"
    },
    {
     "data": {
      "text/html": [
       "<img src=\"https://bilder.hemnet.se/images/itemgallery_cut/01/e0/01e04023f960934f0471a1d8042ad57f.jpg\" width=\"300\"/>"
      ],
      "text/plain": [
       "<IPython.core.display.Image object>"
      ]
     },
     "metadata": {},
     "output_type": "display_data"
    },
    {
     "data": {
      "text/html": [
       "<img src=\"https://bilder.hemnet.se/images/itemgallery_cut/59/2e/592edd1910db9c5c7ef93fcd5eefb46d.jpg\" width=\"300\"/>"
      ],
      "text/plain": [
       "<IPython.core.display.Image object>"
      ]
     },
     "metadata": {},
     "output_type": "display_data"
    },
    {
     "data": {
      "text/html": [
       "<img src=\"https://bilder.hemnet.se/images/itemgallery_cut/7c/fe/7cfe9494e0cd25606f414278a9d35b34.jpg\" width=\"300\"/>"
      ],
      "text/plain": [
       "<IPython.core.display.Image object>"
      ]
     },
     "metadata": {},
     "output_type": "display_data"
    },
    {
     "data": {
      "text/html": [
       "<img src=\"https://bilder.hemnet.se/images/itemgallery_cut/a6/f8/a6f8e94960ad95dacdbff1f9975f5231.jpg\" width=\"300\"/>"
      ],
      "text/plain": [
       "<IPython.core.display.Image object>"
      ]
     },
     "metadata": {},
     "output_type": "display_data"
    },
    {
     "data": {
      "text/html": [
       "<img src=\"https://bilder.hemnet.se/images/itemgallery_cut/5b/0b/5b0b993f59ac2264c6e2932d59c3fe42.jpg\" width=\"300\"/>"
      ],
      "text/plain": [
       "<IPython.core.display.Image object>"
      ]
     },
     "metadata": {},
     "output_type": "display_data"
    },
    {
     "data": {
      "text/html": [
       "<img src=\"https://bilder.hemnet.se/images/itemgallery_cut/8b/51/8b5118aead26f2fd2f1894ca5a23a8b4.jpg\" width=\"300\"/>"
      ],
      "text/plain": [
       "<IPython.core.display.Image object>"
      ]
     },
     "metadata": {},
     "output_type": "display_data"
    },
    {
     "data": {
      "text/html": [
       "<img src=\"https://bilder.hemnet.se/images/itemgallery_cut/ed/f8/edf84f2fca898d65b68c275b763c819e.jpg\" width=\"300\"/>"
      ],
      "text/plain": [
       "<IPython.core.display.Image object>"
      ]
     },
     "metadata": {},
     "output_type": "display_data"
    },
    {
     "data": {
      "text/html": [
       "<img src=\"https://bilder.hemnet.se/images/itemgallery_cut/94/ff/94ffc567ceaf6d35069878c7293ff8fd.jpg\" width=\"300\"/>"
      ],
      "text/plain": [
       "<IPython.core.display.Image object>"
      ]
     },
     "metadata": {},
     "output_type": "display_data"
    },
    {
     "data": {
      "text/html": [
       "<img src=\"https://bilder.hemnet.se/images/itemgallery_cut/14/38/143845c90486ec9e5bfc6f2d402e00e1.jpg\" width=\"300\"/>"
      ],
      "text/plain": [
       "<IPython.core.display.Image object>"
      ]
     },
     "metadata": {},
     "output_type": "display_data"
    },
    {
     "data": {
      "text/html": [
       "<img src=\"https://bilder.hemnet.se/images/itemgallery_cut/eb/30/eb30479d201590c314a0d3a2661cda20.jpg\" width=\"300\"/>"
      ],
      "text/plain": [
       "<IPython.core.display.Image object>"
      ]
     },
     "metadata": {},
     "output_type": "display_data"
    },
    {
     "data": {
      "text/html": [
       "<img src=\"https://bilder.hemnet.se/images/itemgallery_cut/18/64/186449107bd1e4f656a1aaab02534e29.jpg\" width=\"300\"/>"
      ],
      "text/plain": [
       "<IPython.core.display.Image object>"
      ]
     },
     "metadata": {},
     "output_type": "display_data"
    },
    {
     "data": {
      "text/html": [
       "<img src=\"https://bilder.hemnet.se/images/itemgallery_cut/8f/3a/8f3a2f0319ac54ca7c1b76b23f155291.jpg\" width=\"300\"/>"
      ],
      "text/plain": [
       "<IPython.core.display.Image object>"
      ]
     },
     "metadata": {},
     "output_type": "display_data"
    },
    {
     "data": {
      "text/html": [
       "<img src=\"https://bilder.hemnet.se/images/itemgallery_cut/c3/15/c3159cc01804ef2d41e77da8374f9e7d.jpg\" width=\"300\"/>"
      ],
      "text/plain": [
       "<IPython.core.display.Image object>"
      ]
     },
     "metadata": {},
     "output_type": "display_data"
    }
   ],
   "source": [
    "#print all images from listing item\n",
    "from IPython.display import Image\n",
    "for index,row in ql_df.iterrows():\n",
    "   display(Image(url=row['url'], width=300))"
   ]
  }
 ],
 "metadata": {
  "kernelspec": {
   "display_name": "Python 3.10.0 64-bit",
   "language": "python",
   "name": "python3"
  },
  "language_info": {
   "codemirror_mode": {
    "name": "ipython",
    "version": 3
   },
   "file_extension": ".py",
   "mimetype": "text/x-python",
   "name": "python",
   "nbconvert_exporter": "python",
   "pygments_lexer": "ipython3",
   "version": "3.10.0"
  },
  "vscode": {
   "interpreter": {
    "hash": "0a7ccb16110ce14ed3efea9a494288ae5ce82bd2448893b7f736893aef85df94"
   }
  }
 },
 "nbformat": 4,
 "nbformat_minor": 5
}
