{
 "cells": [
  {
   "cell_type": "code",
   "execution_count": 1,
   "id": "361e38e9",
   "metadata": {},
   "outputs": [],
   "source": [
    "import pandas as pd\n",
    "#from lxml import etree\n",
    "import requests\n",
    "from bs4 import BeautifulSoup"
   ]
  },
  {
   "cell_type": "code",
   "execution_count": 7,
   "id": "379bbc89",
   "metadata": {},
   "outputs": [],
   "source": [
    "import json\n",
    "import unicodedata\n",
    "from datetime import datetime"
   ]
  },
  {
   "cell_type": "markdown",
   "id": "6a6c18e7",
   "metadata": {},
   "source": [
    "---- using HTML response ----"
   ]
  },
  {
   "cell_type": "code",
   "execution_count": 3,
   "id": "689f8201",
   "metadata": {},
   "outputs": [
    {
     "data": {
      "text/plain": [
       "('en_US', 'UTF-8')"
      ]
     },
     "execution_count": 3,
     "metadata": {},
     "output_type": "execute_result"
    }
   ],
   "source": [
    "import locale\n",
    "locale.getdefaultlocale()\n"
   ]
  },
  {
   "cell_type": "code",
   "execution_count": 4,
   "id": "6b490673",
   "metadata": {},
   "outputs": [
    {
     "data": {
      "text/plain": [
       "'sv_SE'"
      ]
     },
     "execution_count": 4,
     "metadata": {},
     "output_type": "execute_result"
    }
   ],
   "source": [
    "#locale.setlocale(locale.LC_TIME, \"sv_SE.UTF-8\")\n",
    "#locale.setlocale(locale.LC_ALL, 'sv_SE')\n",
    "locale.setlocale(locale.LC_TIME, \"sv_SE\")\n",
    "#locale.setlocale(locale.LC_ALL, '')"
   ]
  },
  {
   "cell_type": "code",
   "execution_count": 43,
   "id": "0f7d7e2b",
   "metadata": {
    "scrolled": false
   },
   "outputs": [
    {
     "data": {
      "text/plain": [
       "'https://www.hemnet.se/salda/bostader?location_ids=898472&item_types=bostadsratt&by=sale_date&order=asc&preferred_sorting=true&sold_age=3m&page=1'"
      ]
     },
     "execution_count": 43,
     "metadata": {},
     "output_type": "execute_result"
    }
   ],
   "source": [
    "url = \"https://www.hemnet.se/salda/bostader\"\n",
    "params= {\n",
    "    #'housing_form_groups':'apartments',\n",
    "    'location_ids':'898472',\n",
    "    'item_types':'bostadsratt',\n",
    "    'by':'sale_date',\n",
    "    'order':'asc',\n",
    "    'preferred_sorting':'true',\n",
    "    'sold_age':'3m', #1d,4d,1w,1m and so on...\n",
    "    'page':1,\n",
    "}\n",
    "payload={}\n",
    "\n",
    "headers = {\n",
    "    'User-Agent': 'Mozilla/5.0 (Windows NT 6.1; WOW64) AppleWebKit/537.36 (KHTML, like Gecko) Chrome/56.0.2924.76 Safari/537.36'\n",
    "}\n",
    "\n",
    "response = requests.request(\"GET\", url, headers=headers, data=payload, params=params)\n",
    "soup = BeautifulSoup(response.content, \"html.parser\")\n",
    "response.url"
   ]
  },
  {
   "cell_type": "code",
   "execution_count": 44,
   "id": "0d8232dd",
   "metadata": {},
   "outputs": [
    {
     "name": "stdout",
     "output_type": "stream",
     "text": [
      "/salda/bostader?by=sale_date&item_types=bostadsratt&location_ids=898472&order=asc&page=2&preferred_sorting=true&sold_age=3m\n",
      "/salda/bostader?by=sale_date&item_types=bostadsratt&location_ids=898472&order=asc&page=3&preferred_sorting=true&sold_age=3m\n",
      "/salda/bostader?by=sale_date&item_types=bostadsratt&location_ids=898472&order=asc&page=4&preferred_sorting=true&sold_age=3m\n",
      "/salda/bostader?by=sale_date&item_types=bostadsratt&location_ids=898472&order=asc&page=5&preferred_sorting=true&sold_age=3m\n",
      "/salda/bostader?by=sale_date&item_types=bostadsratt&location_ids=898472&order=asc&page=6&preferred_sorting=true&sold_age=3m\n",
      "/salda/bostader?by=sale_date&item_types=bostadsratt&location_ids=898472&order=asc&page=7&preferred_sorting=true&sold_age=3m\n",
      "/salda/bostader?by=sale_date&item_types=bostadsratt&location_ids=898472&order=asc&page=8&preferred_sorting=true&sold_age=3m\n",
      "/salda/bostader?by=sale_date&item_types=bostadsratt&location_ids=898472&order=asc&page=9&preferred_sorting=true&sold_age=3m\n",
      "/salda/bostader?by=sale_date&item_types=bostadsratt&location_ids=898472&order=asc&page=10&preferred_sorting=true&sold_age=3m\n",
      "/salda/bostader?by=sale_date&item_types=bostadsratt&location_ids=898472&order=asc&page=11&preferred_sorting=true&sold_age=3m\n",
      "/salda/bostader?by=sale_date&item_types=bostadsratt&location_ids=898472&order=asc&page=12&preferred_sorting=true&sold_age=3m\n",
      "/salda/bostader?by=sale_date&item_types=bostadsratt&location_ids=898472&order=asc&page=13&preferred_sorting=true&sold_age=3m\n"
     ]
    }
   ],
   "source": [
    "\n",
    "next_link=soup.find('a','next_page')\n",
    "while next_link:\n",
    "    print(next_link['href'])\n",
    "    next_response = requests.request(\"GET\", \"https://www.hemnet.se\"+next_link['href'], headers=headers)\n",
    "    next_soup = BeautifulSoup(next_response.content, \"html.parser\")\n",
    "    next_link=next_soup.find('a','next_page')\n",
    "\n"
   ]
  },
  {
   "cell_type": "code",
   "execution_count": 5,
   "id": "d1e869a5",
   "metadata": {},
   "outputs": [],
   "source": [
    "#list to add our objects to\n",
    "item_list=[]\n",
    "\n",
    "#find the ul with the results list\n",
    "result_ul=soup.find('ul','sold-results')\n",
    "\n",
    "#get the list items with our data (filter out the ads)\n",
    "result_li=result_ul('li', 'sold-results__normal-hit')\n",
    "\n",
    "#print(len(result_li))\n",
    "\n",
    "#start loop...\n",
    "for item in result_li:\n",
    "    #a dict to collect all key/values in\n",
    "    item_dict={}\n",
    "\n",
    "    #get tracking data json for ids...\n",
    "    tracking_data=item.attrs['data-tracking-data']\n",
    "    tracking_data_json=json.loads(tracking_data)\n",
    "\n",
    "    #add ids\n",
    "    item_dict['listingId']=tracking_data_json['listingId']\n",
    "    item_dict['saleId']=tracking_data_json['saleId']\n",
    "    \n",
    "    #get the anchor href for the url\n",
    "    result_li_a=item.find('a','sold-property-link')\n",
    "    item_dict['url']=result_li_a['href']\n",
    "\n",
    "    #get our sale listing info\n",
    "    result_price_info=result_li_a.find('div','sold-property-listing__location')\n",
    "\n",
    "    #address\n",
    "    address=result_li_a.find('h2','sold-property-listing__heading').string.strip()\n",
    "    #address=address.replace(' / ','/') #unicode getting in the way again?\n",
    "    item_dict['address']=address\n",
    "\n",
    "    #fee\n",
    "    fee=result_li_a.find('div','sold-property-listing__fee').string.strip()\n",
    "    fee=int(\"\".join(unicodedata.normalize(\"NFKD\",fee).strip('kr/mån').split()))\n",
    "    item_dict['fee']=fee\n",
    "\n",
    "    #living area\n",
    "    #area=result_li_a.find('div','sold-property-listing__area').string.strip()\n",
    "    #area=int(\"\".join(unicodedata.normalize(\"NFKD\",fee).strip('kr/mån').split()))\n",
    "    #item_dict['area']=area\n",
    "    area_el=result_li_a.find('div','sold-property-listing__area')\n",
    "    if area_el:\n",
    "        area=area_el.text.strip()\n",
    "        area_arr=\"\".join(area.split('m²')).split()\n",
    "\n",
    "        span_el = result_li_a.find('span', 'listing-card__attribute--normal-weight')\n",
    "        if span_el: \n",
    "            total_area=int(area_arr[0])+int(area_arr[2])\n",
    "            item_dict['living_area']=total_area\n",
    "            item_dict['rooms']=area_arr[3]\n",
    "        else:\n",
    "            item_dict['living_area']=area_arr[0]\n",
    "            item_dict['rooms']=area_arr[1] \n",
    "    \n",
    "    #get our sale price info\n",
    "    result_price_info=result_li_a.find('div','sold-property-listing__price-info')\n",
    "\n",
    "    #ending date\n",
    "    end_date_el=result_price_info.find('div',class_=\"sold-property-listing__sold-date\")\n",
    "    if end_date_el:\n",
    "        end_date_str=end_date_el.string.strip()\n",
    "        end_date_str=end_date_str.replace('Såld ','')\n",
    "        end_date=datetime.strptime(end_date_str, '%d %B %Y')\n",
    "        item_dict['end_date']=end_date\n",
    "\n",
    "    #end price\n",
    "    end_price_el=result_price_info.find('div',class_=\"sold-property-listing__subheading\")\n",
    "    if end_price_el:\n",
    "        end_price_str=end_price_el.string.strip()\n",
    "        end_price=int(\"\".join(end_price_str.strip(' kr').replace('Slutpris ','').split()))\n",
    "        item_dict['end_price']=end_price\n",
    "\n",
    "    #end price/m2\n",
    "    end_price_area_el=result_price_info.find('div',class_=\"sold-property-listing__price-per-m2\")\n",
    "    if end_price_area_el:\n",
    "        end_price_area_str=end_price_area_el.string.strip()\n",
    "        end_price_area=int(\"\".join(unicodedata.normalize(\"NFKD\",end_price_area_str).strip('kr/m2').split()))\n",
    "        item_dict['end_price_area']=end_price_area\n",
    "    \n",
    "    #price change\n",
    "    end_price_change_el=result_price_info.find('div',class_=\"sold-property-listing__price-change\")\n",
    "    if end_price_change_el:\n",
    "        end_price_change_str=end_price_change_el.string.strip()\n",
    "        end_price_change_str=\"\".join(end_price_change_str.strip(' %').split())\n",
    "        end_price_change=int(end_price_change_str[1:])\n",
    "        end_price_change_sign=end_price_change_str[0]\n",
    "\n",
    "        #calculate rate (percentage in float)\n",
    "        if end_price_change !=0:\n",
    "            item_dict['end_price_change_rate']=eval(f'100{end_price_change_sign}{end_price_change}')/100\n",
    "        elif end_price_change==0:\n",
    "            item_dict['end_price_change_rate']=100/100\n",
    "\n",
    "        item_dict['end_price_change']=end_price_change\n",
    "        item_dict['end_price_change_sign']=end_price_change_sign\n",
    "\n",
    "    item_list.append(item_dict)\n",
    "\n",
    "#print(item_list)"
   ]
  },
  {
   "cell_type": "code",
   "execution_count": 6,
   "id": "6e5e5da2",
   "metadata": {},
   "outputs": [
    {
     "data": {
      "text/html": [
       "<div>\n",
       "<style scoped>\n",
       "    .dataframe tbody tr th:only-of-type {\n",
       "        vertical-align: middle;\n",
       "    }\n",
       "\n",
       "    .dataframe tbody tr th {\n",
       "        vertical-align: top;\n",
       "    }\n",
       "\n",
       "    .dataframe thead th {\n",
       "        text-align: right;\n",
       "    }\n",
       "</style>\n",
       "<table border=\"1\" class=\"dataframe\">\n",
       "  <thead>\n",
       "    <tr style=\"text-align: right;\">\n",
       "      <th></th>\n",
       "      <th>listingId</th>\n",
       "      <th>saleId</th>\n",
       "      <th>url</th>\n",
       "      <th>address</th>\n",
       "      <th>fee</th>\n",
       "      <th>living_area</th>\n",
       "      <th>rooms</th>\n",
       "      <th>end_date</th>\n",
       "      <th>end_price</th>\n",
       "      <th>end_price_area</th>\n",
       "      <th>end_price_change_rate</th>\n",
       "      <th>end_price_change</th>\n",
       "      <th>end_price_change_sign</th>\n",
       "    </tr>\n",
       "  </thead>\n",
       "  <tbody>\n",
       "    <tr>\n",
       "      <th>0</th>\n",
       "      <td>19078075</td>\n",
       "      <td>8372546871807419582</td>\n",
       "      <td>https://www.hemnet.se/salda/lagenhet-3rum-sode...</td>\n",
       "      <td>Nackagatan 20, 3 tr</td>\n",
       "      <td>5055</td>\n",
       "      <td>66,5</td>\n",
       "      <td>3</td>\n",
       "      <td>2022-10-07</td>\n",
       "      <td>5500000</td>\n",
       "      <td>82707</td>\n",
       "      <td>NaN</td>\n",
       "      <td>NaN</td>\n",
       "      <td>NaN</td>\n",
       "    </tr>\n",
       "    <tr>\n",
       "      <th>1</th>\n",
       "      <td>19066708</td>\n",
       "      <td>8346866493337241075</td>\n",
       "      <td>https://www.hemnet.se/salda/lagenhet-1,5rum-so...</td>\n",
       "      <td>Ringvägen 162</td>\n",
       "      <td>1983</td>\n",
       "      <td>38</td>\n",
       "      <td>1,5</td>\n",
       "      <td>2022-10-07</td>\n",
       "      <td>3000000</td>\n",
       "      <td>78947</td>\n",
       "      <td>1.00</td>\n",
       "      <td>0.0</td>\n",
       "      <td>±</td>\n",
       "    </tr>\n",
       "    <tr>\n",
       "      <th>2</th>\n",
       "      <td>19096435</td>\n",
       "      <td>7249123498130730538</td>\n",
       "      <td>https://www.hemnet.se/salda/lagenhet-1rum-sode...</td>\n",
       "      <td>Flintbacken 2, 12 tr</td>\n",
       "      <td>1498</td>\n",
       "      <td>29,5</td>\n",
       "      <td>1</td>\n",
       "      <td>2022-10-07</td>\n",
       "      <td>2550000</td>\n",
       "      <td>86441</td>\n",
       "      <td>1.02</td>\n",
       "      <td>2.0</td>\n",
       "      <td>+</td>\n",
       "    </tr>\n",
       "  </tbody>\n",
       "</table>\n",
       "</div>"
      ],
      "text/plain": [
       "   listingId               saleId  \\\n",
       "0   19078075  8372546871807419582   \n",
       "1   19066708  8346866493337241075   \n",
       "2   19096435  7249123498130730538   \n",
       "\n",
       "                                                 url               address  \\\n",
       "0  https://www.hemnet.se/salda/lagenhet-3rum-sode...   Nackagatan 20, 3 tr   \n",
       "1  https://www.hemnet.se/salda/lagenhet-1,5rum-so...         Ringvägen 162   \n",
       "2  https://www.hemnet.se/salda/lagenhet-1rum-sode...  Flintbacken 2, 12 tr   \n",
       "\n",
       "    fee living_area rooms   end_date  end_price  end_price_area  \\\n",
       "0  5055        66,5     3 2022-10-07    5500000           82707   \n",
       "1  1983          38   1,5 2022-10-07    3000000           78947   \n",
       "2  1498        29,5     1 2022-10-07    2550000           86441   \n",
       "\n",
       "   end_price_change_rate  end_price_change end_price_change_sign  \n",
       "0                    NaN               NaN                   NaN  \n",
       "1                   1.00               0.0                     ±  \n",
       "2                   1.02               2.0                     +  "
      ]
     },
     "execution_count": 6,
     "metadata": {},
     "output_type": "execute_result"
    }
   ],
   "source": [
    "df=pd.json_normalize(item_list)\n",
    "df.head(3)"
   ]
  },
  {
   "cell_type": "markdown",
   "id": "08ce9240",
   "metadata": {},
   "source": [
    "import json\n",
    "import unicodedata\n",
    "from datetime import datetime\n",
    "\n",
    "\n",
    "#find the ul with the results list\n",
    "result_ul=soup.find('ul','sold-results')\n",
    "\n",
    "#get the list items with our data (filter out the ads)\n",
    "result_li=result_ul('li', 'sold-results__normal-hit')\n",
    "\n",
    "print(len(result_li))\n",
    "\n",
    "#start loop...\n",
    "for item in result_li:\n",
    "    \n",
    "    #get the anchor href for the url\n",
    "    result_li_a=item.find('a','sold-property-link')\n",
    "\n",
    "    #living area\n",
    "    area=result_li_a.find('div','sold-property-listing__area').string.strip()\n",
    "    area_arr=\"\".join(area.split('m²')).split()\n",
    "    rooms=area_arr[1]\n",
    "    living_area=area_arr[0]\n",
    "    #area=int(\"\".join(unicodedata.normalize(\"NFKD\",area).strip('kr/mån').split()))\n",
    "    #address\n",
    "    #address_str=result_price_info.find('div',class_='sold-property-listing__location').string.strip()\n",
    "    #print(address_str)"
   ]
  }
 ],
 "metadata": {
  "kernelspec": {
   "display_name": "hemnet-test-PkTs5CnR",
   "language": "python",
   "name": "python3"
  },
  "language_info": {
   "codemirror_mode": {
    "name": "ipython",
    "version": 3
   },
   "file_extension": ".py",
   "mimetype": "text/x-python",
   "name": "python",
   "nbconvert_exporter": "python",
   "pygments_lexer": "ipython3",
   "version": "3.9.2"
  },
  "vscode": {
   "interpreter": {
    "hash": "e3654e614d1110eba11d682bbbc77f533a2d1cfa04deed876bacdec7a4b5018a"
   }
  }
 },
 "nbformat": 4,
 "nbformat_minor": 5
}
