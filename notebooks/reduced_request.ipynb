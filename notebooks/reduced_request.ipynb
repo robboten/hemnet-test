{
 "cells": [
  {
   "cell_type": "code",
   "execution_count": 18,
   "metadata": {},
   "outputs": [
    {
     "name": "stdout",
     "output_type": "stream",
     "text": [
      "<class 'dict'>\n"
     ]
    }
   ],
   "source": [
    "from datetime import datetime\n",
    "import pandas as pd\n",
    "import requests\n",
    "\n",
    "# Current utc date and time\n",
    "utcnow = datetime.utcnow().strftime(\"%Y%m%d_%H%M\")\n",
    "dateoftoday = datetime.utcnow().strftime(\"%Y%m%d\")\n",
    "\n",
    "# Varible to keep the count of the listings.    \n",
    "listings_count = 0\n",
    "\n",
    "area_info={\n",
    "    \"gamla_stan\": \"ab85609a4dbfa32c62a9a8b126550ced2d074ff5\",\n",
    "    \"gardet\": \"39992548ad9d0cd15497e4e3b3d1519f0e91f5aa\",\n",
    "    \"hjorthagen\": \"ad226147ded7e9ee32d5701aae0658bb91166d0c\",\n",
    "    \"kungsholmen\": \"a92006fdcdf6dd843da1802dd5b5ba13e57d26df\",\n",
    "    \"lilla_essingen\": \"af901ec433dffd143a54fb1a2c24a5aa7ad46089\",\n",
    "    \"norra_djurgarden\": \"91d4716f82833881428eaf46da90871b616396b3\",\n",
    "    \"norrmalm\": \"b65b348d26772bbfcdab88057996e136291bfb9c\",\n",
    "    \"ostermalm\": \"fedafc35d25c3c294925905e0bd1547f192fde7b\",\n",
    "    \"sodermalm\": \"46df34129aa827f7b5862622fa23b574ae5e5ba6\",\n",
    "    \"solna\": \"b88ff1d7604ab8737572a032f39c270ef013c123\",\n",
    "    \"stora_essingen\": \"fd879c94aa92827c527a7791cca091e192f9d49e\",\n",
    "    \"sundbyberg\": \"44265ea0b97556e9e3a3ef9118482db8a7fab2b6\",\n",
    "    \"vasastan\": \"72f539037b60f5ff2d6a9133f78e9ea8983f2ada\"\n",
    "}\n",
    "\n",
    "print(type(area_info))\n",
    " "
   ]
  },
  {
   "cell_type": "code",
   "execution_count": 19,
   "metadata": {},
   "outputs": [
    {
     "data": {
      "text/plain": [
       "dict_items([('gamla_stan', 'ab85609a4dbfa32c62a9a8b126550ced2d074ff5'), ('gardet', '39992548ad9d0cd15497e4e3b3d1519f0e91f5aa'), ('hjorthagen', 'ad226147ded7e9ee32d5701aae0658bb91166d0c'), ('kungsholmen', 'a92006fdcdf6dd843da1802dd5b5ba13e57d26df'), ('lilla_essingen', 'af901ec433dffd143a54fb1a2c24a5aa7ad46089'), ('norra_djurgarden', '91d4716f82833881428eaf46da90871b616396b3'), ('norrmalm', 'b65b348d26772bbfcdab88057996e136291bfb9c'), ('ostermalm', 'fedafc35d25c3c294925905e0bd1547f192fde7b'), ('sodermalm', '46df34129aa827f7b5862622fa23b574ae5e5ba6'), ('solna', 'b88ff1d7604ab8737572a032f39c270ef013c123'), ('stora_essingen', 'fd879c94aa92827c527a7791cca091e192f9d49e'), ('sundbyberg', '44265ea0b97556e9e3a3ef9118482db8a7fab2b6'), ('vasastan', '72f539037b60f5ff2d6a9133f78e9ea8983f2ada')])"
      ]
     },
     "execution_count": 19,
     "metadata": {},
     "output_type": "execute_result"
    }
   ],
   "source": [
    "area_info.items()"
   ]
  },
  {
   "cell_type": "code",
   "execution_count": 30,
   "metadata": {},
   "outputs": [
    {
     "name": "stdout",
     "output_type": "stream",
     "text": [
      "gamla_stan                (7, 39)        \n",
      "gardet                    (88, 42)       \n",
      "hjorthagen                (23, 39)       \n",
      "kungsholmen               (233, 42)      \n",
      "lilla_essingen            (15, 39)       \n",
      "norra_djurgarden          (7, 39)        \n",
      "norrmalm                  (24, 39)       \n",
      "ostermalm                 (128, 42)      \n",
      "sodermalm                 (258, 42)      \n",
      "solna                     (301, 42)      \n",
      "stora_essingen            (15, 39)       \n",
      "sundbyberg                (160, 42)      \n",
      "vasastan                  (265, 42)      \n",
      "\n",
      "10668 listings in the areas of interest today!\n"
     ]
    }
   ],
   "source": [
    "# Loop thruogh all the areas one by one\n",
    "for area,area_code in area_info.items():\n",
    "    payload={}\n",
    "    headers = {\"User-Agent\": \"Mozilla/5.0\"\n",
    "    }\n",
    "\n",
    "    url = \"https://www.hemnet.se/bostader/search/\"+area_code\n",
    "\n",
    "    response = requests.request(\n",
    "        \"GET\",\n",
    "        url,\n",
    "        headers=headers,\n",
    "    )\n",
    "\n",
    "    # Store all the listings in that area as a dataframe\n",
    "    df = pd.json_normalize(response.json(),\n",
    "        record_path=\"properties\",\n",
    "        max_level=1\n",
    "    )\n",
    "    print(\"{:<20} {:<15}\".format(area, str(df.shape)))\n",
    "\n",
    "    # Enrich the df with info about internal area naming and date  \n",
    "    df[\"area\"] = area\n",
    "    df[\"date\"] = dateoftoday\n",
    "\n",
    "    # Update the listings_count\n",
    "    listings_count += df.shape[0]\n",
    "    \n",
    "    # # Save the dataframe inside directory\n",
    "    # df.to_parquet(f\"{directory_path}{area}.parquet.gzip\", compression=\"gzip\")\n",
    "    #print(df)\n",
    "\n",
    "print(f\"\\n{listings_count} listings in the areas of interest today!\")"
   ]
  }
 ],
 "metadata": {
  "kernelspec": {
   "display_name": "Python 3.10.0 ('test_hemnet-2Y8fwZld')",
   "language": "python",
   "name": "python3"
  },
  "language_info": {
   "codemirror_mode": {
    "name": "ipython",
    "version": 3
   },
   "file_extension": ".py",
   "mimetype": "text/x-python",
   "name": "python",
   "nbconvert_exporter": "python",
   "pygments_lexer": "ipython3",
   "version": "3.10.0"
  },
  "orig_nbformat": 4,
  "vscode": {
   "interpreter": {
    "hash": "99338470076d44dd1cbafe87ef225b4c2fdcb3df4073f8a286e224c632a31409"
   }
  }
 },
 "nbformat": 4,
 "nbformat_minor": 2
}
