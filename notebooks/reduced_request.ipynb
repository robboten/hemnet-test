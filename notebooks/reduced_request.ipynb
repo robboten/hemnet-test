{
 "cells": [
  {
   "cell_type": "code",
   "execution_count": 18,
   "metadata": {},
   "outputs": [
    {
     "name": "stdout",
     "output_type": "stream",
     "text": [
      "<class 'dict'>\n"
     ]
    }
   ],
   "source": [
    "from datetime import datetime\n",
    "import pandas as pd\n",
    "import requests\n",
    "\n",
    "# Current utc date and time\n",
    "utcnow = datetime.utcnow().strftime(\"%Y%m%d_%H%M\")\n",
    "dateoftoday = datetime.utcnow().strftime(\"%Y%m%d\")\n",
    "\n",
    "# Varible to keep the count of the listings.    \n",
    "listings_count = 0\n",
    "\n",
    "area_info={\n",
    "    \"gamla_stan\": \"ab85609a4dbfa32c62a9a8b126550ced2d074ff5\",\n",
    "    \"gardet\": \"39992548ad9d0cd15497e4e3b3d1519f0e91f5aa\",\n",
    "    \"hjorthagen\": \"ad226147ded7e9ee32d5701aae0658bb91166d0c\",\n",
    "    \"kungsholmen\": \"a92006fdcdf6dd843da1802dd5b5ba13e57d26df\",\n",
    "    \"lilla_essingen\": \"af901ec433dffd143a54fb1a2c24a5aa7ad46089\",\n",
    "    \"norra_djurgarden\": \"91d4716f82833881428eaf46da90871b616396b3\",\n",
    "    \"norrmalm\": \"b65b348d26772bbfcdab88057996e136291bfb9c\",\n",
    "    \"ostermalm\": \"fedafc35d25c3c294925905e0bd1547f192fde7b\",\n",
    "    \"sodermalm\": \"46df34129aa827f7b5862622fa23b574ae5e5ba6\",\n",
    "    \"solna\": \"b88ff1d7604ab8737572a032f39c270ef013c123\",\n",
    "    \"stora_essingen\": \"fd879c94aa92827c527a7791cca091e192f9d49e\",\n",
    "    \"sundbyberg\": \"44265ea0b97556e9e3a3ef9118482db8a7fab2b6\",\n",
    "    \"vasastan\": \"72f539037b60f5ff2d6a9133f78e9ea8983f2ada\"\n",
    "}\n",
    "\n",
    "print(type(area_info))\n",
    " "
   ]
  },
  {
   "cell_type": "code",
   "execution_count": 19,
   "metadata": {},
   "outputs": [
    {
     "data": {
      "text/plain": [
       "dict_items([('gamla_stan', 'ab85609a4dbfa32c62a9a8b126550ced2d074ff5'), ('gardet', '39992548ad9d0cd15497e4e3b3d1519f0e91f5aa'), ('hjorthagen', 'ad226147ded7e9ee32d5701aae0658bb91166d0c'), ('kungsholmen', 'a92006fdcdf6dd843da1802dd5b5ba13e57d26df'), ('lilla_essingen', 'af901ec433dffd143a54fb1a2c24a5aa7ad46089'), ('norra_djurgarden', '91d4716f82833881428eaf46da90871b616396b3'), ('norrmalm', 'b65b348d26772bbfcdab88057996e136291bfb9c'), ('ostermalm', 'fedafc35d25c3c294925905e0bd1547f192fde7b'), ('sodermalm', '46df34129aa827f7b5862622fa23b574ae5e5ba6'), ('solna', 'b88ff1d7604ab8737572a032f39c270ef013c123'), ('stora_essingen', 'fd879c94aa92827c527a7791cca091e192f9d49e'), ('sundbyberg', '44265ea0b97556e9e3a3ef9118482db8a7fab2b6'), ('vasastan', '72f539037b60f5ff2d6a9133f78e9ea8983f2ada')])"
      ]
     },
     "execution_count": 19,
     "metadata": {},
     "output_type": "execute_result"
    }
   ],
   "source": [
    "area_info.items()"
   ]
  },
  {
   "cell_type": "code",
   "execution_count": 30,
   "metadata": {},
   "outputs": [
    {
     "name": "stdout",
     "output_type": "stream",
     "text": [
      "gamla_stan                (7, 39)        \n",
      "gardet                    (88, 42)       \n",
      "hjorthagen                (23, 39)       \n",
      "kungsholmen               (233, 42)      \n",
      "lilla_essingen            (15, 39)       \n",
      "norra_djurgarden          (7, 39)        \n",
      "norrmalm                  (24, 39)       \n",
      "ostermalm                 (128, 42)      \n",
      "sodermalm                 (258, 42)      \n",
      "solna                     (301, 42)      \n",
      "stora_essingen            (15, 39)       \n",
      "sundbyberg                (160, 42)      \n",
      "vasastan                  (265, 42)      \n",
      "\n",
      "10668 listings in the areas of interest today!\n"
     ]
    }
   ],
   "source": [
    "# Loop thruogh all the areas one by one\n",
    "for area,area_code in area_info.items():\n",
    "    payload={}\n",
    "    headers = {\"User-Agent\": \"Mozilla/5.0\"\n",
    "    }\n",
    "\n",
    "    url = \"https://www.hemnet.se/bostader/search/\"+area_code\n",
    "\n",
    "    response = requests.request(\n",
    "        \"GET\",\n",
    "        url,\n",
    "        headers=headers,\n",
    "    )\n",
    "\n",
    "    # Store all the listings in that area as a dataframe\n",
    "    df = pd.json_normalize(response.json(),\n",
    "        record_path=\"properties\",\n",
    "        max_level=1\n",
    "    )\n",
    "    print(\"{:<20} {:<15}\".format(area, str(df.shape)))\n",
    "\n",
    "    # Enrich the df with info about internal area naming and date  \n",
    "    df[\"area\"] = area\n",
    "    df[\"date\"] = dateoftoday\n",
    "\n",
    "    # Update the listings_count\n",
    "    listings_count += df.shape[0]\n",
    "    \n",
    "    # # Save the dataframe inside directory\n",
    "    # df.to_parquet(f\"{directory_path}{area}.parquet.gzip\", compression=\"gzip\")\n",
    "    #print(df)\n",
    "\n",
    "print(f\"\\n{listings_count} listings in the areas of interest today!\")"
   ]
  },
  {
   "cell_type": "code",
   "execution_count": 34,
   "metadata": {},
   "outputs": [
    {
     "ename": "DefaultCredentialsError",
     "evalue": "Could not automatically determine credentials. Please set GOOGLE_APPLICATION_CREDENTIALS or explicitly create credentials and re-run the application. For more information, please see https://cloud.google.com/docs/authentication/getting-started",
     "output_type": "error",
     "traceback": [
      "\u001b[1;31m---------------------------------------------------------------------------\u001b[0m",
      "\u001b[1;31mDefaultCredentialsError\u001b[0m                   Traceback (most recent call last)",
      "Cell \u001b[1;32mIn [34], line 23\u001b[0m\n\u001b[0;32m     21\u001b[0m \u001b[39m# The ID of your GCS object\u001b[39;00m\n\u001b[0;32m     22\u001b[0m destination_blob_name \u001b[39m=\u001b[39m \u001b[39m\"\u001b[39m\u001b[39mnorrmalm.parquet.gzip\u001b[39m\u001b[39m\"\u001b[39m\n\u001b[1;32m---> 23\u001b[0m upload_blob(\u001b[39m\"\u001b[39;49m\u001b[39mhemnet_test\u001b[39;49m\u001b[39m\"\u001b[39;49m,testfilepath,destination_blob_name)\n",
      "Cell \u001b[1;32mIn [34], line 9\u001b[0m, in \u001b[0;36mupload_blob\u001b[1;34m(bucket_name, source_file_name, destination_blob_name)\u001b[0m\n\u001b[0;32m      5\u001b[0m \u001b[39m# The ID of your GCS bucket\u001b[39;00m\n\u001b[0;32m      6\u001b[0m bucket_name \u001b[39m=\u001b[39m \u001b[39m\"\u001b[39m\u001b[39mhemnet_test\u001b[39m\u001b[39m\"\u001b[39m\n\u001b[1;32m----> 9\u001b[0m storage_client \u001b[39m=\u001b[39m storage\u001b[39m.\u001b[39;49mClient()\n\u001b[0;32m     10\u001b[0m bucket \u001b[39m=\u001b[39m storage_client\u001b[39m.\u001b[39mbucket(bucket_name)\n\u001b[0;32m     11\u001b[0m blob \u001b[39m=\u001b[39m bucket\u001b[39m.\u001b[39mblob(destination_blob_name)\n",
      "File \u001b[1;32mc:\\Users\\robbo\\.virtualenvs\\test_hemnet-2Y8fwZld\\lib\\site-packages\\google\\cloud\\storage\\client.py:161\u001b[0m, in \u001b[0;36mClient.__init__\u001b[1;34m(self, project, credentials, _http, client_info, client_options)\u001b[0m\n\u001b[0;32m    158\u001b[0m         no_project \u001b[39m=\u001b[39m \u001b[39mTrue\u001b[39;00m\n\u001b[0;32m    159\u001b[0m         project \u001b[39m=\u001b[39m \u001b[39m\"\u001b[39m\u001b[39m<none>\u001b[39m\u001b[39m\"\u001b[39m\n\u001b[1;32m--> 161\u001b[0m \u001b[39msuper\u001b[39;49m(Client, \u001b[39mself\u001b[39;49m)\u001b[39m.\u001b[39;49m\u001b[39m__init__\u001b[39;49m(\n\u001b[0;32m    162\u001b[0m     project\u001b[39m=\u001b[39;49mproject,\n\u001b[0;32m    163\u001b[0m     credentials\u001b[39m=\u001b[39;49mcredentials,\n\u001b[0;32m    164\u001b[0m     client_options\u001b[39m=\u001b[39;49mclient_options,\n\u001b[0;32m    165\u001b[0m     _http\u001b[39m=\u001b[39;49m_http,\n\u001b[0;32m    166\u001b[0m )\n\u001b[0;32m    168\u001b[0m \u001b[39mif\u001b[39;00m no_project:\n\u001b[0;32m    169\u001b[0m     \u001b[39mself\u001b[39m\u001b[39m.\u001b[39mproject \u001b[39m=\u001b[39m \u001b[39mNone\u001b[39;00m\n",
      "File \u001b[1;32mc:\\Users\\robbo\\.virtualenvs\\test_hemnet-2Y8fwZld\\lib\\site-packages\\google\\cloud\\client\\__init__.py:320\u001b[0m, in \u001b[0;36mClientWithProject.__init__\u001b[1;34m(self, project, credentials, client_options, _http)\u001b[0m\n\u001b[0;32m    319\u001b[0m \u001b[39mdef\u001b[39;00m \u001b[39m__init__\u001b[39m(\u001b[39mself\u001b[39m, project\u001b[39m=\u001b[39m\u001b[39mNone\u001b[39;00m, credentials\u001b[39m=\u001b[39m\u001b[39mNone\u001b[39;00m, client_options\u001b[39m=\u001b[39m\u001b[39mNone\u001b[39;00m, _http\u001b[39m=\u001b[39m\u001b[39mNone\u001b[39;00m):\n\u001b[1;32m--> 320\u001b[0m     _ClientProjectMixin\u001b[39m.\u001b[39;49m\u001b[39m__init__\u001b[39;49m(\u001b[39mself\u001b[39;49m, project\u001b[39m=\u001b[39;49mproject, credentials\u001b[39m=\u001b[39;49mcredentials)\n\u001b[0;32m    321\u001b[0m     Client\u001b[39m.\u001b[39m\u001b[39m__init__\u001b[39m(\n\u001b[0;32m    322\u001b[0m         \u001b[39mself\u001b[39m, credentials\u001b[39m=\u001b[39mcredentials, client_options\u001b[39m=\u001b[39mclient_options, _http\u001b[39m=\u001b[39m_http\n\u001b[0;32m    323\u001b[0m     )\n",
      "File \u001b[1;32mc:\\Users\\robbo\\.virtualenvs\\test_hemnet-2Y8fwZld\\lib\\site-packages\\google\\cloud\\client\\__init__.py:268\u001b[0m, in \u001b[0;36m_ClientProjectMixin.__init__\u001b[1;34m(self, project, credentials)\u001b[0m\n\u001b[0;32m    265\u001b[0m     project \u001b[39m=\u001b[39m \u001b[39mgetattr\u001b[39m(credentials, \u001b[39m\"\u001b[39m\u001b[39mproject_id\u001b[39m\u001b[39m\"\u001b[39m, \u001b[39mNone\u001b[39;00m)\n\u001b[0;32m    267\u001b[0m \u001b[39mif\u001b[39;00m project \u001b[39mis\u001b[39;00m \u001b[39mNone\u001b[39;00m:\n\u001b[1;32m--> 268\u001b[0m     project \u001b[39m=\u001b[39m \u001b[39mself\u001b[39;49m\u001b[39m.\u001b[39;49m_determine_default(project)\n\u001b[0;32m    270\u001b[0m \u001b[39mif\u001b[39;00m project \u001b[39mis\u001b[39;00m \u001b[39mNone\u001b[39;00m:\n\u001b[0;32m    271\u001b[0m     \u001b[39mraise\u001b[39;00m \u001b[39mEnvironmentError\u001b[39;00m(\n\u001b[0;32m    272\u001b[0m         \u001b[39m\"\u001b[39m\u001b[39mProject was not passed and could not be \u001b[39m\u001b[39m\"\u001b[39m\n\u001b[0;32m    273\u001b[0m         \u001b[39m\"\u001b[39m\u001b[39mdetermined from the environment.\u001b[39m\u001b[39m\"\u001b[39m\n\u001b[0;32m    274\u001b[0m     )\n",
      "File \u001b[1;32mc:\\Users\\robbo\\.virtualenvs\\test_hemnet-2Y8fwZld\\lib\\site-packages\\google\\cloud\\client\\__init__.py:287\u001b[0m, in \u001b[0;36m_ClientProjectMixin._determine_default\u001b[1;34m(project)\u001b[0m\n\u001b[0;32m    284\u001b[0m \u001b[39m@staticmethod\u001b[39m\n\u001b[0;32m    285\u001b[0m \u001b[39mdef\u001b[39;00m \u001b[39m_determine_default\u001b[39m(project):\n\u001b[0;32m    286\u001b[0m     \u001b[39m\"\"\"Helper:  use default project detection.\"\"\"\u001b[39;00m\n\u001b[1;32m--> 287\u001b[0m     \u001b[39mreturn\u001b[39;00m _determine_default_project(project)\n",
      "File \u001b[1;32mc:\\Users\\robbo\\.virtualenvs\\test_hemnet-2Y8fwZld\\lib\\site-packages\\google\\cloud\\_helpers\\__init__.py:152\u001b[0m, in \u001b[0;36m_determine_default_project\u001b[1;34m(project)\u001b[0m\n\u001b[0;32m    140\u001b[0m \u001b[39m\"\"\"Determine default project ID explicitly or implicitly as fall-back.\u001b[39;00m\n\u001b[0;32m    141\u001b[0m \n\u001b[0;32m    142\u001b[0m \u001b[39mSee :func:`google.auth.default` for details on how the default project\u001b[39;00m\n\u001b[1;32m   (...)\u001b[0m\n\u001b[0;32m    149\u001b[0m \u001b[39m:returns: Default project if it can be determined.\u001b[39;00m\n\u001b[0;32m    150\u001b[0m \u001b[39m\"\"\"\u001b[39;00m\n\u001b[0;32m    151\u001b[0m \u001b[39mif\u001b[39;00m project \u001b[39mis\u001b[39;00m \u001b[39mNone\u001b[39;00m:\n\u001b[1;32m--> 152\u001b[0m     _, project \u001b[39m=\u001b[39m google\u001b[39m.\u001b[39;49mauth\u001b[39m.\u001b[39;49mdefault()\n\u001b[0;32m    153\u001b[0m \u001b[39mreturn\u001b[39;00m project\n",
      "File \u001b[1;32mc:\\Users\\robbo\\.virtualenvs\\test_hemnet-2Y8fwZld\\lib\\site-packages\\google\\auth\\_default.py:646\u001b[0m, in \u001b[0;36mdefault\u001b[1;34m(scopes, request, quota_project_id, default_scopes)\u001b[0m\n\u001b[0;32m    638\u001b[0m             _LOGGER\u001b[39m.\u001b[39mwarning(\n\u001b[0;32m    639\u001b[0m                 \u001b[39m\"\u001b[39m\u001b[39mNo project ID could be determined. Consider running \u001b[39m\u001b[39m\"\u001b[39m\n\u001b[0;32m    640\u001b[0m                 \u001b[39m\"\u001b[39m\u001b[39m`gcloud config set project` or setting the \u001b[39m\u001b[39m%s\u001b[39;00m\u001b[39m \u001b[39m\u001b[39m\"\u001b[39m\n\u001b[0;32m    641\u001b[0m                 \u001b[39m\"\u001b[39m\u001b[39menvironment variable\u001b[39m\u001b[39m\"\u001b[39m,\n\u001b[0;32m    642\u001b[0m                 environment_vars\u001b[39m.\u001b[39mPROJECT,\n\u001b[0;32m    643\u001b[0m             )\n\u001b[0;32m    644\u001b[0m         \u001b[39mreturn\u001b[39;00m credentials, effective_project_id\n\u001b[1;32m--> 646\u001b[0m \u001b[39mraise\u001b[39;00m exceptions\u001b[39m.\u001b[39mDefaultCredentialsError(_HELP_MESSAGE)\n",
      "\u001b[1;31mDefaultCredentialsError\u001b[0m: Could not automatically determine credentials. Please set GOOGLE_APPLICATION_CREDENTIALS or explicitly create credentials and re-run the application. For more information, please see https://cloud.google.com/docs/authentication/getting-started"
     ]
    }
   ],
   "source": [
    "from google.cloud import storage\n",
    "\n",
    "def upload_blob(bucket_name, source_file_name, destination_blob_name):\n",
    "    \"\"\"Uploads a file to the bucket.\"\"\"\n",
    "    # The ID of your GCS bucket\n",
    "    bucket_name = \"hemnet_test\"\n",
    "    \n",
    "\n",
    "    storage_client = storage.Client()\n",
    "    bucket = storage_client.bucket(bucket_name)\n",
    "    blob = bucket.blob(destination_blob_name)\n",
    "\n",
    "    blob.upload_from_filename(source_file_name)\n",
    "\n",
    "    print(\n",
    "        f\"File {source_file_name} uploaded to {destination_blob_name}.\"\n",
    "    )\n",
    "testfilepath=r\"G:\\My Drive\\Privat\\Documents\\Python\\hemnet\\test_hemnet\\data\\areas_of_interest\\20221109_1814\\norrmalm.parquet.gzip\"\n",
    "# The path to your file to upload\n",
    "source_file_name = r\"G:\\My Drive\\Privat\\Documents\\Python\\hemnet\\test_hemnet\\data\\areas_of_interest\\20221109_1814\"\n",
    "# The ID of your GCS object\n",
    "destination_blob_name = \"norrmalm.parquet.gzip\"\n",
    "upload_blob(\"hemnet_test\",testfilepath,destination_blob_name)\n"
   ]
  }
 ],
 "metadata": {
  "kernelspec": {
   "display_name": "Python 3.10.0 ('test_hemnet-2Y8fwZld')",
   "language": "python",
   "name": "python3"
  },
  "language_info": {
   "codemirror_mode": {
    "name": "ipython",
    "version": 3
   },
   "file_extension": ".py",
   "mimetype": "text/x-python",
   "name": "python",
   "nbconvert_exporter": "python",
   "pygments_lexer": "ipython3",
   "version": "3.10.0"
  },
  "orig_nbformat": 4,
  "vscode": {
   "interpreter": {
    "hash": "99338470076d44dd1cbafe87ef225b4c2fdcb3df4073f8a286e224c632a31409"
   }
  }
 },
 "nbformat": 4,
 "nbformat_minor": 2
}
