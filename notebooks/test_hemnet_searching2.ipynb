{
 "cells": [
  {
   "cell_type": "code",
   "execution_count": 2,
   "id": "361e38e9",
   "metadata": {},
   "outputs": [],
   "source": [
    "import json\n",
    "from ast import literal_eval\n",
    "from pprint import pprint\n",
    "\n",
    "from bs4 import BeautifulSoup\n",
    "import pandas as pd\n",
    "import requests"
   ]
  },
  {
   "cell_type": "markdown",
   "id": "6a6c18e7",
   "metadata": {},
   "source": [
    "---- we can search for a place and then return first hit for a search id ----"
   ]
  },
  {
   "cell_type": "code",
   "execution_count": 3,
   "id": "84431b99",
   "metadata": {},
   "outputs": [
    {
     "data": {
      "text/plain": [
       "'https://www.hemnet.se/locations/show?q=Lilla+Essingen%2C+Stockholm'"
      ]
     },
     "execution_count": 3,
     "metadata": {},
     "output_type": "execute_result"
    }
   ],
   "source": [
    "#use dict to search for listings\n",
    "url = \"https://www.hemnet.se/locations/show\"\n",
    "params= {\n",
    "    'q':'Lilla Essingen, Stockholm'\n",
    "}\n",
    "payload={}\n",
    "\n",
    "headers = {\n",
    "    'User-Agent': 'Mozilla/5.0 (Windows NT 6.1; WOW64) AppleWebKit/537.36 (KHTML, like Gecko) Chrome/56.0.2924.76 Safari/537.36'\n",
    "}\n",
    "\n",
    "response = requests.request(\"GET\", url, headers=headers, data=payload, params=params)\n",
    "#response.text\n",
    "response.url"
   ]
  },
  {
   "cell_type": "markdown",
   "id": "824a6337",
   "metadata": {},
   "source": [
    "url = \"https://www.hemnet.se/locations/show\"\n",
    "params= {\n",
    "    'q':'Gärdet, Stockholm'\n",
    "}\n",
    "next(iter(params.values()))\n",
    "str=f\"{url}?{next(iter(params))}={next(iter(params.values()))}\"\n",
    "print(str)"
   ]
  },
  {
   "cell_type": "markdown",
   "id": "5b4917a9",
   "metadata": {},
   "source": [
    "import urllib.parse\n",
    "url = \"https://www.hemnet.se/locations/show\"\n",
    "params= {\n",
    "    'q':'Gärdet, Stockholm'\n",
    "}\n",
    "#params = {'q': 'Python 2.x URL encoding', 'as_sitesearch': 'www.urlencoder.io'}\n",
    "urllib.parse.urlencode(params)"
   ]
  },
  {
   "cell_type": "code",
   "execution_count": 4,
   "id": "d6e78aec",
   "metadata": {},
   "outputs": [
    {
     "name": "stdout",
     "output_type": "stream",
     "text": [
      "[{'id': 473386,\n",
      "  'location_type': 'district',\n",
      "  'name': 'Lilla Essingen',\n",
      "  'parent_location': {'id': 18031,\n",
      "                      'location_type': 'municipality',\n",
      "                      'name': 'Stockholms kommun',\n",
      "                      'slug': 'stockholms-kommun'},\n",
      "  'slug': 'lilla-essingen'}]\n"
     ]
    }
   ],
   "source": [
    "pprint(literal_eval(response.text))"
   ]
  },
  {
   "cell_type": "code",
   "execution_count": 5,
   "id": "4ab32b96",
   "metadata": {},
   "outputs": [],
   "source": [
    "json_data=json.loads(response.text)\n",
    "search_id=json_data[0]['id']"
   ]
  },
  {
   "cell_type": "code",
   "execution_count": 6,
   "id": "e8a3a554",
   "metadata": {},
   "outputs": [
    {
     "data": {
      "text/plain": [
       "473386"
      ]
     },
     "execution_count": 6,
     "metadata": {},
     "output_type": "execute_result"
    }
   ],
   "source": [
    "search_id"
   ]
  },
  {
   "cell_type": "code",
   "execution_count": 7,
   "id": "ef75ecd8",
   "metadata": {},
   "outputs": [],
   "source": [
    "#or make dict with places to search for\n",
    "\n",
    "#location_ids={'Ringvägen':475989,'Huvudsta':473498}\n",
    "#search_id=location_ids['Ringvägen']"
   ]
  },
  {
   "cell_type": "code",
   "execution_count": 8,
   "id": "0f7d7e2b",
   "metadata": {
    "scrolled": false
   },
   "outputs": [
    {
     "data": {
      "text/plain": [
       "'https://www.hemnet.se/bostader?housing_form_groups=apartments&location_ids=473386&item_types=bostadsratt&rooms_min=2&living_area_min=35&new_construction=exclude'"
      ]
     },
     "execution_count": 8,
     "metadata": {},
     "output_type": "execute_result"
    }
   ],
   "source": [
    "#use dict to search for listings\n",
    "url = \"https://www.hemnet.se/bostader\"\n",
    "params= {\n",
    "    'housing_form_groups':'apartments',\n",
    "    'location_ids':search_id,\n",
    "    'item_types':'bostadsratt',\n",
    "    'rooms_min':2,\n",
    "    'living_area_min':35,\n",
    "    'new_construction':'exclude'\n",
    "}\n",
    "payload={}\n",
    "\n",
    "headers = {\n",
    "    'User-Agent': 'Mozilla/5.0 (Windows NT 6.1; WOW64) AppleWebKit/537.36 (KHTML, like Gecko) Chrome/56.0.2924.76 Safari/537.36'\n",
    "}\n",
    "\n",
    "response = requests.request(\"GET\", url, headers=headers, data=payload, params=params)\n",
    "response.url"
   ]
  },
  {
   "cell_type": "markdown",
   "id": "e751c449",
   "metadata": {},
   "source": [
    "--------- w beautiful soup ------------"
   ]
  },
  {
   "cell_type": "code",
   "execution_count": 9,
   "id": "724489a8",
   "metadata": {},
   "outputs": [],
   "source": [
    "soup = BeautifulSoup(response.content, \"html.parser\")"
   ]
  },
  {
   "cell_type": "code",
   "execution_count": 10,
   "id": "bb291f48",
   "metadata": {},
   "outputs": [],
   "source": [
    "#find div with good data to use\n",
    "map_results=soup.find(id='results-map')\n",
    "#map_results"
   ]
  },
  {
   "cell_type": "code",
   "execution_count": 11,
   "id": "6dedfc40",
   "metadata": {},
   "outputs": [],
   "source": [
    "initial_data=map_results.attrs['data-initial-data']\n",
    "#initial_data"
   ]
  },
  {
   "cell_type": "code",
   "execution_count": 12,
   "id": "c2266b4b",
   "metadata": {},
   "outputs": [],
   "source": [
    "#find our search key to use\n",
    "json_data=json.loads(initial_data)\n",
    "#pprint(json_data)"
   ]
  },
  {
   "cell_type": "code",
   "execution_count": 13,
   "id": "433efefb",
   "metadata": {},
   "outputs": [
    {
     "data": {
      "text/plain": [
       "'9ccab53fe070c5b95c2fa417d46cb2f5652d6e3a'"
      ]
     },
     "execution_count": 13,
     "metadata": {},
     "output_type": "execute_result"
    }
   ],
   "source": [
    "json_data['search_key']"
   ]
  },
  {
   "cell_type": "code",
   "execution_count": 14,
   "id": "595dd150",
   "metadata": {},
   "outputs": [],
   "source": [
    "url = \"https://www.hemnet.se/bostader/search/\"+json_data['search_key']\n",
    "\n",
    "params= {}\n",
    "\n",
    "payload={}\n",
    "\n",
    "headers = {\n",
    "    'User-Agent': 'Mozilla/5.0 (Windows NT 6.1; WOW64) AppleWebKit/537.36 (KHTML, like Gecko) Chrome/56.0.2924.76 Safari/537.36'\n",
    "}\n",
    "\n",
    "response = requests.request(\"GET\", url, headers=headers, data=payload, params=params)\n",
    "\n",
    "#print(response.text)"
   ]
  },
  {
   "cell_type": "code",
   "execution_count": 15,
   "id": "b75bc8ca",
   "metadata": {},
   "outputs": [],
   "source": [
    "#print(response.text)"
   ]
  },
  {
   "cell_type": "code",
   "execution_count": 16,
   "id": "8eacad2f",
   "metadata": {},
   "outputs": [],
   "source": [
    "r_json = response.json()\n",
    "\n",
    "#pprint(r_json)"
   ]
  },
  {
   "cell_type": "code",
   "execution_count": 17,
   "id": "65fcf23f",
   "metadata": {},
   "outputs": [],
   "source": [
    "\n",
    "r_prop = r_json['properties']\n",
    "#r_prop"
   ]
  },
  {
   "cell_type": "code",
   "execution_count": 18,
   "id": "e0ff4702",
   "metadata": {},
   "outputs": [
    {
     "data": {
      "text/html": [
       "<div>\n",
       "<style scoped>\n",
       "    .dataframe tbody tr th:only-of-type {\n",
       "        vertical-align: middle;\n",
       "    }\n",
       "\n",
       "    .dataframe tbody tr th {\n",
       "        vertical-align: top;\n",
       "    }\n",
       "\n",
       "    .dataframe thead th {\n",
       "        text-align: right;\n",
       "    }\n",
       "</style>\n",
       "<table border=\"1\" class=\"dataframe\">\n",
       "  <thead>\n",
       "    <tr style=\"text-align: right;\">\n",
       "      <th></th>\n",
       "      <th>id</th>\n",
       "      <th>coordinate</th>\n",
       "      <th>address</th>\n",
       "      <th>location_name</th>\n",
       "      <th>typeSummary</th>\n",
       "      <th>iconName</th>\n",
       "      <th>project</th>\n",
       "      <th>new_construction</th>\n",
       "      <th>ongoing_bidding</th>\n",
       "      <th>foreclosure</th>\n",
       "      <th>...</th>\n",
       "      <th>locations_string</th>\n",
       "      <th>should_display_showings</th>\n",
       "      <th>should_highlight_showings</th>\n",
       "      <th>living_space.table</th>\n",
       "      <th>trackingData.listingId</th>\n",
       "      <th>trackingData.listingType</th>\n",
       "      <th>trackingData.listingPackageType</th>\n",
       "      <th>trackingData.listingState</th>\n",
       "      <th>trackingData.listingStatus</th>\n",
       "      <th>price_change</th>\n",
       "    </tr>\n",
       "  </thead>\n",
       "  <tbody>\n",
       "    <tr>\n",
       "      <th>0</th>\n",
       "      <td>19326036</td>\n",
       "      <td>[59.3239, 18.006191]</td>\n",
       "      <td>Strålgatan 19</td>\n",
       "      <td>Stockholms kommun</td>\n",
       "      <td>Bostadsrättslägenhet</td>\n",
       "      <td>bostadsratt</td>\n",
       "      <td>False</td>\n",
       "      <td>False</td>\n",
       "      <td>False</td>\n",
       "      <td>False</td>\n",
       "      <td>...</td>\n",
       "      <td>Lilla Essingen - Kungsholmen, Stockholms kommun</td>\n",
       "      <td>False</td>\n",
       "      <td>False</td>\n",
       "      <td>{'living_area': '58 m²', 'supplemental_area': ...</td>\n",
       "      <td>19326036</td>\n",
       "      <td>common_listing</td>\n",
       "      <td>not_selected</td>\n",
       "      <td>active</td>\n",
       "      <td>for_sale</td>\n",
       "      <td>NaN</td>\n",
       "    </tr>\n",
       "    <tr>\n",
       "      <th>1</th>\n",
       "      <td>19325274</td>\n",
       "      <td>[59.32441, 18.005714]</td>\n",
       "      <td>Strålgatan 8, 2 tr</td>\n",
       "      <td>Stockholms kommun</td>\n",
       "      <td>Bostadsrättslägenhet</td>\n",
       "      <td>bostadsratt</td>\n",
       "      <td>False</td>\n",
       "      <td>False</td>\n",
       "      <td>False</td>\n",
       "      <td>False</td>\n",
       "      <td>...</td>\n",
       "      <td>Lilla Essingen - Kungsholmen, Stockholms kommun</td>\n",
       "      <td>False</td>\n",
       "      <td>False</td>\n",
       "      <td>{'living_area': '54 m²', 'supplemental_area': ...</td>\n",
       "      <td>19325274</td>\n",
       "      <td>common_listing</td>\n",
       "      <td>not_selected</td>\n",
       "      <td>active</td>\n",
       "      <td>for_sale</td>\n",
       "      <td>NaN</td>\n",
       "    </tr>\n",
       "    <tr>\n",
       "      <th>2</th>\n",
       "      <td>19277882</td>\n",
       "      <td>[59.3244369, 18.0033101]</td>\n",
       "      <td>Strålgatan 45, 3 tr</td>\n",
       "      <td>Stockholms kommun</td>\n",
       "      <td>Bostadsrättslägenhet</td>\n",
       "      <td>bostadsratt</td>\n",
       "      <td>False</td>\n",
       "      <td>False</td>\n",
       "      <td>False</td>\n",
       "      <td>False</td>\n",
       "      <td>...</td>\n",
       "      <td>Kungsholmen - Lilla Essingen, Stockholms kommun</td>\n",
       "      <td>False</td>\n",
       "      <td>False</td>\n",
       "      <td>{'living_area': '42 m²', 'supplemental_area': ...</td>\n",
       "      <td>19277882</td>\n",
       "      <td>common_listing</td>\n",
       "      <td>basic</td>\n",
       "      <td>active</td>\n",
       "      <td>for_sale</td>\n",
       "      <td>NaN</td>\n",
       "    </tr>\n",
       "  </tbody>\n",
       "</table>\n",
       "<p>3 rows × 39 columns</p>\n",
       "</div>"
      ],
      "text/plain": [
       "         id                coordinate              address      location_name  \\\n",
       "0  19326036      [59.3239, 18.006191]        Strålgatan 19  Stockholms kommun   \n",
       "1  19325274     [59.32441, 18.005714]   Strålgatan 8, 2 tr  Stockholms kommun   \n",
       "2  19277882  [59.3244369, 18.0033101]  Strålgatan 45, 3 tr  Stockholms kommun   \n",
       "\n",
       "            typeSummary     iconName  project  new_construction  \\\n",
       "0  Bostadsrättslägenhet  bostadsratt    False             False   \n",
       "1  Bostadsrättslägenhet  bostadsratt    False             False   \n",
       "2  Bostadsrättslägenhet  bostadsratt    False             False   \n",
       "\n",
       "   ongoing_bidding  foreclosure  ...  \\\n",
       "0            False        False  ...   \n",
       "1            False        False  ...   \n",
       "2            False        False  ...   \n",
       "\n",
       "                                  locations_string should_display_showings  \\\n",
       "0  Lilla Essingen - Kungsholmen, Stockholms kommun                   False   \n",
       "1  Lilla Essingen - Kungsholmen, Stockholms kommun                   False   \n",
       "2  Kungsholmen - Lilla Essingen, Stockholms kommun                   False   \n",
       "\n",
       "  should_highlight_showings  \\\n",
       "0                     False   \n",
       "1                     False   \n",
       "2                     False   \n",
       "\n",
       "                                  living_space.table trackingData.listingId  \\\n",
       "0  {'living_area': '58 m²', 'supplemental_area': ...               19326036   \n",
       "1  {'living_area': '54 m²', 'supplemental_area': ...               19325274   \n",
       "2  {'living_area': '42 m²', 'supplemental_area': ...               19277882   \n",
       "\n",
       "  trackingData.listingType trackingData.listingPackageType  \\\n",
       "0           common_listing                    not_selected   \n",
       "1           common_listing                    not_selected   \n",
       "2           common_listing                           basic   \n",
       "\n",
       "   trackingData.listingState  trackingData.listingStatus price_change  \n",
       "0                     active                    for_sale          NaN  \n",
       "1                     active                    for_sale          NaN  \n",
       "2                     active                    for_sale          NaN  \n",
       "\n",
       "[3 rows x 39 columns]"
      ]
     },
     "execution_count": 18,
     "metadata": {},
     "output_type": "execute_result"
    }
   ],
   "source": [
    "#this output should prob be filtered some to drop crappy columns\n",
    "df=pd.json_normalize(r_prop, max_level=1)\n",
    "df.head(3)"
   ]
  },
  {
   "cell_type": "code",
   "execution_count": 19,
   "id": "c5cf5171",
   "metadata": {},
   "outputs": [
    {
     "data": {
      "text/plain": [
       "(14, 39)"
      ]
     },
     "execution_count": 19,
     "metadata": {},
     "output_type": "execute_result"
    }
   ],
   "source": [
    "df.shape"
   ]
  },
  {
   "cell_type": "code",
   "execution_count": 20,
   "id": "be4410a5",
   "metadata": {},
   "outputs": [
    {
     "data": {
      "text/plain": [
       "19326036"
      ]
     },
     "execution_count": 20,
     "metadata": {},
     "output_type": "execute_result"
    }
   ],
   "source": [
    "#call graphql directly from listing with ids - example with one id only but can set into a loop\n",
    "ql_id=df.iloc[0]['id']\n",
    "ql_id"
   ]
  },
  {
   "cell_type": "code",
   "execution_count": 21,
   "id": "7f2b718e",
   "metadata": {},
   "outputs": [],
   "source": [
    "url_ql = \"https://www.hemnet.se/graphql\"\n",
    "\n",
    "#would love to have payload_ql string formatted better but not really sure how without breaking it\n",
    "payload_ql=\"{\\\"query\\\":\\\"query imagesForListing($id: ID!) {\\\\r\\\\n    listing(id: $id) \\\\r\\\\n    {  id  __typename  streetAddress  isSaved  brokerAgency \\\\r\\\\n    {    name    id    brokerCustomization \\\\r\\\\n    {      compactLogoUrl      largeLogoUrl: logoUrl(format: BROKER_CUSTOMIZATION_LARGE)      __typename    \\\\r\\\\n    }    __typename  }  ... on ActivePropertyListing \\\\r\\\\n    {    liveStreams(scope: ENDED) \\\\r\\\\n    {      embedUrl      __typename    \\\\r\\\\n    }    videoAttachment: attachment(type: VIDEO) \\\\r\\\\n    {      id      attachmentType      ... on VideoAttachment {     videoHemnetUrl        __typename     }\\\\r\\\\n          __typename    \\\\r\\\\n    }    threeDAttachment: attachment(type: THREE_D) {\\\\r\\\\n              id      ... on ThreeDAttachment {\\\\r\\\\n                          url        __typename      \\\\r\\\\n                          }      __typename    }\\\\r\\\\n                              isForeclosure    listingBrokerGalleryUrl    images(limit: 500) {\\\\r\\\\n                                        images {\\\\r\\\\n                                                    url(format: ITEMGALLERY_CUT)        portraitUrl: url(format: ITEMGALLERY_PORTRAIT_CUT)        fullscreenUrl: url(format: WIDTH1024)        originalHeight        originalWidth        labels        __typename      }      __typename    }    __typename  }  ... on ProjectUnit {    liveStreams(scope: ENDED) {      embedUrl      __typename    }    videoAttachment: attachment(type: VIDEO) {      id      attachmentType      ... on VideoAttachment {        videoHemnetUrl        __typename      }      __typename    }    threeDAttachment: attachment(type: THREE_D) {      id      ... on ThreeDAttachment {        url        __typename      }      __typename    }    isForeclosure    listingBrokerGalleryUrl    images(limit: 500) {      images {        url(format: ITEMGALLERY_CUT)        portraitUrl: url(format: ITEMGALLERY_PORTRAIT_CUT)        fullscreenUrl: url(format: WIDTH1024)        originalHeight        originalWidth        labels        __typename      }      __typename    }    __typename  }\\\\r\\\\n    }\\\\r\\\\n    }\\\",\\\"variables\\\":{\\\"id\\\":\"+str(ql_id)+\"}}\"\n",
    "\n",
    "headers_ql = {\n",
    "  'Content-Type': 'application/json',\n",
    "  'User-Agent': 'Mozilla/5.0 (Windows NT 6.1; WOW64) AppleWebKit/537.36 (KHTML, like Gecko) Chrome/56.0.2924.76 Safari/537.36'\n",
    "}\n",
    "\n",
    "response_ql = requests.request(\"POST\", url_ql, headers=headers_ql, data=payload_ql)\n",
    "\n",
    "#print(response_ql.text)\n",
    "ql_path=response_ql.json()['data']['listing']['images']['images']\n",
    "\n",
    "ql_df=pd.json_normalize(ql_path)\n",
    "#ql_df"
   ]
  },
  {
   "cell_type": "code",
   "execution_count": 22,
   "id": "bfb026f6",
   "metadata": {},
   "outputs": [
    {
     "data": {
      "text/html": [
       "<img src=\"https://bilder.hemnet.se/images/itemgallery_cut/d8/e0/d8e07042a3d7be783f1bd4b3394a8ede.jpg\" width=\"300\"/>"
      ],
      "text/plain": [
       "<IPython.core.display.Image object>"
      ]
     },
     "metadata": {},
     "output_type": "display_data"
    },
    {
     "data": {
      "text/html": [
       "<img src=\"https://bilder.hemnet.se/images/itemgallery_cut/ef/af/efaf8f79c50a7419738ae3a510720050.jpg\" width=\"300\"/>"
      ],
      "text/plain": [
       "<IPython.core.display.Image object>"
      ]
     },
     "metadata": {},
     "output_type": "display_data"
    },
    {
     "data": {
      "text/html": [
       "<img src=\"https://bilder.hemnet.se/images/itemgallery_cut/5c/57/5c576f464722b5a0a069da2d9cdeba66.jpg\" width=\"300\"/>"
      ],
      "text/plain": [
       "<IPython.core.display.Image object>"
      ]
     },
     "metadata": {},
     "output_type": "display_data"
    },
    {
     "data": {
      "text/html": [
       "<img src=\"https://bilder.hemnet.se/images/itemgallery_cut/3a/e8/3ae8ccd66d31824c482a84aa0c2b5f58.jpg\" width=\"300\"/>"
      ],
      "text/plain": [
       "<IPython.core.display.Image object>"
      ]
     },
     "metadata": {},
     "output_type": "display_data"
    },
    {
     "data": {
      "text/html": [
       "<img src=\"https://bilder.hemnet.se/images/itemgallery_cut/d6/30/d630a4a15fcf4e12284e6908b6c47906.jpg\" width=\"300\"/>"
      ],
      "text/plain": [
       "<IPython.core.display.Image object>"
      ]
     },
     "metadata": {},
     "output_type": "display_data"
    },
    {
     "data": {
      "text/html": [
       "<img src=\"https://bilder.hemnet.se/images/itemgallery_cut/a3/a1/a3a1af3cadeea5bf9c36d277ad939d47.png\" width=\"300\"/>"
      ],
      "text/plain": [
       "<IPython.core.display.Image object>"
      ]
     },
     "metadata": {},
     "output_type": "display_data"
    },
    {
     "data": {
      "text/html": [
       "<img src=\"https://bilder.hemnet.se/images/itemgallery_cut/b5/14/b5141e3933b02d3fdd03dc686cf4376d.jpg\" width=\"300\"/>"
      ],
      "text/plain": [
       "<IPython.core.display.Image object>"
      ]
     },
     "metadata": {},
     "output_type": "display_data"
    },
    {
     "data": {
      "text/html": [
       "<img src=\"https://bilder.hemnet.se/images/itemgallery_cut/28/62/2862bbfd691aaa2e573f841676a2d0c6.jpg\" width=\"300\"/>"
      ],
      "text/plain": [
       "<IPython.core.display.Image object>"
      ]
     },
     "metadata": {},
     "output_type": "display_data"
    },
    {
     "data": {
      "text/html": [
       "<img src=\"https://bilder.hemnet.se/images/itemgallery_cut/0b/47/0b4756532b46778cf31ec228db97d597.jpg\" width=\"300\"/>"
      ],
      "text/plain": [
       "<IPython.core.display.Image object>"
      ]
     },
     "metadata": {},
     "output_type": "display_data"
    },
    {
     "data": {
      "text/html": [
       "<img src=\"https://bilder.hemnet.se/images/itemgallery_cut/ba/4e/ba4e9f15147e00463482e8fba608eaa8.jpg\" width=\"300\"/>"
      ],
      "text/plain": [
       "<IPython.core.display.Image object>"
      ]
     },
     "metadata": {},
     "output_type": "display_data"
    },
    {
     "data": {
      "text/html": [
       "<img src=\"https://bilder.hemnet.se/images/itemgallery_cut/b4/e8/b4e82e0260443b7d1c0fd53cc1ebb9b8.jpg\" width=\"300\"/>"
      ],
      "text/plain": [
       "<IPython.core.display.Image object>"
      ]
     },
     "metadata": {},
     "output_type": "display_data"
    },
    {
     "data": {
      "text/html": [
       "<img src=\"https://bilder.hemnet.se/images/itemgallery_cut/35/ff/35ff01198f4eabadecab4ba944957214.jpg\" width=\"300\"/>"
      ],
      "text/plain": [
       "<IPython.core.display.Image object>"
      ]
     },
     "metadata": {},
     "output_type": "display_data"
    },
    {
     "data": {
      "text/html": [
       "<img src=\"https://bilder.hemnet.se/images/itemgallery_cut/dc/e2/dce2ed179de12d36e9cdace2f98fba16.jpg\" width=\"300\"/>"
      ],
      "text/plain": [
       "<IPython.core.display.Image object>"
      ]
     },
     "metadata": {},
     "output_type": "display_data"
    },
    {
     "data": {
      "text/html": [
       "<img src=\"https://bilder.hemnet.se/images/itemgallery_cut/75/1a/751adc5e8d6258ba862c21d0fcf3818a.jpg\" width=\"300\"/>"
      ],
      "text/plain": [
       "<IPython.core.display.Image object>"
      ]
     },
     "metadata": {},
     "output_type": "display_data"
    },
    {
     "data": {
      "text/html": [
       "<img src=\"https://bilder.hemnet.se/images/itemgallery_cut/f2/60/f260ff74ce84844fec0677761cde2368.jpg\" width=\"300\"/>"
      ],
      "text/plain": [
       "<IPython.core.display.Image object>"
      ]
     },
     "metadata": {},
     "output_type": "display_data"
    },
    {
     "data": {
      "text/html": [
       "<img src=\"https://bilder.hemnet.se/images/itemgallery_cut/86/f3/86f3742e852b268c578ee4acc026bdad.jpg\" width=\"300\"/>"
      ],
      "text/plain": [
       "<IPython.core.display.Image object>"
      ]
     },
     "metadata": {},
     "output_type": "display_data"
    },
    {
     "data": {
      "text/html": [
       "<img src=\"https://bilder.hemnet.se/images/itemgallery_cut/8c/88/8c8853919628b3e39e8b896e252ad8dc.jpg\" width=\"300\"/>"
      ],
      "text/plain": [
       "<IPython.core.display.Image object>"
      ]
     },
     "metadata": {},
     "output_type": "display_data"
    },
    {
     "data": {
      "text/html": [
       "<img src=\"https://bilder.hemnet.se/images/itemgallery_cut/97/10/97104c9324485d8a4786e6ba1b6b6e04.jpg\" width=\"300\"/>"
      ],
      "text/plain": [
       "<IPython.core.display.Image object>"
      ]
     },
     "metadata": {},
     "output_type": "display_data"
    },
    {
     "data": {
      "text/html": [
       "<img src=\"https://bilder.hemnet.se/images/itemgallery_cut/47/3e/473e206d1630b11821774e648ec590c6.jpg\" width=\"300\"/>"
      ],
      "text/plain": [
       "<IPython.core.display.Image object>"
      ]
     },
     "metadata": {},
     "output_type": "display_data"
    },
    {
     "data": {
      "text/html": [
       "<img src=\"https://bilder.hemnet.se/images/itemgallery_cut/51/ee/51ee518e6caa2d729be7b45d63afac57.jpg\" width=\"300\"/>"
      ],
      "text/plain": [
       "<IPython.core.display.Image object>"
      ]
     },
     "metadata": {},
     "output_type": "display_data"
    },
    {
     "data": {
      "text/html": [
       "<img src=\"https://bilder.hemnet.se/images/itemgallery_cut/ef/e2/efe2733820eafd8e9b122258f81a23c1.jpg\" width=\"300\"/>"
      ],
      "text/plain": [
       "<IPython.core.display.Image object>"
      ]
     },
     "metadata": {},
     "output_type": "display_data"
    },
    {
     "data": {
      "text/html": [
       "<img src=\"https://bilder.hemnet.se/images/itemgallery_cut/4f/e3/4fe3c289fb0ad2ff38dcc4b1310ac26d.jpg\" width=\"300\"/>"
      ],
      "text/plain": [
       "<IPython.core.display.Image object>"
      ]
     },
     "metadata": {},
     "output_type": "display_data"
    },
    {
     "data": {
      "text/html": [
       "<img src=\"https://bilder.hemnet.se/images/itemgallery_cut/0b/82/0b8282c59e52bb5f20228306ce2f11ab.jpg\" width=\"300\"/>"
      ],
      "text/plain": [
       "<IPython.core.display.Image object>"
      ]
     },
     "metadata": {},
     "output_type": "display_data"
    },
    {
     "data": {
      "text/html": [
       "<img src=\"https://bilder.hemnet.se/images/itemgallery_cut/9e/32/9e32735a74ebd88458a9655a2ea2542e.jpg\" width=\"300\"/>"
      ],
      "text/plain": [
       "<IPython.core.display.Image object>"
      ]
     },
     "metadata": {},
     "output_type": "display_data"
    },
    {
     "data": {
      "text/html": [
       "<img src=\"https://bilder.hemnet.se/images/itemgallery_cut/b2/85/b2858bff2ea148abc369fa82792fc244.jpg\" width=\"300\"/>"
      ],
      "text/plain": [
       "<IPython.core.display.Image object>"
      ]
     },
     "metadata": {},
     "output_type": "display_data"
    },
    {
     "data": {
      "text/html": [
       "<img src=\"https://bilder.hemnet.se/images/itemgallery_cut/07/6c/076c71093956934e1a01fb073fcdf33e.jpg\" width=\"300\"/>"
      ],
      "text/plain": [
       "<IPython.core.display.Image object>"
      ]
     },
     "metadata": {},
     "output_type": "display_data"
    },
    {
     "data": {
      "text/html": [
       "<img src=\"https://bilder.hemnet.se/images/itemgallery_cut/96/51/9651d43dd3ecf5a828017d1e855e1ece.jpg\" width=\"300\"/>"
      ],
      "text/plain": [
       "<IPython.core.display.Image object>"
      ]
     },
     "metadata": {},
     "output_type": "display_data"
    },
    {
     "data": {
      "text/html": [
       "<img src=\"https://bilder.hemnet.se/images/itemgallery_cut/c7/0b/c70bee2e8e5d0aa1656084ca03a44eb7.jpg\" width=\"300\"/>"
      ],
      "text/plain": [
       "<IPython.core.display.Image object>"
      ]
     },
     "metadata": {},
     "output_type": "display_data"
    },
    {
     "data": {
      "text/html": [
       "<img src=\"https://bilder.hemnet.se/images/itemgallery_cut/10/6c/106c97bfa6973a845b944be8393475d5.jpg\" width=\"300\"/>"
      ],
      "text/plain": [
       "<IPython.core.display.Image object>"
      ]
     },
     "metadata": {},
     "output_type": "display_data"
    },
    {
     "data": {
      "text/html": [
       "<img src=\"https://bilder.hemnet.se/images/itemgallery_cut/c6/a4/c6a43f769e9d841e4d7af9063b5d0d8d.jpg\" width=\"300\"/>"
      ],
      "text/plain": [
       "<IPython.core.display.Image object>"
      ]
     },
     "metadata": {},
     "output_type": "display_data"
    },
    {
     "data": {
      "text/html": [
       "<img src=\"https://bilder.hemnet.se/images/itemgallery_cut/a1/bc/a1bce214020cfe0a6317f17736745b5e.jpg\" width=\"300\"/>"
      ],
      "text/plain": [
       "<IPython.core.display.Image object>"
      ]
     },
     "metadata": {},
     "output_type": "display_data"
    },
    {
     "data": {
      "text/html": [
       "<img src=\"https://bilder.hemnet.se/images/itemgallery_cut/da/06/da063915583ca13e8cc0a1ecca0bf955.jpg\" width=\"300\"/>"
      ],
      "text/plain": [
       "<IPython.core.display.Image object>"
      ]
     },
     "metadata": {},
     "output_type": "display_data"
    },
    {
     "data": {
      "text/html": [
       "<img src=\"https://bilder.hemnet.se/images/itemgallery_cut/98/d6/98d63fb92130c4af735783ecb9a59b68.jpg\" width=\"300\"/>"
      ],
      "text/plain": [
       "<IPython.core.display.Image object>"
      ]
     },
     "metadata": {},
     "output_type": "display_data"
    },
    {
     "data": {
      "text/html": [
       "<img src=\"https://bilder.hemnet.se/images/itemgallery_cut/88/d3/88d3f66b6f43591b9c8fae5d4a1b5aa1.jpg\" width=\"300\"/>"
      ],
      "text/plain": [
       "<IPython.core.display.Image object>"
      ]
     },
     "metadata": {},
     "output_type": "display_data"
    },
    {
     "data": {
      "text/html": [
       "<img src=\"https://bilder.hemnet.se/images/itemgallery_cut/fe/99/fe99387a5340d7fef5ecde06d7a93361.jpg\" width=\"300\"/>"
      ],
      "text/plain": [
       "<IPython.core.display.Image object>"
      ]
     },
     "metadata": {},
     "output_type": "display_data"
    },
    {
     "data": {
      "text/html": [
       "<img src=\"https://bilder.hemnet.se/images/itemgallery_cut/e7/af/e7af17c0c50fdc2b19b2135851125f0c.jpg\" width=\"300\"/>"
      ],
      "text/plain": [
       "<IPython.core.display.Image object>"
      ]
     },
     "metadata": {},
     "output_type": "display_data"
    },
    {
     "data": {
      "text/html": [
       "<img src=\"https://bilder.hemnet.se/images/itemgallery_cut/a5/12/a512179ebe6b243338afe5678b154bcc.jpg\" width=\"300\"/>"
      ],
      "text/plain": [
       "<IPython.core.display.Image object>"
      ]
     },
     "metadata": {},
     "output_type": "display_data"
    },
    {
     "data": {
      "text/html": [
       "<img src=\"https://bilder.hemnet.se/images/itemgallery_cut/02/16/02160de5657da3bd09a42754cc4a5427.jpg\" width=\"300\"/>"
      ],
      "text/plain": [
       "<IPython.core.display.Image object>"
      ]
     },
     "metadata": {},
     "output_type": "display_data"
    },
    {
     "data": {
      "text/html": [
       "<img src=\"https://bilder.hemnet.se/images/itemgallery_cut/d3/cd/d3cdd1db26822fe4f0add1080e567c38.jpg\" width=\"300\"/>"
      ],
      "text/plain": [
       "<IPython.core.display.Image object>"
      ]
     },
     "metadata": {},
     "output_type": "display_data"
    },
    {
     "data": {
      "text/html": [
       "<img src=\"https://bilder.hemnet.se/images/itemgallery_cut/fb/d3/fbd38787c0ef2cff502d13bb343f625b.jpg\" width=\"300\"/>"
      ],
      "text/plain": [
       "<IPython.core.display.Image object>"
      ]
     },
     "metadata": {},
     "output_type": "display_data"
    },
    {
     "data": {
      "text/html": [
       "<img src=\"https://bilder.hemnet.se/images/itemgallery_cut/e6/33/e6336f27691672fc59ee06f36983bd95.jpg\" width=\"300\"/>"
      ],
      "text/plain": [
       "<IPython.core.display.Image object>"
      ]
     },
     "metadata": {},
     "output_type": "display_data"
    },
    {
     "data": {
      "text/html": [
       "<img src=\"https://bilder.hemnet.se/images/itemgallery_cut/f0/24/f024ee89aa9558058478969c8ecbf9a1.jpg\" width=\"300\"/>"
      ],
      "text/plain": [
       "<IPython.core.display.Image object>"
      ]
     },
     "metadata": {},
     "output_type": "display_data"
    },
    {
     "data": {
      "text/html": [
       "<img src=\"https://bilder.hemnet.se/images/itemgallery_cut/85/f0/85f03e733a0a8947a4e6a1cdaab58e5f.jpg\" width=\"300\"/>"
      ],
      "text/plain": [
       "<IPython.core.display.Image object>"
      ]
     },
     "metadata": {},
     "output_type": "display_data"
    },
    {
     "data": {
      "text/html": [
       "<img src=\"https://bilder.hemnet.se/images/itemgallery_cut/00/fe/00fecbeb1f98911f7fc07e1f084a6a69.jpg\" width=\"300\"/>"
      ],
      "text/plain": [
       "<IPython.core.display.Image object>"
      ]
     },
     "metadata": {},
     "output_type": "display_data"
    },
    {
     "data": {
      "text/html": [
       "<img src=\"https://bilder.hemnet.se/images/itemgallery_cut/ce/0e/ce0e233dd393116285c2b122cc4339c0.jpg\" width=\"300\"/>"
      ],
      "text/plain": [
       "<IPython.core.display.Image object>"
      ]
     },
     "metadata": {},
     "output_type": "display_data"
    },
    {
     "data": {
      "text/html": [
       "<img src=\"https://bilder.hemnet.se/images/itemgallery_cut/d5/f1/d5f15b576b8ae91f5a78e311f98fffaa.jpg\" width=\"300\"/>"
      ],
      "text/plain": [
       "<IPython.core.display.Image object>"
      ]
     },
     "metadata": {},
     "output_type": "display_data"
    },
    {
     "data": {
      "text/html": [
       "<img src=\"https://bilder.hemnet.se/images/itemgallery_cut/99/8b/998b58cf85fd6c7601dfe553bee8a86d.jpg\" width=\"300\"/>"
      ],
      "text/plain": [
       "<IPython.core.display.Image object>"
      ]
     },
     "metadata": {},
     "output_type": "display_data"
    },
    {
     "data": {
      "text/html": [
       "<img src=\"https://bilder.hemnet.se/images/itemgallery_cut/eb/4a/eb4a6766bdbc07e750c0897497efb88c.jpg\" width=\"300\"/>"
      ],
      "text/plain": [
       "<IPython.core.display.Image object>"
      ]
     },
     "metadata": {},
     "output_type": "display_data"
    },
    {
     "data": {
      "text/html": [
       "<img src=\"https://bilder.hemnet.se/images/itemgallery_cut/23/eb/23eb26682b1c78cc09d7dfae76d1a02c.jpg\" width=\"300\"/>"
      ],
      "text/plain": [
       "<IPython.core.display.Image object>"
      ]
     },
     "metadata": {},
     "output_type": "display_data"
    },
    {
     "data": {
      "text/html": [
       "<img src=\"https://bilder.hemnet.se/images/itemgallery_cut/8d/e7/8de7ec6d79c2ccb458ac61dd8cd4189c.jpg\" width=\"300\"/>"
      ],
      "text/plain": [
       "<IPython.core.display.Image object>"
      ]
     },
     "metadata": {},
     "output_type": "display_data"
    },
    {
     "data": {
      "text/html": [
       "<img src=\"https://bilder.hemnet.se/images/itemgallery_cut/a0/b6/a0b675fb7e51398076466f37111dec6c.jpg\" width=\"300\"/>"
      ],
      "text/plain": [
       "<IPython.core.display.Image object>"
      ]
     },
     "metadata": {},
     "output_type": "display_data"
    },
    {
     "data": {
      "text/html": [
       "<img src=\"https://bilder.hemnet.se/images/itemgallery_cut/42/1e/421ec7014207d056563f0fe9e4672987.jpg\" width=\"300\"/>"
      ],
      "text/plain": [
       "<IPython.core.display.Image object>"
      ]
     },
     "metadata": {},
     "output_type": "display_data"
    },
    {
     "data": {
      "text/html": [
       "<img src=\"https://bilder.hemnet.se/images/itemgallery_cut/91/21/91218e151c71c657c9229e37c05ffe8c.jpg\" width=\"300\"/>"
      ],
      "text/plain": [
       "<IPython.core.display.Image object>"
      ]
     },
     "metadata": {},
     "output_type": "display_data"
    },
    {
     "data": {
      "text/html": [
       "<img src=\"https://bilder.hemnet.se/images/itemgallery_cut/02/45/0245a53038b5fbded30bf1b1327f274f.jpg\" width=\"300\"/>"
      ],
      "text/plain": [
       "<IPython.core.display.Image object>"
      ]
     },
     "metadata": {},
     "output_type": "display_data"
    },
    {
     "data": {
      "text/html": [
       "<img src=\"https://bilder.hemnet.se/images/itemgallery_cut/b7/76/b77696db80fe6279ec8479ae3d986b1a.jpg\" width=\"300\"/>"
      ],
      "text/plain": [
       "<IPython.core.display.Image object>"
      ]
     },
     "metadata": {},
     "output_type": "display_data"
    },
    {
     "data": {
      "text/html": [
       "<img src=\"https://bilder.hemnet.se/images/itemgallery_cut/50/de/50dea8feaf2e7b0ba30cd9ff80930da6.jpg\" width=\"300\"/>"
      ],
      "text/plain": [
       "<IPython.core.display.Image object>"
      ]
     },
     "metadata": {},
     "output_type": "display_data"
    },
    {
     "data": {
      "text/html": [
       "<img src=\"https://bilder.hemnet.se/images/itemgallery_cut/67/47/674753fdd09cbad3ac539933746e2ce5.jpg\" width=\"300\"/>"
      ],
      "text/plain": [
       "<IPython.core.display.Image object>"
      ]
     },
     "metadata": {},
     "output_type": "display_data"
    },
    {
     "data": {
      "text/html": [
       "<img src=\"https://bilder.hemnet.se/images/itemgallery_cut/70/84/7084187d5ab5fa7ae9e944e327310984.jpg\" width=\"300\"/>"
      ],
      "text/plain": [
       "<IPython.core.display.Image object>"
      ]
     },
     "metadata": {},
     "output_type": "display_data"
    },
    {
     "data": {
      "text/html": [
       "<img src=\"https://bilder.hemnet.se/images/itemgallery_cut/c9/3f/c93f233372f686aa833086ce348c0151.jpg\" width=\"300\"/>"
      ],
      "text/plain": [
       "<IPython.core.display.Image object>"
      ]
     },
     "metadata": {},
     "output_type": "display_data"
    },
    {
     "data": {
      "text/html": [
       "<img src=\"https://bilder.hemnet.se/images/itemgallery_cut/4d/c5/4dc526b59b12cb267a393732d46d02e7.jpg\" width=\"300\"/>"
      ],
      "text/plain": [
       "<IPython.core.display.Image object>"
      ]
     },
     "metadata": {},
     "output_type": "display_data"
    }
   ],
   "source": [
    "#print all images from listing item\n",
    "from IPython.display import Image\n",
    "for index,row in ql_df.iterrows():\n",
    "   display(Image(url=row['url'], width=300))"
   ]
  },
  {
   "cell_type": "code",
   "execution_count": null,
   "id": "19c0873b",
   "metadata": {},
   "outputs": [],
   "source": []
  }
 ],
 "metadata": {
  "kernelspec": {
   "display_name": "Python 3 (ipykernel)",
   "language": "python",
   "name": "python3"
  },
  "language_info": {
   "codemirror_mode": {
    "name": "ipython",
    "version": 3
   },
   "file_extension": ".py",
   "mimetype": "text/x-python",
   "name": "python",
   "nbconvert_exporter": "python",
   "pygments_lexer": "ipython3",
   "version": "3.10.0"
  },
  "vscode": {
   "interpreter": {
    "hash": "0a7ccb16110ce14ed3efea9a494288ae5ce82bd2448893b7f736893aef85df94"
   }
  }
 },
 "nbformat": 4,
 "nbformat_minor": 5
}
